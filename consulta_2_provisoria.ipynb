{
 "cells": [
  {
   "cell_type": "markdown",
   "id": "cda3c2ce",
   "metadata": {},
   "source": [
    "## Análisis Nacidos Vivos Registrados 2018"
   ]
  },
  {
   "cell_type": "markdown",
   "id": "16718668",
   "metadata": {},
   "source": [
    "---\n",
    "## RECOLECCIÓN Y PREPARACIÓN DE DATOS"
   ]
  },
  {
   "cell_type": "code",
   "execution_count": 1,
   "id": "80ce79e0",
   "metadata": {},
   "outputs": [],
   "source": [
    "# Carga de librerías\n",
    "import pandas as pd\n",
    "import matplotlib.pyplot as plt"
   ]
  },
  {
   "cell_type": "code",
   "execution_count": 2,
   "id": "de58643b",
   "metadata": {},
   "outputs": [],
   "source": [
    "# Carga de datos\n",
    "df = pd.read_csv('src/nacidos-vivos-registrados-2018_deis.csv')"
   ]
  },
  {
   "cell_type": "markdown",
   "id": "98409c66",
   "metadata": {},
   "source": [
    "---\n",
    "## ANÁLISIS EXPLORATORIO"
   ]
  },
  {
   "cell_type": "code",
   "execution_count": 3,
   "id": "fd5ca9b5",
   "metadata": {},
   "outputs": [
    {
     "data": {
      "text/html": [
       "<div>\n",
       "<style scoped>\n",
       "    .dataframe tbody tr th:only-of-type {\n",
       "        vertical-align: middle;\n",
       "    }\n",
       "\n",
       "    .dataframe tbody tr th {\n",
       "        vertical-align: top;\n",
       "    }\n",
       "\n",
       "    .dataframe thead th {\n",
       "        text-align: right;\n",
       "    }\n",
       "</style>\n",
       "<table border=\"1\" class=\"dataframe\">\n",
       "  <thead>\n",
       "    <tr style=\"text-align: right;\">\n",
       "      <th></th>\n",
       "      <th>jurisdiccion_de_residencia_id</th>\n",
       "      <th>jurisdiccion_de_residencia_nombre</th>\n",
       "      <th>tipo_de_parto_id</th>\n",
       "      <th>tipo_de_parto_nombre</th>\n",
       "      <th>sexo</th>\n",
       "      <th>sexo_nombre</th>\n",
       "      <th>edad_de_la_madre_grupos_id</th>\n",
       "      <th>edad_de_la_madre_grupos_nombre</th>\n",
       "      <th>semanas_de_gestacion_id</th>\n",
       "      <th>semanas_de_gestacion_nombre</th>\n",
       "      <th>instruccion_de_la_madre_id</th>\n",
       "      <th>instruccion_de_la_madre_nombre</th>\n",
       "      <th>Intervalos_de_peso_al_nacer_id</th>\n",
       "      <th>intervalos_de_peso_al_nacer_nombre</th>\n",
       "      <th>cantidad_nacimientos</th>\n",
       "    </tr>\n",
       "  </thead>\n",
       "  <tbody>\n",
       "    <tr>\n",
       "      <th>0</th>\n",
       "      <td>34</td>\n",
       "      <td>Formosa</td>\n",
       "      <td>1</td>\n",
       "      <td>Simple</td>\n",
       "      <td>2</td>\n",
       "      <td>Mujer</td>\n",
       "      <td>4</td>\n",
       "      <td>25 a 29</td>\n",
       "      <td>5</td>\n",
       "      <td>32 a 36</td>\n",
       "      <td>3</td>\n",
       "      <td>Primaria/C. EGB Completa</td>\n",
       "      <td>5</td>\n",
       "      <td>2000 a 2499</td>\n",
       "      <td>3</td>\n",
       "    </tr>\n",
       "    <tr>\n",
       "      <th>1</th>\n",
       "      <td>2</td>\n",
       "      <td>Ciudad Aut. de Buenos Aires</td>\n",
       "      <td>1</td>\n",
       "      <td>Simple</td>\n",
       "      <td>1</td>\n",
       "      <td>Varón</td>\n",
       "      <td>7</td>\n",
       "      <td>40 a 44</td>\n",
       "      <td>6</td>\n",
       "      <td>37 a 41</td>\n",
       "      <td>3</td>\n",
       "      <td>Primaria/C. EGB Completa</td>\n",
       "      <td>6</td>\n",
       "      <td>2500 a 2999</td>\n",
       "      <td>13</td>\n",
       "    </tr>\n",
       "    <tr>\n",
       "      <th>2</th>\n",
       "      <td>6</td>\n",
       "      <td>Buenos Aires</td>\n",
       "      <td>1</td>\n",
       "      <td>Simple</td>\n",
       "      <td>1</td>\n",
       "      <td>Varón</td>\n",
       "      <td>5</td>\n",
       "      <td>30 a 34</td>\n",
       "      <td>8</td>\n",
       "      <td>Sin especificar</td>\n",
       "      <td>7</td>\n",
       "      <td>Terciaria/Universitaria Comple</td>\n",
       "      <td>4</td>\n",
       "      <td>1500 a 1999</td>\n",
       "      <td>1</td>\n",
       "    </tr>\n",
       "    <tr>\n",
       "      <th>3</th>\n",
       "      <td>82</td>\n",
       "      <td>Santa Fe</td>\n",
       "      <td>1</td>\n",
       "      <td>Simple</td>\n",
       "      <td>2</td>\n",
       "      <td>Mujer</td>\n",
       "      <td>6</td>\n",
       "      <td>35 a 39</td>\n",
       "      <td>6</td>\n",
       "      <td>37 a 41</td>\n",
       "      <td>7</td>\n",
       "      <td>Terciaria/Universitaria Comple</td>\n",
       "      <td>5</td>\n",
       "      <td>2000 a 2499</td>\n",
       "      <td>30</td>\n",
       "    </tr>\n",
       "    <tr>\n",
       "      <th>4</th>\n",
       "      <td>74</td>\n",
       "      <td>San Luis</td>\n",
       "      <td>1</td>\n",
       "      <td>Simple</td>\n",
       "      <td>1</td>\n",
       "      <td>Varón</td>\n",
       "      <td>6</td>\n",
       "      <td>35 a 39</td>\n",
       "      <td>5</td>\n",
       "      <td>32 a 36</td>\n",
       "      <td>5</td>\n",
       "      <td>Secundaria/Polimodal Completa</td>\n",
       "      <td>6</td>\n",
       "      <td>2500 a 2999</td>\n",
       "      <td>4</td>\n",
       "    </tr>\n",
       "  </tbody>\n",
       "</table>\n",
       "</div>"
      ],
      "text/plain": [
       "   jurisdiccion_de_residencia_id jurisdiccion_de_residencia_nombre  \\\n",
       "0                             34                           Formosa   \n",
       "1                              2       Ciudad Aut. de Buenos Aires   \n",
       "2                              6                      Buenos Aires   \n",
       "3                             82                          Santa Fe   \n",
       "4                             74                          San Luis   \n",
       "\n",
       "   tipo_de_parto_id tipo_de_parto_nombre  sexo sexo_nombre  \\\n",
       "0                 1               Simple     2       Mujer   \n",
       "1                 1               Simple     1       Varón   \n",
       "2                 1               Simple     1       Varón   \n",
       "3                 1               Simple     2       Mujer   \n",
       "4                 1               Simple     1       Varón   \n",
       "\n",
       "   edad_de_la_madre_grupos_id edad_de_la_madre_grupos_nombre  \\\n",
       "0                           4                        25 a 29   \n",
       "1                           7                        40 a 44   \n",
       "2                           5                        30 a 34   \n",
       "3                           6                        35 a 39   \n",
       "4                           6                        35 a 39   \n",
       "\n",
       "   semanas_de_gestacion_id semanas_de_gestacion_nombre  \\\n",
       "0                        5                     32 a 36   \n",
       "1                        6                     37 a 41   \n",
       "2                        8             Sin especificar   \n",
       "3                        6                     37 a 41   \n",
       "4                        5                     32 a 36   \n",
       "\n",
       "   instruccion_de_la_madre_id  instruccion_de_la_madre_nombre  \\\n",
       "0                           3        Primaria/C. EGB Completa   \n",
       "1                           3        Primaria/C. EGB Completa   \n",
       "2                           7  Terciaria/Universitaria Comple   \n",
       "3                           7  Terciaria/Universitaria Comple   \n",
       "4                           5   Secundaria/Polimodal Completa   \n",
       "\n",
       "   Intervalos_de_peso_al_nacer_id intervalos_de_peso_al_nacer_nombre  \\\n",
       "0                               5                        2000 a 2499   \n",
       "1                               6                        2500 a 2999   \n",
       "2                               4                        1500 a 1999   \n",
       "3                               5                        2000 a 2499   \n",
       "4                               6                        2500 a 2999   \n",
       "\n",
       "   cantidad_nacimientos  \n",
       "0                     3  \n",
       "1                    13  \n",
       "2                     1  \n",
       "3                    30  \n",
       "4                     4  "
      ]
     },
     "execution_count": 3,
     "metadata": {},
     "output_type": "execute_result"
    }
   ],
   "source": [
    "df.head()"
   ]
  },
  {
   "cell_type": "code",
   "execution_count": 4,
   "id": "ab307d08",
   "metadata": {
    "scrolled": false
   },
   "outputs": [
    {
     "name": "stdout",
     "output_type": "stream",
     "text": [
      "<class 'pandas.core.frame.DataFrame'>\n",
      "RangeIndex: 30099 entries, 0 to 30098\n",
      "Data columns (total 15 columns):\n",
      " #   Column                              Non-Null Count  Dtype \n",
      "---  ------                              --------------  ----- \n",
      " 0   jurisdiccion_de_residencia_id       30099 non-null  int64 \n",
      " 1   jurisdiccion_de_residencia_nombre   30099 non-null  object\n",
      " 2   tipo_de_parto_id                    30099 non-null  int64 \n",
      " 3   tipo_de_parto_nombre                30099 non-null  object\n",
      " 4   sexo                                30099 non-null  int64 \n",
      " 5   sexo_nombre                         30099 non-null  object\n",
      " 6   edad_de_la_madre_grupos_id          30099 non-null  int64 \n",
      " 7   edad_de_la_madre_grupos_nombre      30099 non-null  object\n",
      " 8   semanas_de_gestacion_id             30099 non-null  int64 \n",
      " 9   semanas_de_gestacion_nombre         30099 non-null  object\n",
      " 10  instruccion_de_la_madre_id          30099 non-null  int64 \n",
      " 11  instruccion_de_la_madre_nombre      30099 non-null  object\n",
      " 12  Intervalos_de_peso_al_nacer_id      30099 non-null  int64 \n",
      " 13  intervalos_de_peso_al_nacer_nombre  30099 non-null  object\n",
      " 14  cantidad_nacimientos                30099 non-null  int64 \n",
      "dtypes: int64(8), object(7)\n",
      "memory usage: 3.4+ MB\n"
     ]
    }
   ],
   "source": [
    "df.info()"
   ]
  },
  {
   "cell_type": "markdown",
   "id": "8cf4eb15",
   "metadata": {},
   "source": [
    "---\n",
    "## PROCESAMIENTO Y ANÁLISIS DE DATOS"
   ]
  },
  {
   "cell_type": "markdown",
   "id": "c4b5ca56",
   "metadata": {},
   "source": [
    "#### Lista que contiene los niveles de instrucción organizados de forma jerárquica:"
   ]
  },
  {
   "cell_type": "code",
   "execution_count": 5,
   "id": "7d276b22",
   "metadata": {},
   "outputs": [
    {
     "name": "stdout",
     "output_type": "stream",
     "text": [
      "{3: 'Primaria/C. EGB Completa', 7: 'Terciaria/Universitaria Comple', 5: 'Secundaria/Polimodal Completa', 2: 'Primaria/C. EGB Incompleta', 8: 'Sin especificar', 4: 'Secundaria/Polimodal Incomplet', 6: 'Terciaria/Universitaria Incomp', 1: 'Sin instrucción'}\n",
      "['Sin instrucción', 'Primaria/C. EGB Incompleta', 'Primaria/C. EGB Completa', 'Secundaria/Polimodal Incomplet', 'Secundaria/Polimodal Completa', 'Terciaria/Universitaria Incomp', 'Terciaria/Universitaria Comple', 'Sin especificar']\n"
     ]
    }
   ],
   "source": [
    "#Enlazo los id instrucción con su correspondiente nombre según orden de aparición:\n",
    "instruccion_id = df['instruccion_de_la_madre_id'].unique()\n",
    "instruccion_nombre = df['instruccion_de_la_madre_nombre'].unique()\n",
    "\n",
    "instruccion_id_nombre = {}\n",
    "for i in range(len(instruccion_id)):\n",
    "   instruccion_id_nombre[instruccion_id[i]] = instruccion_nombre[i]\n",
    "\n",
    "#Los reorganizo según nivel de instrucción:\n",
    "instruccion_nombres_organizados = []\n",
    "for i in range(len(instruccion_id_nombre)):\n",
    "    instruccion_nombres_organizados.append(instruccion_id_nombre[i+1])\n",
    "\n",
    "print(instruccion_id_nombre)\n",
    "print(instruccion_nombres_organizados)"
   ]
  },
  {
   "cell_type": "markdown",
   "id": "f422aafa",
   "metadata": {},
   "source": [
    "#### Lista que contiene los grupos etarios organizados de menor a mayor:"
   ]
  },
  {
   "cell_type": "code",
   "execution_count": 6,
   "id": "58e97c37",
   "metadata": {},
   "outputs": [
    {
     "name": "stdout",
     "output_type": "stream",
     "text": [
      "['Menor de 15', '15 a 19', '20 a 24', '25 a 29', '30 a 34', '35 a 39', '40 a 44', 'De 45 y más', 'Sin especificar']\n"
     ]
    }
   ],
   "source": [
    "#Enlazo los id de grupos etarios con su correspondiente nombre según orden de aparición:\n",
    "edad_id = df['edad_de_la_madre_grupos_id'].unique()\n",
    "edad_rango = df['edad_de_la_madre_grupos_nombre'].unique()\n",
    "\n",
    "edad_id_rango = {}\n",
    "for i in range(len(edad_id)):\n",
    "    edad_id_rango[edad_id[i]] = edad_rango[i]\n",
    "\n",
    "#Los reorganizo de menor a mayor:\n",
    "edad_id_rango_organizado = []\n",
    "for i in range(len(edad_id_rango)):\n",
    "    edad_id_rango_organizado.append(edad_id_rango[i+1])\n",
    "\n",
    "print(edad_id_rango_organizado)"
   ]
  },
  {
   "cell_type": "markdown",
   "id": "108b4874",
   "metadata": {},
   "source": [
    "---\n",
    "## CONSULTAS Y GRÁFICOS"
   ]
  },
  {
   "cell_type": "markdown",
   "id": "65647fb8",
   "metadata": {},
   "source": [
    "### Consulta: Cantidad de Nacimientos por nivel de instrucción"
   ]
  },
  {
   "cell_type": "code",
   "execution_count": 7,
   "id": "7687213c",
   "metadata": {},
   "outputs": [
    {
     "name": "stdout",
     "output_type": "stream",
     "text": [
      "instruccion_de_la_madre_id\n",
      "1      1726\n",
      "2     22305\n",
      "3    102035\n",
      "4    161474\n",
      "5    205616\n",
      "6     44745\n",
      "7     95637\n",
      "8     51856\n",
      "Name: cantidad_nacimientos, dtype: int64\n"
     ]
    }
   ],
   "source": [
    "# Agrupar según nivel de instrucción y sumar los nacimientos correspondientes a cada nivel:\n",
    "nacimientos_x_instruccion = df.groupby('instruccion_de_la_madre_id')['cantidad_nacimientos'].sum()\n",
    "\n",
    "print(nacimientos_x_instruccion)"
   ]
  },
  {
   "cell_type": "code",
   "execution_count": 8,
   "id": "0f43c5e7",
   "metadata": {},
   "outputs": [
    {
     "name": "stdout",
     "output_type": "stream",
     "text": [
      "[0.25, 3.25, 14.89, 23.56, 30.0, 6.53, 13.95, 7.57]\n"
     ]
    }
   ],
   "source": [
    "#Calculo los porcentajes de nacimientos según orden de instrucción:\n",
    "total_nacimientos = nacimientos_x_instruccion.sum()\n",
    "\n",
    "porcentajes_nacimientos_instruccion = []\n",
    "for i in range(len(nacimientos_x_instruccion)):\n",
    "    porcentaje = nacimientos_x_instruccion[i+1]*100/total_nacimientos\n",
    "    porcentaje = round(porcentaje, 2)\n",
    "    porcentajes_nacimientos_instruccion.append(porcentaje)\n",
    "\n",
    "print(porcentajes_nacimientos_instruccion)"
   ]
  },
  {
   "cell_type": "code",
   "execution_count": 9,
   "id": "0ea61e9c",
   "metadata": {},
   "outputs": [
    {
     "data": {
      "image/png": "[encoded data removed]",
      "text/plain": [
       "<Figure size 576x432 with 1 Axes>"
      ]
     },
     "metadata": {
      "needs_background": "light"
     },
     "output_type": "display_data"
    }
   ],
   "source": [
    "#Gráfico cantidad de nacimientos según nivel de instrucción:\n",
    "plt.figure(figsize=(8, 6))\n",
    "grafico = plt.bar(range(len(instruccion_nombres_organizados)), list(nacimientos_x_instruccion))\n",
    "plt.xticks(range(len(instruccion_nombres_organizados)), instruccion_nombres_organizados, rotation='vertical')\n",
    "plt.title('Cantidad de Nacimientos por Nivel de Instrucción')\n",
    "plt.xlabel('Nivel de Instrucción')\n",
    "plt.ylabel('Nacimientos')\n",
    "\n",
    "#Coloco los porcentajes sobre las barras:\n",
    "i = 0\n",
    "for barra in grafico:\n",
    "    ancho = barra.get_width()\n",
    "    alto = barra.get_height()\n",
    "    x, y = barra.get_xy()\n",
    "    \n",
    "    plt.text(x+ancho/2, y+alto*1.01, str(porcentajes_nacimientos_instruccion[i])+\"%\", ha='center')\n",
    "    i += 1\n",
    "\n",
    "plt.show()"
   ]
  },
  {
   "cell_type": "markdown",
   "id": "5cc08155",
   "metadata": {},
   "source": [
    "### Consulta: Comparativa de nacimientos según edad de la madre para máximos y mínimos niveles educativos"
   ]
  },
  {
   "cell_type": "code",
   "execution_count": 10,
   "id": "15a30f02",
   "metadata": {},
   "outputs": [
    {
     "name": "stdout",
     "output_type": "stream",
     "text": [
      "instruccion_de_la_madre_id  edad_de_la_madre_grupos_id\n",
      "1                           1                               17\n",
      "                            2                              232\n",
      "                            3                              391\n",
      "                            4                              375\n",
      "                            5                              350\n",
      "                                                          ... \n",
      "8                           5                             8896\n",
      "                            6                             5658\n",
      "                            7                             1558\n",
      "                            8                              114\n",
      "                            9                             5398\n",
      "Name: cantidad_nacimientos, Length: 69, dtype: int64\n"
     ]
    }
   ],
   "source": [
    "#Agrupar según nivel de instrucción y edad y sumar los nacimientos correspondientes a cada combinación\n",
    "nacimientos_instruccion_edad = df.groupby(['instruccion_de_la_madre_id', 'edad_de_la_madre_grupos_id'])['cantidad_nacimientos'].sum()\n",
    "\n",
    "print(nacimientos_instruccion_edad)"
   ]
  },
  {
   "cell_type": "code",
   "execution_count": 11,
   "id": "45887d0d",
   "metadata": {},
   "outputs": [
    {
     "name": "stdout",
     "output_type": "stream",
     "text": [
      "[2147, 62616, 81347, 62569, 41422, 26118, 7979, 526, 2816]\n",
      "[0, 15732, 70978, 89133, 90361, 59733, 15329, 1287, 3445]\n"
     ]
    }
   ],
   "source": [
    "#Función que suma los nacimientos según edades para el rango de instrucción determinado:\n",
    "def suma_nacimientos_xedad_xinstruccion(min_instruccion, max_instruccion):\n",
    "    suma_nxexi = []\n",
    "    for i in range(len(edad_id_rango_organizado)):\n",
    "        nacimientos = 0\n",
    "        for nivel_instruccion in range(min_instruccion, max_instruccion):\n",
    "            try:\n",
    "                nacimientos += nacimientos_instruccion_edad[nivel_instruccion][i+1]\n",
    "            except KeyError:\n",
    "                nacimientos += 0\n",
    "        suma_nxexi.append(nacimientos)\n",
    "    return suma_nxexi\n",
    "\n",
    "#Calculo la sumatoria de nacimientos para rangos de baja y alta instrucción:\n",
    "\n",
    "# 1 - Sin Instrucción\n",
    "# 2 - Primaria Incompleta, 3 - Primaria Completa\n",
    "# 4 - Secundaria Incompleta, 5 - Secundaria Completa\n",
    "# 6 - Terciario Incompleto, 7 - Terciario Completo\n",
    "# 8 - Sin especificar\n",
    "\n",
    "#Baja instrucción: Sin instrucción a Secundario Incompleto\n",
    "suma_nxe_instruccion_baja = suma_nacimientos_xedad_xinstruccion(1, 5)\n",
    "\n",
    "#Alta instrucción: Secundario Completo a Terciario Completo\n",
    "suma_nxe_instruccion_alta = suma_nacimientos_xedad_xinstruccion(5, 8)\n",
    "\n",
    "print(suma_nxe_instruccion_baja)\n",
    "print(suma_nxe_instruccion_alta)"
   ]
  },
  {
   "cell_type": "code",
   "execution_count": 12,
   "id": "5f873916",
   "metadata": {},
   "outputs": [
    {
     "data": {
      "image/png": "[encoded data removed]",
      "text/plain": [
       "<Figure size 576x432 with 1 Axes>"
      ]
     },
     "metadata": {
      "needs_background": "light"
     },
     "output_type": "display_data"
    }
   ],
   "source": [
    "#Gráfico de cantidad de nacimientos según edades para baja y alta instrucción:\n",
    "plt.figure(figsize=(8, 6))\n",
    "plt.plot(range(len(edad_id_rango_organizado)), suma_nxe_instruccion_baja, color='r', label='Baja instrucción')\n",
    "plt.plot(suma_nxe_instruccion_alta, color='b', label='Alta instrucción')\n",
    "plt.xticks(range(len(edad_id_rango_organizado)), edad_id_rango_organizado, rotation='vertical')\n",
    "plt.title('Comparativa nacimientos por edades según instrucción')\n",
    "plt.xlabel('Edades')\n",
    "plt.ylabel('Nacimientos')\n",
    "plt.legend()\n",
    "plt.show()"
   ]
  },
  {
   "cell_type": "markdown",
   "id": "d0af8eaf",
   "metadata": {},
   "source": [
    "---\n",
    "## CONCLUSIONES:\n"
   ]
  },
  {
   "cell_type": "code",
   "execution_count": null,
   "id": "30b129df",
   "metadata": {},
   "outputs": [],
   "source": []
  }
 ],
 "metadata": {
  "kernelspec": {
   "display_name": "Python 3 (ipykernel)",
   "language": "python",
   "name": "python3"
  },
  "language_info": {
   "codemirror_mode": {
    "name": "ipython",
    "version": 3
   },
   "file_extension": ".py",
   "mimetype": "text/x-python",
   "name": "python",
   "nbconvert_exporter": "python",
   "pygments_lexer": "ipython3",
   "version": "3.9.12"
  }
 },
 "nbformat": 4,
 "nbformat_minor": 5
}
