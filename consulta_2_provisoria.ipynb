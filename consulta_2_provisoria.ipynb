{
 "cells": [
  {
   "cell_type": "markdown",
   "id": "cda3c2ce",
   "metadata": {},
   "source": [
    "## Análisis Nacidos Vivos Registrados 2018"
   ]
  },
  {
   "cell_type": "code",
   "execution_count": 5,
   "id": "80ce79e0",
   "metadata": {},
   "outputs": [],
   "source": [
    "# Carga de librerías\n",
    "import pandas as pd\n",
    "import matplotlib.pyplot as plt"
   ]
  },
  {
   "cell_type": "code",
   "execution_count": 6,
   "id": "de58643b",
   "metadata": {},
   "outputs": [],
   "source": [
    "# Carga de datos\n",
    "df = pd.read_csv('src/nacidos-vivos-registrados-2018_deis.csv')"
   ]
  },
  {
   "cell_type": "markdown",
   "id": "98409c66",
   "metadata": {},
   "source": [
    "### Visualización de datos raw"
   ]
  },
  {
   "cell_type": "code",
   "execution_count": 7,
   "id": "fd5ca9b5",
   "metadata": {},
   "outputs": [
    {
     "data": {
      "text/html": [
       "<div>\n",
       "<style scoped>\n",
       "    .dataframe tbody tr th:only-of-type {\n",
       "        vertical-align: middle;\n",
       "    }\n",
       "\n",
       "    .dataframe tbody tr th {\n",
       "        vertical-align: top;\n",
       "    }\n",
       "\n",
       "    .dataframe thead th {\n",
       "        text-align: right;\n",
       "    }\n",
       "</style>\n",
       "<table border=\"1\" class=\"dataframe\">\n",
       "  <thead>\n",
       "    <tr style=\"text-align: right;\">\n",
       "      <th></th>\n",
       "      <th>jurisdiccion_de_residencia_id</th>\n",
       "      <th>jurisdiccion_de_residencia_nombre</th>\n",
       "      <th>tipo_de_parto_id</th>\n",
       "      <th>tipo_de_parto_nombre</th>\n",
       "      <th>sexo</th>\n",
       "      <th>sexo_nombre</th>\n",
       "      <th>edad_de_la_madre_grupos_id</th>\n",
       "      <th>edad_de_la_madre_grupos_nombre</th>\n",
       "      <th>semanas_de_gestacion_id</th>\n",
       "      <th>semanas_de_gestacion_nombre</th>\n",
       "      <th>instruccion_de_la_madre_id</th>\n",
       "      <th>instruccion_de_la_madre_nombre</th>\n",
       "      <th>Intervalos_de_peso_al_nacer_id</th>\n",
       "      <th>intervalos_de_peso_al_nacer_nombre</th>\n",
       "      <th>cantidad_nacimientos</th>\n",
       "    </tr>\n",
       "  </thead>\n",
       "  <tbody>\n",
       "    <tr>\n",
       "      <th>0</th>\n",
       "      <td>34</td>\n",
       "      <td>Formosa</td>\n",
       "      <td>1</td>\n",
       "      <td>Simple</td>\n",
       "      <td>2</td>\n",
       "      <td>Mujer</td>\n",
       "      <td>4</td>\n",
       "      <td>25 a 29</td>\n",
       "      <td>5</td>\n",
       "      <td>32 a 36</td>\n",
       "      <td>3</td>\n",
       "      <td>Primaria/C. EGB Completa</td>\n",
       "      <td>5</td>\n",
       "      <td>2000 a 2499</td>\n",
       "      <td>3</td>\n",
       "    </tr>\n",
       "    <tr>\n",
       "      <th>1</th>\n",
       "      <td>2</td>\n",
       "      <td>Ciudad Aut. de Buenos Aires</td>\n",
       "      <td>1</td>\n",
       "      <td>Simple</td>\n",
       "      <td>1</td>\n",
       "      <td>Varón</td>\n",
       "      <td>7</td>\n",
       "      <td>40 a 44</td>\n",
       "      <td>6</td>\n",
       "      <td>37 a 41</td>\n",
       "      <td>3</td>\n",
       "      <td>Primaria/C. EGB Completa</td>\n",
       "      <td>6</td>\n",
       "      <td>2500 a 2999</td>\n",
       "      <td>13</td>\n",
       "    </tr>\n",
       "    <tr>\n",
       "      <th>2</th>\n",
       "      <td>6</td>\n",
       "      <td>Buenos Aires</td>\n",
       "      <td>1</td>\n",
       "      <td>Simple</td>\n",
       "      <td>1</td>\n",
       "      <td>Varón</td>\n",
       "      <td>5</td>\n",
       "      <td>30 a 34</td>\n",
       "      <td>8</td>\n",
       "      <td>Sin especificar</td>\n",
       "      <td>7</td>\n",
       "      <td>Terciaria/Universitaria Comple</td>\n",
       "      <td>4</td>\n",
       "      <td>1500 a 1999</td>\n",
       "      <td>1</td>\n",
       "    </tr>\n",
       "    <tr>\n",
       "      <th>3</th>\n",
       "      <td>82</td>\n",
       "      <td>Santa Fe</td>\n",
       "      <td>1</td>\n",
       "      <td>Simple</td>\n",
       "      <td>2</td>\n",
       "      <td>Mujer</td>\n",
       "      <td>6</td>\n",
       "      <td>35 a 39</td>\n",
       "      <td>6</td>\n",
       "      <td>37 a 41</td>\n",
       "      <td>7</td>\n",
       "      <td>Terciaria/Universitaria Comple</td>\n",
       "      <td>5</td>\n",
       "      <td>2000 a 2499</td>\n",
       "      <td>30</td>\n",
       "    </tr>\n",
       "    <tr>\n",
       "      <th>4</th>\n",
       "      <td>74</td>\n",
       "      <td>San Luis</td>\n",
       "      <td>1</td>\n",
       "      <td>Simple</td>\n",
       "      <td>1</td>\n",
       "      <td>Varón</td>\n",
       "      <td>6</td>\n",
       "      <td>35 a 39</td>\n",
       "      <td>5</td>\n",
       "      <td>32 a 36</td>\n",
       "      <td>5</td>\n",
       "      <td>Secundaria/Polimodal Completa</td>\n",
       "      <td>6</td>\n",
       "      <td>2500 a 2999</td>\n",
       "      <td>4</td>\n",
       "    </tr>\n",
       "  </tbody>\n",
       "</table>\n",
       "</div>"
      ],
      "text/plain": [
       "   jurisdiccion_de_residencia_id jurisdiccion_de_residencia_nombre  \\\n",
       "0                             34                           Formosa   \n",
       "1                              2       Ciudad Aut. de Buenos Aires   \n",
       "2                              6                      Buenos Aires   \n",
       "3                             82                          Santa Fe   \n",
       "4                             74                          San Luis   \n",
       "\n",
       "   tipo_de_parto_id tipo_de_parto_nombre  sexo sexo_nombre  \\\n",
       "0                 1               Simple     2       Mujer   \n",
       "1                 1               Simple     1       Varón   \n",
       "2                 1               Simple     1       Varón   \n",
       "3                 1               Simple     2       Mujer   \n",
       "4                 1               Simple     1       Varón   \n",
       "\n",
       "   edad_de_la_madre_grupos_id edad_de_la_madre_grupos_nombre  \\\n",
       "0                           4                        25 a 29   \n",
       "1                           7                        40 a 44   \n",
       "2                           5                        30 a 34   \n",
       "3                           6                        35 a 39   \n",
       "4                           6                        35 a 39   \n",
       "\n",
       "   semanas_de_gestacion_id semanas_de_gestacion_nombre  \\\n",
       "0                        5                     32 a 36   \n",
       "1                        6                     37 a 41   \n",
       "2                        8             Sin especificar   \n",
       "3                        6                     37 a 41   \n",
       "4                        5                     32 a 36   \n",
       "\n",
       "   instruccion_de_la_madre_id  instruccion_de_la_madre_nombre  \\\n",
       "0                           3        Primaria/C. EGB Completa   \n",
       "1                           3        Primaria/C. EGB Completa   \n",
       "2                           7  Terciaria/Universitaria Comple   \n",
       "3                           7  Terciaria/Universitaria Comple   \n",
       "4                           5   Secundaria/Polimodal Completa   \n",
       "\n",
       "   Intervalos_de_peso_al_nacer_id intervalos_de_peso_al_nacer_nombre  \\\n",
       "0                               5                        2000 a 2499   \n",
       "1                               6                        2500 a 2999   \n",
       "2                               4                        1500 a 1999   \n",
       "3                               5                        2000 a 2499   \n",
       "4                               6                        2500 a 2999   \n",
       "\n",
       "   cantidad_nacimientos  \n",
       "0                     3  \n",
       "1                    13  \n",
       "2                     1  \n",
       "3                    30  \n",
       "4                     4  "
      ]
     },
     "execution_count": 7,
     "metadata": {},
     "output_type": "execute_result"
    }
   ],
   "source": [
    "df.head()"
   ]
  },
  {
   "cell_type": "code",
   "execution_count": 8,
   "id": "ab307d08",
   "metadata": {},
   "outputs": [
    {
     "name": "stdout",
     "output_type": "stream",
     "text": [
      "<class 'pandas.core.frame.DataFrame'>\n",
      "RangeIndex: 30099 entries, 0 to 30098\n",
      "Data columns (total 15 columns):\n",
      " #   Column                              Non-Null Count  Dtype \n",
      "---  ------                              --------------  ----- \n",
      " 0   jurisdiccion_de_residencia_id       30099 non-null  int64 \n",
      " 1   jurisdiccion_de_residencia_nombre   30099 non-null  object\n",
      " 2   tipo_de_parto_id                    30099 non-null  int64 \n",
      " 3   tipo_de_parto_nombre                30099 non-null  object\n",
      " 4   sexo                                30099 non-null  int64 \n",
      " 5   sexo_nombre                         30099 non-null  object\n",
      " 6   edad_de_la_madre_grupos_id          30099 non-null  int64 \n",
      " 7   edad_de_la_madre_grupos_nombre      30099 non-null  object\n",
      " 8   semanas_de_gestacion_id             30099 non-null  int64 \n",
      " 9   semanas_de_gestacion_nombre         30099 non-null  object\n",
      " 10  instruccion_de_la_madre_id          30099 non-null  int64 \n",
      " 11  instruccion_de_la_madre_nombre      30099 non-null  object\n",
      " 12  Intervalos_de_peso_al_nacer_id      30099 non-null  int64 \n",
      " 13  intervalos_de_peso_al_nacer_nombre  30099 non-null  object\n",
      " 14  cantidad_nacimientos                30099 non-null  int64 \n",
      "dtypes: int64(8), object(7)\n",
      "memory usage: 3.4+ MB\n"
     ]
    }
   ],
   "source": [
    "df.info()"
   ]
  },
  {
   "cell_type": "markdown",
   "id": "65647fb8",
   "metadata": {},
   "source": [
    "### Consulta 2: Cantidad de Nacimientos por nivel de instrucción"
   ]
  },
  {
   "cell_type": "code",
   "execution_count": 11,
   "id": "ba3f471a",
   "metadata": {},
   "outputs": [
    {
     "name": "stdout",
     "output_type": "stream",
     "text": [
      "[3 7 5 2 8 4 6 1]\n",
      "['Primaria/C. EGB Completa' 'Terciaria/Universitaria Comple'\n",
      " 'Secundaria/Polimodal Completa' 'Primaria/C. EGB Incompleta'\n",
      " 'Sin especificar' 'Secundaria/Polimodal Incomplet'\n",
      " 'Terciaria/Universitaria Incomp' 'Sin instrucción']\n"
     ]
    }
   ],
   "source": [
    "# Mostrar valores únicos de instrucción:\n",
    "print(df['instruccion_de_la_madre_id'].unique())\n",
    "print(df['instruccion_de_la_madre_nombre'].unique())"
   ]
  },
  {
   "cell_type": "code",
   "execution_count": 27,
   "id": "bc2f2def",
   "metadata": {},
   "outputs": [
    {
     "name": "stdout",
     "output_type": "stream",
     "text": [
      "instruccion_de_la_madre_nombre\n",
      "Primaria/C. EGB Completa          102035\n",
      "Primaria/C. EGB Incompleta         22305\n",
      "Secundaria/Polimodal Completa     205616\n",
      "Secundaria/Polimodal Incomplet    161474\n",
      "Sin especificar                    51856\n",
      "Sin instrucción                     1726\n",
      "Terciaria/Universitaria Comple     95637\n",
      "Terciaria/Universitaria Incomp     44745\n",
      "Name: cantidad_nacimientos, dtype: int64\n"
     ]
    }
   ],
   "source": [
    "# Agrupar según nivel de instrucción y sumar los nacimientos correspondientes a cada nivel:\n",
    "nacimientos_x_instruccion = df.groupby('instruccion_de_la_madre_nombre')['cantidad_nacimientos'].sum()\n",
    "print(nacimientos_x_instruccion)"
   ]
  },
  {
   "cell_type": "code",
   "execution_count": 28,
   "id": "9917ce91",
   "metadata": {},
   "outputs": [],
   "source": [
    "# Reorganizo las filas según el nivel educativo:\n"
   ]
  },
  {
   "cell_type": "code",
   "execution_count": 29,
   "id": "c0d35682",
   "metadata": {},
   "outputs": [
    {
     "data": {
      "image/png": "[encoded data removed]",
      "text/plain": [
       "<Figure size 432x288 with 1 Axes>"
      ]
     },
     "metadata": {
      "needs_background": "light"
     },
     "output_type": "display_data"
    }
   ],
   "source": [
    "# Gráfico: Nacimientos por nivel de instrucción\n",
    "nacimientos_x_instruccion.plot(kind='bar')\n",
    "plt.title('Cantidad de Nacimientos por Nivel de Instrucción')\n",
    "plt.xlabel('Nivel de Instrucción')\n",
    "plt.ylabel('Nacimientos')\n",
    "plt.show()"
   ]
  },
  {
   "cell_type": "code",
   "execution_count": null,
   "id": "77b1f17a",
   "metadata": {},
   "outputs": [],
   "source": []
  }
 ],
 "metadata": {
  "kernelspec": {
   "display_name": "Python 3 (ipykernel)",
   "language": "python",
   "name": "python3"
  },
  "language_info": {
   "codemirror_mode": {
    "name": "ipython",
    "version": 3
   },
   "file_extension": ".py",
   "mimetype": "text/x-python",
   "name": "python",
   "nbconvert_exporter": "python",
   "pygments_lexer": "ipython3",
   "version": "3.9.12"
  }
 },
 "nbformat": 4,
 "nbformat_minor": 5
}
