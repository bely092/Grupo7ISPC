{
  "nbformat": 4,
  "nbformat_minor": 0,
  "metadata": {
    "colab": {
      "provenance": [],
      "authorship_tag": "ABX9TyONT/XPT0Ev8SnNYQ4/Dhzs",
      "include_colab_link": true
    },
    "kernelspec": {
      "name": "python3",
      "display_name": "Python 3"
    },
    "language_info": {
      "name": "python"
    }
  },
  "cells": [
    {
      "cell_type": "markdown",
      "metadata": {
        "id": "view-in-github",
        "colab_type": "text"
      },
      "source": [
        "<a href=\"https://colab.research.google.com/github/gagabriela2787/Grupo7ISPC/blob/gabriela/consulta3.ipynb\" target=\"_parent\"><img src=\"https://colab.research.google.com/assets/colab-badge.svg\" alt=\"Open In Colab\"/></a>"
      ]
    },
    {
      "cell_type": "code",
      "execution_count": null,
      "metadata": {
        "id": "j_vYlFOM01CB"
      },
      "outputs": [],
      "source": []
    },
    {
      "cell_type": "markdown",
      "source": [
        "\n",
        "nacimientos_x_edades =\n",
        "df.groupby('columna_edad_id')['cant_nacimientos'].sum()\n",
        " agrupar según las franjas de edades y sumar el total de cada franja.\n",
        "  Podés hacer un print sobre la variable para ver la totalidad de los datos.\n",
        "\n",
        " usar la columna de 'edades id' así en el grupby quedan los datos ordenados\n",
        "\n",
        "A ese objeto 'groupby' lo recorrés como a cualquier array y acceder a cada dato particular. Si las franjas de 45 o más son las que tienen id(5 a 8)  simplemente sumás con un bucle:\n",
        "\n",
        "nacimientos_edades_altas = 0\n",
        "for i in range(5, 9):\n",
        "    nac... += nac..._x_edades[i]\n",
        "\n",
        "O en vez de sumar directamente podés sacar los datos en una lista para dsp analizar y graficar cada franja de edad alta por separado y comparar:\n",
        "\n",
        "nac_edad_alta = [nac..x_edad[5], nac..x_edad[6], nac..x_edad[7], ...]\n",
        "\n",
        "Si preferís sacar todos los datos 1ero y dsp recién discriminarlos podes hacer:\n",
        "\n",
        "nac_xfranjas = list(nac...x_edades)\n",
        "\n",
        "Y te devuelve todos los valores sumados. Cuidado con el tema del orden de las filas"
      ],
      "metadata": {
        "id": "lw_-hzmY010n"
      }
    },
    {
      "cell_type": "code",
      "source": [
        "import pandas as pd\n",
        "import matplotlib.pyplot as plt\n",
        "url =\"https://raw.githubusercontent.com/gagabriela2787/Grupo7ISPC/gabriela/nacidos-vivos-registrados-2018_deis.csv\"\n",
        "df = pd.read_csv(url, index_col=0)"
      ],
      "metadata": {
        "id": "QBRt6Z3i13ez"
      },
      "execution_count": 50,
      "outputs": []
    },
    {
      "cell_type": "code",
      "source": [
        "df.sample(30)"
      ],
      "metadata": {
        "id": "tTUTXl6z24_7"
      },
      "execution_count": null,
      "outputs": []
    },
    {
      "cell_type": "code",
      "source": [
        "rangoedadmama = df.groupby('edad_de_la_madre_grupos_id')['cantidad_nacimientos'].sum()"
      ],
      "metadata": {
        "id": "CRd_pHRA2wcu"
      },
      "execution_count": 52,
      "outputs": []
    },
    {
      "cell_type": "code",
      "source": [
        "rangoedadmama.head(9)"
      ],
      "metadata": {
        "id": "YBQuB8Hl3QwY",
        "colab": {
          "base_uri": "https://localhost:8080/"
        },
        "outputId": "9992f6c4-080f-4072-f6fb-60720ddafc50"
      },
      "execution_count": 53,
      "outputs": [
        {
          "output_type": "execute_result",
          "data": {
            "text/plain": [
              "edad_de_la_madre_grupos_id\n",
              "1      2350\n",
              "2     84768\n",
              "3    164480\n",
              "4    163156\n",
              "5    140679\n",
              "6     91509\n",
              "7     24866\n",
              "8      1927\n",
              "9     11659\n",
              "Name: cantidad_nacimientos, dtype: int64"
            ]
          },
          "metadata": {},
          "execution_count": 53
        }
      ]
    },
    {
      "cell_type": "code",
      "source": [
        "rangoedadmama.plot.barh()\n"
      ],
      "metadata": {
        "colab": {
          "base_uri": "https://localhost:8080/",
          "height": 448
        },
        "id": "pIm02pSSS2B5",
        "outputId": "6260b6c5-72cf-47b5-930a-9206a2cfa780"
      },
      "execution_count": 54,
      "outputs": [
        {
          "output_type": "execute_result",
          "data": {
            "text/plain": [
              "<Axes: ylabel='edad_de_la_madre_grupos_id'>"
            ]
          },
          "metadata": {},
          "execution_count": 54
        },
        {
          "output_type": "display_data",
          "data": {
            "text/plain": [
              "<Figure size 640x480 with 1 Axes>"
            ],
            "image/png": "[encoded data removed]"
          },
          "metadata": {}
        }
      ]
    },
    {
      "cell_type": "code",
      "source": [
        "rangoedadmama={}\n",
        "for i in range(len('edad_de_la_madre_grupos_id')):\n",
        "  rangoedadmama[edad_de_la_madre_grupos_id[i]] = cantidad_nacimientos[i]\n"
      ],
      "metadata": {
        "id": "W8T7IEqdNBZW"
      },
      "execution_count": null,
      "outputs": []
    },
    {
      "cell_type": "code",
      "source": [
        "#Enlazo los id de grupos etarios con su correspondiente nombre según orden de aparición:\n",
        "edad_id = df['edad_de_la_madre_grupos_id'].unique()\n",
        "edad_rango = df['edad_de_la_madre_grupos_nombre'].unique()\n",
        "\n",
        "edad_id_rango = {}\n",
        "for i in range(len(edad_id)):\n",
        "    edad_id_rango[edad_id[i]] = edad_rango[i]\n",
        "\n",
        "#Los reorganizo de menor a mayor:\n",
        "edad_id_rango_organizado = []\n",
        "for i in range(len(edad_id_rango)):\n",
        "    edad_id_rango_organizado.append(edad_id_rango[i+1])\n",
        "\n",
        "print(edad_id_rango_organizado)"
      ],
      "metadata": {
        "colab": {
          "base_uri": "https://localhost:8080/"
        },
        "id": "OKuBxbTjFzkH",
        "outputId": "361aa1fe-9f7b-447a-e726-2870615be51f"
      },
      "execution_count": null,
      "outputs": [
        {
          "output_type": "stream",
          "name": "stdout",
          "text": [
            "edad_de_la_madre_grupos_nombre\n"
          ]
        }
      ]
    },
    {
      "cell_type": "code",
      "source": [
        "#for i in range(len(\"edad_de_la_madre_grupos_id\")):\n",
        "\n",
        "edad_de_la_madre_grupos_id = 0\n",
        "for i in range(1):\n",
        "    edad_de_la_madre_grupos_id += edad_de_la_madre_grupos_nombre[i]"
      ],
      "metadata": {
        "colab": {
          "base_uri": "https://localhost:8080/",
          "height": 206
        },
        "id": "OhIkhyxiJZdT",
        "outputId": "03c4e76f-792b-433d-cde5-602f5c512a91"
      },
      "execution_count": null,
      "outputs": [
        {
          "output_type": "error",
          "ename": "NameError",
          "evalue": "ignored",
          "traceback": [
            "\u001b[0;31m---------------------------------------------------------------------------\u001b[0m",
            "\u001b[0;31mNameError\u001b[0m                                 Traceback (most recent call last)",
            "\u001b[0;32m<ipython-input-19-140c7c43155e>\u001b[0m in \u001b[0;36m<cell line: 4>\u001b[0;34m()\u001b[0m\n\u001b[1;32m      3\u001b[0m \u001b[0medad_de_la_madre_grupos_id\u001b[0m \u001b[0;34m=\u001b[0m \u001b[0;36m0\u001b[0m\u001b[0;34m\u001b[0m\u001b[0;34m\u001b[0m\u001b[0m\n\u001b[1;32m      4\u001b[0m \u001b[0;32mfor\u001b[0m \u001b[0mi\u001b[0m \u001b[0;32min\u001b[0m \u001b[0mrange\u001b[0m\u001b[0;34m(\u001b[0m\u001b[0;36m1\u001b[0m\u001b[0;34m)\u001b[0m\u001b[0;34m:\u001b[0m\u001b[0;34m\u001b[0m\u001b[0;34m\u001b[0m\u001b[0m\n\u001b[0;32m----> 5\u001b[0;31m     \u001b[0medad_de_la_madre_grupos_id\u001b[0m \u001b[0;34m+=\u001b[0m \u001b[0medad_de_la_madre_grupos_nombre\u001b[0m\u001b[0;34m[\u001b[0m\u001b[0mi\u001b[0m\u001b[0;34m]\u001b[0m\u001b[0;34m\u001b[0m\u001b[0;34m\u001b[0m\u001b[0m\n\u001b[0m",
            "\u001b[0;31mNameError\u001b[0m: name 'edad_de_la_madre_grupos_nombre' is not defined"
          ]
        }
      ]
    }
  ]
}