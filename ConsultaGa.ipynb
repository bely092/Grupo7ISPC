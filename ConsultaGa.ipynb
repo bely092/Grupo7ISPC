{
 "cells": [
  {
   "cell_type": "markdown",
   "id": "6d6e630b",
   "metadata": {},
   "source": [
    "## RECOLECCIÓN Y PREPARACIÓN DE DATOS"
   ]
  },
  {
   "cell_type": "code",
   "execution_count": 1,
   "id": "6730cf34",
   "metadata": {},
   "outputs": [],
   "source": [
    "#Importamos librerías\n",
    "import pandas as pd\n",
    "import matplotlib.pyplot as plt"
   ]
  },
  {
   "cell_type": "code",
   "execution_count": 2,
   "id": "d9175480",
   "metadata": {},
   "outputs": [],
   "source": [
    "#Carga de datos\n",
    "url = \"https://raw.githubusercontent.com/gagabriela2787/Grupo7ISPC/gabriela/nacidos-vivos-registrados-2018_deis.csv\"\n",
    "df = pd.read_csv(url, index_col=0)"
   ]
  },
  {
   "cell_type": "markdown",
   "id": "1265b042",
   "metadata": {},
   "source": [
    "## ANÁLISIS EXPLORATORIO"
   ]
  },
  {
   "cell_type": "code",
   "execution_count": 9,
   "id": "df5d6c35",
   "metadata": {},
   "outputs": [
    {
     "data": {
      "text/html": [
       "<div>\n",
       "<style scoped>\n",
       "    .dataframe tbody tr th:only-of-type {\n",
       "        vertical-align: middle;\n",
       "    }\n",
       "\n",
       "    .dataframe tbody tr th {\n",
       "        vertical-align: top;\n",
       "    }\n",
       "\n",
       "    .dataframe thead th {\n",
       "        text-align: right;\n",
       "    }\n",
       "</style>\n",
       "<table border=\"1\" class=\"dataframe\">\n",
       "  <thead>\n",
       "    <tr style=\"text-align: right;\">\n",
       "      <th></th>\n",
       "      <th>jurisdiccion_de_residencia_nombre</th>\n",
       "      <th>tipo_de_parto_id</th>\n",
       "      <th>tipo_de_parto_nombre</th>\n",
       "      <th>sexo</th>\n",
       "      <th>sexo_nombre</th>\n",
       "      <th>edad_de_la_madre_grupos_id</th>\n",
       "      <th>edad_de_la_madre_grupos_nombre</th>\n",
       "      <th>semanas_de_gestacion_id</th>\n",
       "      <th>semanas_de_gestacion_nombre</th>\n",
       "      <th>instruccion_de_la_madre_id</th>\n",
       "      <th>instruccion_de_la_madre_nombre</th>\n",
       "      <th>Intervalos_de_peso_al_nacer_id</th>\n",
       "      <th>intervalos_de_peso_al_nacer_nombre</th>\n",
       "      <th>cantidad_nacimientos</th>\n",
       "    </tr>\n",
       "    <tr>\n",
       "      <th>jurisdiccion_de_residencia_id</th>\n",
       "      <th></th>\n",
       "      <th></th>\n",
       "      <th></th>\n",
       "      <th></th>\n",
       "      <th></th>\n",
       "      <th></th>\n",
       "      <th></th>\n",
       "      <th></th>\n",
       "      <th></th>\n",
       "      <th></th>\n",
       "      <th></th>\n",
       "      <th></th>\n",
       "      <th></th>\n",
       "      <th></th>\n",
       "    </tr>\n",
       "  </thead>\n",
       "  <tbody>\n",
       "    <tr>\n",
       "      <th>82</th>\n",
       "      <td>Santa Fe</td>\n",
       "      <td>1</td>\n",
       "      <td>Simple</td>\n",
       "      <td>2</td>\n",
       "      <td>Mujer</td>\n",
       "      <td>6</td>\n",
       "      <td>35 a 39</td>\n",
       "      <td>3</td>\n",
       "      <td>24 a 27</td>\n",
       "      <td>4</td>\n",
       "      <td>Secundaria/Polimodal Incomplet</td>\n",
       "      <td>3</td>\n",
       "      <td>1000 a 1499</td>\n",
       "      <td>1</td>\n",
       "    </tr>\n",
       "    <tr>\n",
       "      <th>22</th>\n",
       "      <td>Chaco</td>\n",
       "      <td>1</td>\n",
       "      <td>Simple</td>\n",
       "      <td>1</td>\n",
       "      <td>Varón</td>\n",
       "      <td>1</td>\n",
       "      <td>Menor de 15</td>\n",
       "      <td>6</td>\n",
       "      <td>37 a 41</td>\n",
       "      <td>4</td>\n",
       "      <td>Secundaria/Polimodal Incomplet</td>\n",
       "      <td>5</td>\n",
       "      <td>2000 a 2499</td>\n",
       "      <td>1</td>\n",
       "    </tr>\n",
       "    <tr>\n",
       "      <th>10</th>\n",
       "      <td>Catamarca</td>\n",
       "      <td>1</td>\n",
       "      <td>Simple</td>\n",
       "      <td>1</td>\n",
       "      <td>Varón</td>\n",
       "      <td>5</td>\n",
       "      <td>30 a 34</td>\n",
       "      <td>6</td>\n",
       "      <td>37 a 41</td>\n",
       "      <td>1</td>\n",
       "      <td>Sin instrucción</td>\n",
       "      <td>7</td>\n",
       "      <td>3000 a 3499</td>\n",
       "      <td>1</td>\n",
       "    </tr>\n",
       "    <tr>\n",
       "      <th>66</th>\n",
       "      <td>Salta</td>\n",
       "      <td>1</td>\n",
       "      <td>Simple</td>\n",
       "      <td>1</td>\n",
       "      <td>Varón</td>\n",
       "      <td>4</td>\n",
       "      <td>25 a 29</td>\n",
       "      <td>5</td>\n",
       "      <td>32 a 36</td>\n",
       "      <td>6</td>\n",
       "      <td>Terciaria/Universitaria Incomp</td>\n",
       "      <td>5</td>\n",
       "      <td>2000 a 2499</td>\n",
       "      <td>5</td>\n",
       "    </tr>\n",
       "    <tr>\n",
       "      <th>6</th>\n",
       "      <td>Buenos Aires</td>\n",
       "      <td>1</td>\n",
       "      <td>Simple</td>\n",
       "      <td>2</td>\n",
       "      <td>Mujer</td>\n",
       "      <td>6</td>\n",
       "      <td>35 a 39</td>\n",
       "      <td>4</td>\n",
       "      <td>28 a 31</td>\n",
       "      <td>6</td>\n",
       "      <td>Terciaria/Universitaria Incomp</td>\n",
       "      <td>3</td>\n",
       "      <td>1000 a 1499</td>\n",
       "      <td>5</td>\n",
       "    </tr>\n",
       "  </tbody>\n",
       "</table>\n",
       "</div>"
      ],
      "text/plain": [
       "                              jurisdiccion_de_residencia_nombre  \\\n",
       "jurisdiccion_de_residencia_id                                     \n",
       "82                                                     Santa Fe   \n",
       "22                                                        Chaco   \n",
       "10                                                    Catamarca   \n",
       "66                                                        Salta   \n",
       "6                                                  Buenos Aires   \n",
       "\n",
       "                               tipo_de_parto_id tipo_de_parto_nombre  sexo  \\\n",
       "jurisdiccion_de_residencia_id                                                \n",
       "82                                            1               Simple     2   \n",
       "22                                            1               Simple     1   \n",
       "10                                            1               Simple     1   \n",
       "66                                            1               Simple     1   \n",
       "6                                             1               Simple     2   \n",
       "\n",
       "                              sexo_nombre  edad_de_la_madre_grupos_id  \\\n",
       "jurisdiccion_de_residencia_id                                           \n",
       "82                                  Mujer                           6   \n",
       "22                                  Varón                           1   \n",
       "10                                  Varón                           5   \n",
       "66                                  Varón                           4   \n",
       "6                                   Mujer                           6   \n",
       "\n",
       "                              edad_de_la_madre_grupos_nombre  \\\n",
       "jurisdiccion_de_residencia_id                                  \n",
       "82                                                   35 a 39   \n",
       "22                                               Menor de 15   \n",
       "10                                                   30 a 34   \n",
       "66                                                   25 a 29   \n",
       "6                                                    35 a 39   \n",
       "\n",
       "                               semanas_de_gestacion_id  \\\n",
       "jurisdiccion_de_residencia_id                            \n",
       "82                                                   3   \n",
       "22                                                   6   \n",
       "10                                                   6   \n",
       "66                                                   5   \n",
       "6                                                    4   \n",
       "\n",
       "                              semanas_de_gestacion_nombre  \\\n",
       "jurisdiccion_de_residencia_id                               \n",
       "82                                                24 a 27   \n",
       "22                                                37 a 41   \n",
       "10                                                37 a 41   \n",
       "66                                                32 a 36   \n",
       "6                                                 28 a 31   \n",
       "\n",
       "                               instruccion_de_la_madre_id  \\\n",
       "jurisdiccion_de_residencia_id                               \n",
       "82                                                      4   \n",
       "22                                                      4   \n",
       "10                                                      1   \n",
       "66                                                      6   \n",
       "6                                                       6   \n",
       "\n",
       "                               instruccion_de_la_madre_nombre  \\\n",
       "jurisdiccion_de_residencia_id                                   \n",
       "82                             Secundaria/Polimodal Incomplet   \n",
       "22                             Secundaria/Polimodal Incomplet   \n",
       "10                                            Sin instrucción   \n",
       "66                             Terciaria/Universitaria Incomp   \n",
       "6                              Terciaria/Universitaria Incomp   \n",
       "\n",
       "                               Intervalos_de_peso_al_nacer_id  \\\n",
       "jurisdiccion_de_residencia_id                                   \n",
       "82                                                          3   \n",
       "22                                                          5   \n",
       "10                                                          7   \n",
       "66                                                          5   \n",
       "6                                                           3   \n",
       "\n",
       "                              intervalos_de_peso_al_nacer_nombre  \\\n",
       "jurisdiccion_de_residencia_id                                      \n",
       "82                                                   1000 a 1499   \n",
       "22                                                   2000 a 2499   \n",
       "10                                                   3000 a 3499   \n",
       "66                                                   2000 a 2499   \n",
       "6                                                    1000 a 1499   \n",
       "\n",
       "                               cantidad_nacimientos  \n",
       "jurisdiccion_de_residencia_id                        \n",
       "82                                                1  \n",
       "22                                                1  \n",
       "10                                                1  \n",
       "66                                                5  \n",
       "6                                                 5  "
      ]
     },
     "execution_count": 9,
     "metadata": {},
     "output_type": "execute_result"
    }
   ],
   "source": [
    "#Muestra aleatória de n filas del dataset:\n",
    "df.sample(5)"
   ]
  },
  {
   "cell_type": "markdown",
   "id": "63ff09d3",
   "metadata": {},
   "source": [
    "### Consulta: Nacimientos discriminados por edad de la madre"
   ]
  },
  {
   "cell_type": "code",
   "execution_count": 10,
   "id": "47e26644",
   "metadata": {},
   "outputs": [
    {
     "name": "stdout",
     "output_type": "stream",
     "text": [
      "edad_de_la_madre_grupos_id\n",
      "1      2350\n",
      "2     84768\n",
      "3    164480\n",
      "4    163156\n",
      "5    140679\n",
      "6     91509\n",
      "7     24866\n",
      "8      1927\n",
      "9     11659\n",
      "Name: cantidad_nacimientos, dtype: int64\n"
     ]
    }
   ],
   "source": [
    "# Agrupamos y sumamos los nacimientos según edad de la madre:\n",
    "rangoedadmama = df.groupby('edad_de_la_madre_grupos_id')['cantidad_nacimientos'].sum()\n",
    "print(rangoedadmama)"
   ]
  },
  {
   "cell_type": "markdown",
   "id": "213a793b",
   "metadata": {},
   "source": [
    "Para hacer el gráfico vamos a necesitar reemplazar los números de cada grupo etario por el nombre correspondiente. Es importante que los gráficos tengan etiquetas claras y fácilmente interpretables. Para eso uso podemos aprovechar la función que ya creé en mis consultas llamada **'id_a_nombre_ordenado()'** que nos devuelve una lista con los nombres de los grupos de forma ordenada. Copio el código acá, en el trabajo final sólo aparecerá una vez."
   ]
  },
  {
   "cell_type": "markdown",
   "id": "e31b22a3",
   "metadata": {},
   "source": [
    "#### FUNCION 'id_a_nombre_ordenado()'"
   ]
  },
  {
   "cell_type": "code",
   "execution_count": 19,
   "id": "f7cbab1c",
   "metadata": {},
   "outputs": [],
   "source": [
    "def id_a_nombre_ordenado(columna_id, columna_nombre):\n",
    "    #Extraigo las variables en orden de aparición:\n",
    "    var_id = df[columna_id].unique()\n",
    "    var_nombre = df[columna_nombre].unique()\n",
    "    \n",
    "    #Las enlazo en un diccionario:\n",
    "    var_id_nombre = {}\n",
    "    for i in range(len(var_id)):\n",
    "        var_id_nombre[var_id[i]] = var_nombre[i]\n",
    "        \n",
    "    #Las reorganizo según id y extraigo los valores:\n",
    "    lista_organizada = []\n",
    "    for i in range(len(var_id_nombre)):\n",
    "        lista_organizada.append(var_id_nombre[i+1])\n",
    "    \n",
    "    return lista_organizada"
   ]
  },
  {
   "cell_type": "code",
   "execution_count": 20,
   "id": "eee80e45",
   "metadata": {},
   "outputs": [
    {
     "name": "stdout",
     "output_type": "stream",
     "text": [
      "['Menor de 15', '15 a 19', '20 a 24', '25 a 29', '30 a 34', '35 a 39', '40 a 44', 'De 45 y más', 'Sin especificar']\n"
     ]
    }
   ],
   "source": [
    "#Le pedimos que nos de la lista ordenada con los nombres de los grupos etarios (Notar que esta lista también la uso en mi\n",
    "#consulta, por lo que habrá que generarla una única vez)\n",
    "\n",
    "grupos_etarios = id_a_nombre_ordenado('edad_de_la_madre_grupos_id', 'edad_de_la_madre_grupos_nombre')\n",
    "print(grupos_etarios)"
   ]
  },
  {
   "cell_type": "code",
   "execution_count": 26,
   "id": "0f0a716b",
   "metadata": {},
   "outputs": [
    {
     "data": {
      "image/png": "[encoded data removed]",
      "text/plain": [
       "<Figure size 432x288 with 1 Axes>"
      ]
     },
     "metadata": {
      "needs_background": "light"
     },
     "output_type": "display_data"
    }
   ],
   "source": [
    "#Gráfico: Convienen barras verticales, para apreciar mejor la acumulación de cantidad. Para eso usamos '.bar()'\n",
    "\n",
    "#rangoedadmama.plot.barh()\n",
    "rangoedadmama.plot.bar()\n",
    "\n",
    "#Cambiamos los números en las barras por las etiquetas de grupos etarios:\n",
    "plt.xticks(range(len(grupos_etarios)), grupos_etarios, rotation='vertical')\n",
    "\n",
    "#Datos infaltables para todo gráfico: Título y etiquetas de ejes\n",
    "plt.title(\"Cantidad de nacimientos según edad de la madre\")\n",
    "plt.xlabel(\"Edad\")\n",
    "plt.ylabel(\"Nacimientos\")\n",
    "plt.show()"
   ]
  },
  {
   "cell_type": "markdown",
   "id": "0b08ff3c",
   "metadata": {},
   "source": []
  }
 ],
 "metadata": {
  "kernelspec": {
   "display_name": "Python 3 (ipykernel)",
   "language": "python",
   "name": "python3"
  },
  "language_info": {
   "codemirror_mode": {
    "name": "ipython",
    "version": 3
   },
   "file_extension": ".py",
   "mimetype": "text/x-python",
   "name": "python",
   "nbconvert_exporter": "python",
   "pygments_lexer": "ipython3",
   "version": "3.9.12"
  }
 },
 "nbformat": 4,
 "nbformat_minor": 5
}
