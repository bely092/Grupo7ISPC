{
  "nbformat": 4,
  "nbformat_minor": 0,
  "metadata": {
    "colab": {
      "provenance": [],
      "private_outputs": true,
      "include_colab_link": true
    },
    "kernelspec": {
      "name": "python3",
      "display_name": "Python 3"
    },
    "language_info": {
      "name": "python"
    },
    "accelerator": "TPU"
  },
  "cells": [
    {
      "cell_type": "markdown",
      "metadata": {
        "id": "view-in-github",
        "colab_type": "text"
      },
      "source": [
        "<a href=\"https://colab.research.google.com/github/gagabriela2787/Grupo7ISPC/blob/SilviaCarinaMonzon/ConsultasSilvia.ipynb\" target=\"_parent\"><img src=\"https://colab.research.google.com/assets/colab-badge.svg\" alt=\"Open In Colab\"/></a>"
      ]
    },
    {
      "cell_type": "code",
      "execution_count": null,
      "metadata": {
        "id": "XotViz6lYiKj"
      },
      "outputs": [],
      "source": [
        "import pandas as pd\n",
        "import matplotlib.pyplot as plt\n",
        "import seaborn as sns\n",
        "import numpy as np"
      ]
    },
    {
      "cell_type": "markdown",
      "source": [
        "# **RECOLECCIÓN Y PREPARACIÓN DE DATOS**\n",
        "\n"
      ],
      "metadata": {
        "id": "l15LpESzau4z"
      }
    },
    {
      "cell_type": "code",
      "source": [
        "# URL del archivo CSV\n",
        "url = 'https://raw.githubusercontent.com/gagabriela2787/Grupo7ISPC/main/nacidos-vivos-registrados-2018_deis.csv'\n",
        "\n",
        "# Leer el archivo CSV desde la URL\n",
        "df = pd.read_csv(url)"
      ],
      "metadata": {
        "id": "xhaWtv5KfX3e"
      },
      "execution_count": null,
      "outputs": []
    },
    {
      "cell_type": "code",
      "source": [
        "# Eliminar filas con jurisdiccion_de_residencia_id == 98, corresponden a 'Otro país'\n",
        "df = df.drop(df[df['jurisdiccion_de_residencia_id'] == 98].index)\n",
        "print(df.value_counts())"
      ],
      "metadata": {
        "id": "VDPrFrOTPp6P"
      },
      "execution_count": null,
      "outputs": []
    },
    {
      "cell_type": "markdown",
      "source": [
        "# **ANÁLISIS EXPLORATORIO**"
      ],
      "metadata": {
        "id": "FXNiM9T4c8Ra"
      }
    },
    {
      "cell_type": "code",
      "source": [
        "# Ver nombres de columnas del dataframe\n",
        "df.columns"
      ],
      "metadata": {
        "id": "OtcU4-YEL-s1"
      },
      "execution_count": null,
      "outputs": []
    },
    {
      "cell_type": "code",
      "source": [
        "# Mostrar información resumen del dataframe\n",
        "print(df.info())"
      ],
      "metadata": {
        "id": "oro8PaTS8P3C"
      },
      "execution_count": null,
      "outputs": []
    },
    {
      "cell_type": "code",
      "source": [
        "# Ver primeras 8 filas\n",
        "df.head(8)"
      ],
      "metadata": {
        "id": "9CfymoCReTyb"
      },
      "execution_count": null,
      "outputs": []
    },
    {
      "cell_type": "code",
      "source": [
        "# Mostrar valores unicos de provincia\n",
        "df['jurisdiccion_de_residencia_nombre'].unique()"
      ],
      "metadata": {
        "id": "QC56Nm8ehM-D"
      },
      "execution_count": null,
      "outputs": []
    },
    {
      "cell_type": "code",
      "source": [
        "# Mostrar valores unicos de semanas de gestación\n",
        "df['semanas_de_gestacion_nombre'].unique()"
      ],
      "metadata": {
        "id": "SwKB-Hp6-wv0"
      },
      "execution_count": null,
      "outputs": []
    },
    {
      "cell_type": "code",
      "source": [
        "# Mostrar valores unicos de sexo\n",
        "df['sexo_nombre'].unique()"
      ],
      "metadata": {
        "id": "tC_b9dAxo0e1"
      },
      "execution_count": null,
      "outputs": []
    },
    {
      "cell_type": "code",
      "source": [
        "# Estadísticas descriptivas del DataFrame nacidos\n",
        "df.describe()"
      ],
      "metadata": {
        "id": "mheHLYKc0iID"
      },
      "execution_count": null,
      "outputs": []
    },
    {
      "cell_type": "code",
      "source": [
        "# Verificar si existen valores nulos\n",
        "#df.isnull().sum\n",
        "df.isnull().any(axis=1).sum()"
      ],
      "metadata": {
        "id": "JTL3CfCCq54-"
      },
      "execution_count": null,
      "outputs": []
    },
    {
      "cell_type": "code",
      "source": [
        "# Ejecutar éste codigo para crear un dataframe con letra y nombre de cada provincia\n",
        "Letra=[\"B\",\"C\",\"K\",\"H\",\"U\",\"X\",\"W\",\"E\",\"P\",\"Y\",\"L\",\"F\",\"M\",\"N\",\"Q\",\"R\",\"A\",\"J\",\"D\",\"Z\",\"S\",\"G\",\"V\",\"T\"]\n",
        "Nombre=[\"Buenos Aires\",\"Ciudad Aut. de Buenos Aires\",\"Catamarca\",\"Chaco\",\"Chubut\",\n",
        "        \"Córdoba\",\"Corrientes\",\"Entre Ríos\",\"Formosa\",\"Jujuy\",\n",
        "        \"La Pampa\",\"La Rioja\",\"Mendoza\",\"Misiones\",\"Neuquén\",\n",
        "        \"Río Negro\",\"Salta\",\"San Juan\",\"San Luis\",\"Santa Cruz\",\n",
        "        \"Santa Fe\",\"Santiago del Estero\",\"Tierra del Fuego\",\"Tucumán\"]\n",
        "df_Letra=pd.DataFrame(\n",
        "    {\"Letra\": Letra,\n",
        "     \"Nombre\": Nombre})\n",
        "print(df_Letra)"
      ],
      "metadata": {
        "id": "ObxJ9MzZZOLB"
      },
      "execution_count": null,
      "outputs": []
    },
    {
      "cell_type": "code",
      "source": [
        "# Unir dataframe df_letra con el df original con datos\n",
        "df_Union = pd.merge(left=df_Letra, right=df, how=\"inner\", left_on=\"Nombre\", right_on=\"jurisdiccion_de_residencia_nombre\")\n",
        "df_Union.head()"
      ],
      "metadata": {
        "id": "gnzadAOiztLs"
      },
      "execution_count": null,
      "outputs": []
    },
    {
      "cell_type": "markdown",
      "source": [
        "# **PROCESAMIENTO Y ANÁLISIS DE DATOS**"
      ],
      "metadata": {
        "id": "vsdB5rBJh8qc"
      }
    },
    {
      "cell_type": "code",
      "source": [
        "# Explorar la distribución de nacimientos en 2018 por provincias discriminado por sexo\n",
        "\n",
        "# Seleccionar los nacimientos de Varón por provincia\n",
        "varon_count = df_Union[df_Union['sexo_nombre'] == 'Varón'].groupby('Letra')['cantidad_nacimientos'].sum()\n",
        "print(varon_count)\n",
        "\n",
        "# Seleccionar los nacimientos de Mujer por provincia\n",
        "mujer_count = df_Union[df_Union['sexo_nombre'] == 'Mujer'].groupby('Letra')['cantidad_nacimientos'].sum()\n",
        "print(mujer_count)"
      ],
      "metadata": {
        "id": "QqtTKnwf4aUL"
      },
      "execution_count": null,
      "outputs": []
    },
    {
      "cell_type": "markdown",
      "source": [
        "# **VISUALIZACIÓN DE DATOS**"
      ],
      "metadata": {
        "id": "xTKgIDP8ie-4"
      }
    },
    {
      "cell_type": "code",
      "source": [
        "# GRAFICAR DISTRIBUCION DE NACIMIENTOS EN 2018 POR PROVINCIA DISCRIMINADO POR SEXO.\n",
        "co = np.arange(len(df_Letra))\n",
        "an = 0.40\n",
        "# Definir lugar donde se realiza la gráfica y asignar parámetros\n",
        "fig, ax = plt.subplots()\n",
        "ax.bar(co - an/2, varon_count, an, label= 'Varón')\n",
        "ax.bar(co + an/2, mujer_count, an, label= 'Mujer')\n",
        "\n",
        "ax.set_title('Distribución de Nacimientos en 2018 por provincia y por sexo')\n",
        "ax.set_xlabel('Provincia')\n",
        "ax.set_ylabel('Cantidad')\n",
        "ax.set_xticks(co)\n",
        "ax.set_xticklabels(df_Letra[\"Letra\"])\n",
        "\n",
        "plt.legend()\n",
        "plt.show()"
      ],
      "metadata": {
        "id": "a4SsuUyyKSzO"
      },
      "execution_count": null,
      "outputs": []
    },
    {
      "cell_type": "markdown",
      "source": [
        "# **PROCESAMIENTO Y ANÁLISIS DE DATOS**"
      ],
      "metadata": {
        "id": "5kIHOJ74jb3N"
      }
    },
    {
      "cell_type": "code",
      "source": [
        "# Ejecutar éste Codigo para crear un Array con Tipo de Nacimiento y Descripción\n",
        "Tipo = [\"1\", \"2\", \"3\"]\n",
        "Descripcion = [\"Prematuros\", \"A término\", \"Sin especificar\"]\n",
        "Total_M = [0,0,0]\n",
        "Total_V = [0,0,0]\n",
        "Total = [0,0,0]"
      ],
      "metadata": {
        "id": "UPFjr1C2xMhy"
      },
      "execution_count": null,
      "outputs": []
    },
    {
      "cell_type": "markdown",
      "source": [
        "*   **Nacimientos Prematuros:** Hasta menos de 37 semana de gestacion inclusive.\n",
        "*   **Nacimientos a Término:** Después de semana 38 inclusive.Elemento de lista\n",
        "\n",
        "Los códigos de semanas_de_gestacion_id son:\n",
        " .   **1**   'Menos de 22'\n",
        " .   **2**   '22 a 23'\n",
        " .   **3**   '24 a 27'\n",
        " .   **4**   '28 a 31'\n",
        " .   **5**   '32 a 36'\n",
        " .   **6**   '37 a 41'\n",
        " .   **7**   '42 y más'\n",
        " .   **8**   'Sin especificar'"
      ],
      "metadata": {
        "id": "lWLg61noZru6"
      }
    },
    {
      "cell_type": "code",
      "source": [
        "# Agrupar según semanas_de_gestacion_id y sumar los nacimientos correspondientes a \"prematuro\", \"a término\" y sin especificar por sexo:\n",
        "# MUJER\n",
        "# Sumar total de nacimientos PREMATUROS MUJER\n",
        "Total_M[0] = df_Union[(df_Union['semanas_de_gestacion_id'] <= 5) & (df_Union['sexo_nombre'] == 'Mujer')]['cantidad_nacimientos'].sum()\n",
        "# Sumar total de nacimientos A TERMINO MUJER\n",
        "Total_M[1] = df_Union[(df_Union['semanas_de_gestacion_id'] >= 6)  &  (df_Union[\"semanas_de_gestacion_id\"]<= 7) & (df_Union['sexo_nombre'] == 'Mujer')]['cantidad_nacimientos'].sum()\n",
        "# Sumar total de nacimientos SIN ESPECIFICAR MUJER\n",
        "Total_M[2] = df_Union[(df_Union['semanas_de_gestacion_id'] == 8) & (df_Union['sexo_nombre'] == 'Mujer')]['cantidad_nacimientos'].sum()\n",
        "\n",
        "# VARON\n",
        "# Sumar total de nacimientos PREMATUROS VARÓN\n",
        "Total_V[0] = df_Union[(df_Union['semanas_de_gestacion_id'] <= 5) & (df_Union['sexo_nombre'] == 'Varón')]['cantidad_nacimientos'].sum()\n",
        "# Sumar total de nacimientos A TERMINO VARÓN\n",
        "Total_V[1] = df_Union[(df_Union['semanas_de_gestacion_id'] >= 6)  &  (df_Union[\"semanas_de_gestacion_id\"]<= 7) & (df_Union['sexo_nombre'] == 'Varón')]['cantidad_nacimientos'].sum()\n",
        "# Sumar total de nacimientos SIN ESPECIFICAR VARÓN\n",
        "Total_V[2] = df_Union[(df_Union['semanas_de_gestacion_id'] == 8) & (df_Union['sexo_nombre'] == 'Varón')]['cantidad_nacimientos'].sum()\n",
        "\n",
        "# TOTAL\n",
        "# Sumar total de nacimientos PREMATUROS\n",
        "Total[0]  = df_Union[df_Union['semanas_de_gestacion_id'] <= 5]['cantidad_nacimientos'].sum()\n",
        "# Sumar total de nacimientos A TERMINO\n",
        "Total[1] = df_Union[(df_Union['semanas_de_gestacion_id'] >= 6)  &  (df_Union[\"semanas_de_gestacion_id\"]<= 7)]['cantidad_nacimientos'].sum()\n",
        "# Sumar total de nacimientos SIN ESPECIFICAR\n",
        "Total[2] = df_Union[df_Union['semanas_de_gestacion_id'] == 8]['cantidad_nacimientos'].sum()"
      ],
      "metadata": {
        "id": "OKoXlopmyIX4"
      },
      "execution_count": null,
      "outputs": []
    },
    {
      "cell_type": "code",
      "source": [
        "# Diferencia de cantidad de nacimientos en 2018 entre Mujeres y Varones\n",
        "Diferencia_Prematuros = Total_V[0] - Total_M[0]\n",
        "print('La diferencia numérica de Nacimientos Prematuros en 2018 entre mujeres y varones es de ', Diferencia_Prematuros)"
      ],
      "metadata": {
        "id": "0NhcX0UAvZ0y"
      },
      "execution_count": null,
      "outputs": []
    },
    {
      "cell_type": "markdown",
      "source": [],
      "metadata": {
        "id": "yI74Y8iypwp2"
      }
    },
    {
      "cell_type": "markdown",
      "source": [
        "# **VISUALIZACIÓN DE DATOS**"
      ],
      "metadata": {
        "id": "WrhlsMOnpyxG"
      }
    },
    {
      "cell_type": "code",
      "source": [
        "# GRAFICAR COMPARATIVOS DE NACIMIENTOS EN 2018 DE PREMATUROS Y A TERMINO POR SEXO.\n",
        "# Crear la figura y los subgráficos\n",
        "fig, (ax1, ax2) = plt.subplots(1, 2, figsize=(10, 10))\n",
        "explode = (0.1, 0, 0)  # Expande la primera rebanada\n",
        "# Grafico de torta para Mujer\n",
        "ax1.pie(Total_M, explode=explode, labels=Descripcion, autopct='%1.1f%%')\n",
        "ax1.set_title('Nacimientos 2018 por semanas gestación: Mujer')\n",
        "\n",
        "# Grafico de torta para Varón\n",
        "ax2.pie(Total_V, explode=explode, labels=Descripcion, autopct='%1.1f%%')\n",
        "ax2.set_title('Nacimientos 2018 por semanas gestación: Varón')\n",
        "# Crear las leyendas para cada gráfico de torta\n",
        "legend1 = ax1.legend(loc='upper left')\n",
        "legend2 = ax2.legend(loc='upper right')\n",
        "\n",
        "# Ajustar la disposición de los subgráficos y mostrar la figura\n",
        "plt.tight_layout()\n",
        "plt.show()"
      ],
      "metadata": {
        "id": "IaR2YphjEwcs"
      },
      "execution_count": null,
      "outputs": []
    },
    {
      "cell_type": "code",
      "source": [
        "# Diferencia de cantidad de nacimientos prematuros en 2018 entre Mujeres y Varones\n",
        "Diferencia_Prematuros = Total_V[0] - Total_M[0]\n",
        "print('La diferencia de Nacimientos Prematuros en 2018 entre mujeres y varones es de ', Diferencia_Prematuros)"
      ],
      "metadata": {
        "id": "7CaKR_p4EQ7p"
      },
      "execution_count": null,
      "outputs": []
    },
    {
      "cell_type": "markdown",
      "source": [
        "# **CONCLUSIÓN**\n",
        "De acuerdo a los datos de nacimientos durante el año 2018 se observa en el gráfico que los nacimientos prematuros de varones es 0,5% superior al de nacimientos prematuros de mujeres.\n"
      ],
      "metadata": {
        "id": "gzt1qJ7yuHhp"
      }
    }
  ]
}