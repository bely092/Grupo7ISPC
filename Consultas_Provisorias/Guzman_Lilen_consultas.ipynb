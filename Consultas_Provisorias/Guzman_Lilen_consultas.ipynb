{
  "nbformat": 4,
  "nbformat_minor": 0,
  "metadata": {
    "colab": {
      "provenance": []
    },
    "kernelspec": {
      "name": "python3",
      "display_name": "Python 3"
    },
    "language_info": {
      "name": "python"
    }
  },
  "cells": [
    {
      "cell_type": "code",
      "execution_count": 1,
      "metadata": {
        "id": "BHze4MxzNEY9"
      },
      "outputs": [],
      "source": [
        "# Importar bibliotecas necesarias\n",
        "import pandas as pd\n",
        "import matplotlib.pyplot as plt\n",
        "import seaborn as sns"
      ]
    },
    {
      "cell_type": "code",
      "source": [
        "#me conecto a google drive\n",
        "from google.colab import drive\n",
        "drive.mount('/content/drive')"
      ],
      "metadata": {
        "colab": {
          "base_uri": "https://localhost:8080/"
        },
        "id": "4UmUXaraOOto",
        "outputId": "6b26e8e8-f304-43a0-ea22-a9b858d6469d"
      },
      "execution_count": 2,
      "outputs": [
        {
          "output_type": "stream",
          "name": "stdout",
          "text": [
            "Drive already mounted at /content/drive; to attempt to forcibly remount, call drive.mount(\"/content/drive\", force_remount=True).\n"
          ]
        }
      ]
    },
    {
      "cell_type": "code",
      "source": [
        "# Cargar archivos CSV utiliza libreria pandas\n",
        "#leo desde drive\n",
        "df=pd.read_csv('/content/drive/MyDrive/CSV/nacidos-vivos-registrados-2018_deis.csv')"
      ],
      "metadata": {
        "id": "u2EVLQ-bOXtc"
      },
      "execution_count": 6,
      "outputs": []
    },
    {
      "cell_type": "code",
      "source": [
        "# Eliminar filas con jurisdiccion_de_residencia_id == 98, corresponden a 'Otro país'\n",
        "df = df.drop(df[df['jurisdiccion_de_residencia_id'] == 98].index)\n",
        "print(df.value_counts())"
      ],
      "metadata": {
        "colab": {
          "base_uri": "https://localhost:8080/"
        },
        "id": "ZppFw188Pnov",
        "outputId": "cdffea59-792e-43f9-cd5b-4c2853d18126"
      },
      "execution_count": 7,
      "outputs": [
        {
          "output_type": "stream",
          "name": "stdout",
          "text": [
            "jurisdiccion_de_residencia_id  jurisdiccion_de_residencia_nombre  tipo_de_parto_id  tipo_de_parto_nombre  sexo  sexo_nombre    edad_de_la_madre_grupos_id  edad_de_la_madre_grupos_nombre  semanas_de_gestacion_id  semanas_de_gestacion_nombre  instruccion_de_la_madre_id  instruccion_de_la_madre_nombre  Intervalos_de_peso_al_nacer_id  intervalos_de_peso_al_nacer_nombre  cantidad_nacimientos\n",
            "2                              Ciudad Aut. de Buenos Aires        1                 Simple                1     Varón          1                           Menor de 15                     4                        28 a 31                      3                           Primaria/C. EGB Completa        2                               500 a 999                           1                       1\n",
            "58                             Neuquén                            2                 Múltiple              2     Mujer          5                           30 a 34                         5                        32 a 36                      5                           Secundaria/Polimodal Completa   4                               1500 a 1999                         3                       1\n",
            "                                                                                                                                                                                           6                        37 a 41                      6                           Terciaria/Universitaria Incomp  8                               De 3500 y más                       1                       1\n",
            "                                                                                                                                                                                                                                                                                                             7                               3000 a 3499                         1                       1\n",
            "                                                                                                                                                                                                                                                                                                             6                               2500 a 2999                         2                       1\n",
            "                                                                                                                                                                                                                                                                                                                                                                                                        ..\n",
            "18                             Corrientes                         1                 Simple                9     Sin espeficar  6                           35 a 39                         6                        37 a 41                      8                           Sin especificar                 6                               2500 a 2999                         1                       1\n",
            "                                                                                                                               4                           25 a 29                         6                        37 a 41                      4                           Secundaria/Polimodal Incomplet  8                               De 3500 y más                       1                       1\n",
            "                                                                                                          3     Indeterminado  6                           35 a 39                         6                        37 a 41                      5                           Secundaria/Polimodal Completa   7                               3000 a 3499                         1                       1\n",
            "                                                                                                                                                                                                                                                 3                           Primaria/C. EGB Completa        7                               3000 a 3499                         1                       1\n",
            "99                             Lugar no especificado              9                 Sin especificar       9     Sin espeficar  9                           Sin especificar                 8                        Sin especificar              8                           Sin especificar                 9                               Sin especificar                     6                       1\n",
            "Length: 29967, dtype: int64\n"
          ]
        }
      ]
    },
    {
      "cell_type": "code",
      "source": [
        "df.head()"
      ],
      "metadata": {
        "colab": {
          "base_uri": "https://localhost:8080/",
          "height": 270
        },
        "id": "FFBeVGwnPzbn",
        "outputId": "81cbc9ea-b8f0-4622-856f-3e173fd5f155"
      },
      "execution_count": 8,
      "outputs": [
        {
          "output_type": "execute_result",
          "data": {
            "text/plain": [
              "   jurisdiccion_de_residencia_id jurisdiccion_de_residencia_nombre  \\\n",
              "0                             34                           Formosa   \n",
              "1                              2       Ciudad Aut. de Buenos Aires   \n",
              "2                              6                      Buenos Aires   \n",
              "3                             82                          Santa Fe   \n",
              "4                             74                          San Luis   \n",
              "\n",
              "   tipo_de_parto_id tipo_de_parto_nombre  sexo sexo_nombre  \\\n",
              "0                 1               Simple     2       Mujer   \n",
              "1                 1               Simple     1       Varón   \n",
              "2                 1               Simple     1       Varón   \n",
              "3                 1               Simple     2       Mujer   \n",
              "4                 1               Simple     1       Varón   \n",
              "\n",
              "   edad_de_la_madre_grupos_id edad_de_la_madre_grupos_nombre  \\\n",
              "0                           4                        25 a 29   \n",
              "1                           7                        40 a 44   \n",
              "2                           5                        30 a 34   \n",
              "3                           6                        35 a 39   \n",
              "4                           6                        35 a 39   \n",
              "\n",
              "   semanas_de_gestacion_id semanas_de_gestacion_nombre  \\\n",
              "0                        5                     32 a 36   \n",
              "1                        6                     37 a 41   \n",
              "2                        8             Sin especificar   \n",
              "3                        6                     37 a 41   \n",
              "4                        5                     32 a 36   \n",
              "\n",
              "   instruccion_de_la_madre_id  instruccion_de_la_madre_nombre  \\\n",
              "0                           3        Primaria/C. EGB Completa   \n",
              "1                           3        Primaria/C. EGB Completa   \n",
              "2                           7  Terciaria/Universitaria Comple   \n",
              "3                           7  Terciaria/Universitaria Comple   \n",
              "4                           5   Secundaria/Polimodal Completa   \n",
              "\n",
              "   Intervalos_de_peso_al_nacer_id intervalos_de_peso_al_nacer_nombre  \\\n",
              "0                               5                        2000 a 2499   \n",
              "1                               6                        2500 a 2999   \n",
              "2                               4                        1500 a 1999   \n",
              "3                               5                        2000 a 2499   \n",
              "4                               6                        2500 a 2999   \n",
              "\n",
              "   cantidad_nacimientos  \n",
              "0                     3  \n",
              "1                    13  \n",
              "2                     1  \n",
              "3                    30  \n",
              "4                     4  "
            ],
            "text/html": [
              "\n",
              "  <div id=\"df-740e5e57-97b0-4314-b0de-70b48b6a04cc\">\n",
              "    <div class=\"colab-df-container\">\n",
              "      <div>\n",
              "<style scoped>\n",
              "    .dataframe tbody tr th:only-of-type {\n",
              "        vertical-align: middle;\n",
              "    }\n",
              "\n",
              "    .dataframe tbody tr th {\n",
              "        vertical-align: top;\n",
              "    }\n",
              "\n",
              "    .dataframe thead th {\n",
              "        text-align: right;\n",
              "    }\n",
              "</style>\n",
              "<table border=\"1\" class=\"dataframe\">\n",
              "  <thead>\n",
              "    <tr style=\"text-align: right;\">\n",
              "      <th></th>\n",
              "      <th>jurisdiccion_de_residencia_id</th>\n",
              "      <th>jurisdiccion_de_residencia_nombre</th>\n",
              "      <th>tipo_de_parto_id</th>\n",
              "      <th>tipo_de_parto_nombre</th>\n",
              "      <th>sexo</th>\n",
              "      <th>sexo_nombre</th>\n",
              "      <th>edad_de_la_madre_grupos_id</th>\n",
              "      <th>edad_de_la_madre_grupos_nombre</th>\n",
              "      <th>semanas_de_gestacion_id</th>\n",
              "      <th>semanas_de_gestacion_nombre</th>\n",
              "      <th>instruccion_de_la_madre_id</th>\n",
              "      <th>instruccion_de_la_madre_nombre</th>\n",
              "      <th>Intervalos_de_peso_al_nacer_id</th>\n",
              "      <th>intervalos_de_peso_al_nacer_nombre</th>\n",
              "      <th>cantidad_nacimientos</th>\n",
              "    </tr>\n",
              "  </thead>\n",
              "  <tbody>\n",
              "    <tr>\n",
              "      <th>0</th>\n",
              "      <td>34</td>\n",
              "      <td>Formosa</td>\n",
              "      <td>1</td>\n",
              "      <td>Simple</td>\n",
              "      <td>2</td>\n",
              "      <td>Mujer</td>\n",
              "      <td>4</td>\n",
              "      <td>25 a 29</td>\n",
              "      <td>5</td>\n",
              "      <td>32 a 36</td>\n",
              "      <td>3</td>\n",
              "      <td>Primaria/C. EGB Completa</td>\n",
              "      <td>5</td>\n",
              "      <td>2000 a 2499</td>\n",
              "      <td>3</td>\n",
              "    </tr>\n",
              "    <tr>\n",
              "      <th>1</th>\n",
              "      <td>2</td>\n",
              "      <td>Ciudad Aut. de Buenos Aires</td>\n",
              "      <td>1</td>\n",
              "      <td>Simple</td>\n",
              "      <td>1</td>\n",
              "      <td>Varón</td>\n",
              "      <td>7</td>\n",
              "      <td>40 a 44</td>\n",
              "      <td>6</td>\n",
              "      <td>37 a 41</td>\n",
              "      <td>3</td>\n",
              "      <td>Primaria/C. EGB Completa</td>\n",
              "      <td>6</td>\n",
              "      <td>2500 a 2999</td>\n",
              "      <td>13</td>\n",
              "    </tr>\n",
              "    <tr>\n",
              "      <th>2</th>\n",
              "      <td>6</td>\n",
              "      <td>Buenos Aires</td>\n",
              "      <td>1</td>\n",
              "      <td>Simple</td>\n",
              "      <td>1</td>\n",
              "      <td>Varón</td>\n",
              "      <td>5</td>\n",
              "      <td>30 a 34</td>\n",
              "      <td>8</td>\n",
              "      <td>Sin especificar</td>\n",
              "      <td>7</td>\n",
              "      <td>Terciaria/Universitaria Comple</td>\n",
              "      <td>4</td>\n",
              "      <td>1500 a 1999</td>\n",
              "      <td>1</td>\n",
              "    </tr>\n",
              "    <tr>\n",
              "      <th>3</th>\n",
              "      <td>82</td>\n",
              "      <td>Santa Fe</td>\n",
              "      <td>1</td>\n",
              "      <td>Simple</td>\n",
              "      <td>2</td>\n",
              "      <td>Mujer</td>\n",
              "      <td>6</td>\n",
              "      <td>35 a 39</td>\n",
              "      <td>6</td>\n",
              "      <td>37 a 41</td>\n",
              "      <td>7</td>\n",
              "      <td>Terciaria/Universitaria Comple</td>\n",
              "      <td>5</td>\n",
              "      <td>2000 a 2499</td>\n",
              "      <td>30</td>\n",
              "    </tr>\n",
              "    <tr>\n",
              "      <th>4</th>\n",
              "      <td>74</td>\n",
              "      <td>San Luis</td>\n",
              "      <td>1</td>\n",
              "      <td>Simple</td>\n",
              "      <td>1</td>\n",
              "      <td>Varón</td>\n",
              "      <td>6</td>\n",
              "      <td>35 a 39</td>\n",
              "      <td>5</td>\n",
              "      <td>32 a 36</td>\n",
              "      <td>5</td>\n",
              "      <td>Secundaria/Polimodal Completa</td>\n",
              "      <td>6</td>\n",
              "      <td>2500 a 2999</td>\n",
              "      <td>4</td>\n",
              "    </tr>\n",
              "  </tbody>\n",
              "</table>\n",
              "</div>\n",
              "      <button class=\"colab-df-convert\" onclick=\"convertToInteractive('df-740e5e57-97b0-4314-b0de-70b48b6a04cc')\"\n",
              "              title=\"Convert this dataframe to an interactive table.\"\n",
              "              style=\"display:none;\">\n",
              "        \n",
              "  <svg xmlns=\"http://www.w3.org/2000/svg\" height=\"24px\"viewBox=\"0 0 24 24\"\n",
              "       width=\"24px\">\n",
              "    <path d=\"M0 0h24v24H0V0z\" fill=\"none\"/>\n",
              "    <path d=\"M18.56 5.44l.94 2.06.94-2.06 2.06-.94-2.06-.94-.94-2.06-.94 2.06-2.06.94zm-11 1L8.5 8.5l.94-2.06 2.06-.94-2.06-.94L8.5 2.5l-.94 2.06-2.06.94zm10 10l.94 2.06.94-2.06 2.06-.94-2.06-.94-.94-2.06-.94 2.06-2.06.94z\"/><path d=\"M17.41 7.96l-1.37-1.37c-.4-.4-.92-.59-1.43-.59-.52 0-1.04.2-1.43.59L10.3 9.45l-7.72 7.72c-.78.78-.78 2.05 0 2.83L4 21.41c.39.39.9.59 1.41.59.51 0 1.02-.2 1.41-.59l7.78-7.78 2.81-2.81c.8-.78.8-2.07 0-2.86zM5.41 20L4 18.59l7.72-7.72 1.47 1.35L5.41 20z\"/>\n",
              "  </svg>\n",
              "      </button>\n",
              "      \n",
              "  <style>\n",
              "    .colab-df-container {\n",
              "      display:flex;\n",
              "      flex-wrap:wrap;\n",
              "      gap: 12px;\n",
              "    }\n",
              "\n",
              "    .colab-df-convert {\n",
              "      background-color: #E8F0FE;\n",
              "      border: none;\n",
              "      border-radius: 50%;\n",
              "      cursor: pointer;\n",
              "      display: none;\n",
              "      fill: #1967D2;\n",
              "      height: 32px;\n",
              "      padding: 0 0 0 0;\n",
              "      width: 32px;\n",
              "    }\n",
              "\n",
              "    .colab-df-convert:hover {\n",
              "      background-color: #E2EBFA;\n",
              "      box-shadow: 0px 1px 2px rgba(60, 64, 67, 0.3), 0px 1px 3px 1px rgba(60, 64, 67, 0.15);\n",
              "      fill: #174EA6;\n",
              "    }\n",
              "\n",
              "    [theme=dark] .colab-df-convert {\n",
              "      background-color: #3B4455;\n",
              "      fill: #D2E3FC;\n",
              "    }\n",
              "\n",
              "    [theme=dark] .colab-df-convert:hover {\n",
              "      background-color: #434B5C;\n",
              "      box-shadow: 0px 1px 3px 1px rgba(0, 0, 0, 0.15);\n",
              "      filter: drop-shadow(0px 1px 2px rgba(0, 0, 0, 0.3));\n",
              "      fill: #FFFFFF;\n",
              "    }\n",
              "  </style>\n",
              "\n",
              "      <script>\n",
              "        const buttonEl =\n",
              "          document.querySelector('#df-740e5e57-97b0-4314-b0de-70b48b6a04cc button.colab-df-convert');\n",
              "        buttonEl.style.display =\n",
              "          google.colab.kernel.accessAllowed ? 'block' : 'none';\n",
              "\n",
              "        async function convertToInteractive(key) {\n",
              "          const element = document.querySelector('#df-740e5e57-97b0-4314-b0de-70b48b6a04cc');\n",
              "          const dataTable =\n",
              "            await google.colab.kernel.invokeFunction('convertToInteractive',\n",
              "                                                     [key], {});\n",
              "          if (!dataTable) return;\n",
              "\n",
              "          const docLinkHtml = 'Like what you see? Visit the ' +\n",
              "            '<a target=\"_blank\" href=https://colab.research.google.com/notebooks/data_table.ipynb>data table notebook</a>'\n",
              "            + ' to learn more about interactive tables.';\n",
              "          element.innerHTML = '';\n",
              "          dataTable['output_type'] = 'display_data';\n",
              "          await google.colab.output.renderOutput(dataTable, element);\n",
              "          const docLink = document.createElement('div');\n",
              "          docLink.innerHTML = docLinkHtml;\n",
              "          element.appendChild(docLink);\n",
              "        }\n",
              "      </script>\n",
              "    </div>\n",
              "  </div>\n",
              "  "
            ]
          },
          "metadata": {},
          "execution_count": 8
        }
      ]
    },
    {
      "cell_type": "code",
      "source": [
        "#muestro los nacimientos totales\n",
        "nacimientosTotales=df['cantidad_nacimientos'].sum()\n",
        "print(nacimientosTotales)"
      ],
      "metadata": {
        "colab": {
          "base_uri": "https://localhost:8080/"
        },
        "id": "hL1aHykE2TGA",
        "outputId": "7ee9f3ec-a259-439b-84b0-a63a6ee2e83e"
      },
      "execution_count": 72,
      "outputs": [
        {
          "output_type": "stream",
          "name": "stdout",
          "text": [
            "685202\n"
          ]
        }
      ]
    },
    {
      "cell_type": "code",
      "source": [
        "# Consulta: Obtener los nombres únicos de las provincias en el DataFrame\n",
        "provincias = df['jurisdiccion_de_residencia_nombre'].unique()"
      ],
      "metadata": {
        "id": "-GQ-9JCQRf65"
      },
      "execution_count": 73,
      "outputs": []
    },
    {
      "cell_type": "code",
      "source": [
        "provincias"
      ],
      "metadata": {
        "colab": {
          "base_uri": "https://localhost:8080/"
        },
        "id": "1Fj0d7XdSRXH",
        "outputId": "4d3d14b7-4e50-4223-aa8f-716a330218e4"
      },
      "execution_count": 74,
      "outputs": [
        {
          "output_type": "execute_result",
          "data": {
            "text/plain": [
              "array(['Formosa', 'Ciudad Aut. de Buenos Aires', 'Buenos Aires',\n",
              "       'Santa Fe', 'San Luis', 'Lugar no especificado', 'Salta',\n",
              "       'Neuquén', 'Río Negro', 'Misiones', 'Tucumán', 'Santa Cruz',\n",
              "       'Catamarca', 'Santiago del Estero', 'Chaco', 'La Rioja',\n",
              "       'La Pampa', 'Jujuy', 'Entre Ríos', 'Mendoza', 'Chubut',\n",
              "       'Corrientes', 'Córdoba', 'San Juan', 'Tierra del Fuego'],\n",
              "      dtype=object)"
            ]
          },
          "metadata": {},
          "execution_count": 74
        }
      ]
    },
    {
      "cell_type": "code",
      "source": [
        "# Mostrar los nombres únicos de las provincias\n",
        "print(\"Nombres de las provincias presentes en el dataset:\")\n",
        "for pro in provincias:\n",
        "    print(pro)"
      ],
      "metadata": {
        "colab": {
          "base_uri": "https://localhost:8080/"
        },
        "id": "EjjdAzmQRr1B",
        "outputId": "ab99e01b-471e-478a-dc64-35571920386c"
      },
      "execution_count": 75,
      "outputs": [
        {
          "output_type": "stream",
          "name": "stdout",
          "text": [
            "Nombres de las provincias presentes en el dataset:\n",
            "Formosa\n",
            "Ciudad Aut. de Buenos Aires\n",
            "Buenos Aires\n",
            "Santa Fe\n",
            "San Luis\n",
            "Lugar no especificado\n",
            "Salta\n",
            "Neuquén\n",
            "Río Negro\n",
            "Misiones\n",
            "Tucumán\n",
            "Santa Cruz\n",
            "Catamarca\n",
            "Santiago del Estero\n",
            "Chaco\n",
            "La Rioja\n",
            "La Pampa\n",
            "Jujuy\n",
            "Entre Ríos\n",
            "Mendoza\n",
            "Chubut\n",
            "Corrientes\n",
            "Córdoba\n",
            "San Juan\n",
            "Tierra del Fuego\n"
          ]
        }
      ]
    },
    {
      "cell_type": "code",
      "source": [
        "#mostrar al usuario el nombre de las provincias del dataFrame, para que seleccione una y obtenga la informacion que\n",
        "#requiere de dicha provincia\n",
        "print(\"Solicitar datos de una provincia\")\n",
        "\n",
        "# Consulta: Obtener los nombres únicos de las provincias en el DataFrame\n",
        "provincias = df['jurisdiccion_de_residencia_nombre'].unique()\n",
        "\n",
        "# Mostrar los nombres únicos de las provincias\n",
        "print(\"Nombres de las provincias presentes en el dataset:\")\n",
        "for pro in provincias:\n",
        "    print(pro)\n",
        "\n",
        "# Solicitar al usuario el ingreso de un provincia\n",
        "provincia_ingresada = input(\"Ingrese el nombre de una provincia tal cual el listado anterior: \")\n",
        "\n",
        "# Verificar si la provincia existe en el DataFrame\n",
        "if provincia_ingresada in df['jurisdiccion_de_residencia_nombre'].unique():\n",
        "    #creo el dataFrame con los registros de la provincia correspondiente\n",
        "    registros = df[df['jurisdiccion_de_residencia_nombre'] == provincia_ingresada]\n",
        "    # Solicitar al usuario el ingreso de una opcion\n",
        "    print(\"Menu:\")\n",
        "    print(\"1- Cantidad de nacimientos\")\n",
        "    print(\"2-Cantidad de nacimientos simples\")\n",
        "    print(\"3-Cantidad de nacimientos dobles\")\n",
        "    opcion_ingresada = input(\"Ingrese una opcion del menu: \")\n",
        "    opcion=int (opcion_ingresada)\n",
        "    match opcion:\n",
        "        case 1:\n",
        "             print(\"Cantidad de nacimientos\")\n",
        "             suma_nacimientos=registros['cantidad_nacimientos'].sum()\n",
        "             print(\"La cantidad de nacimientos en \"+provincia_ingresada+\" es: \"+str(suma_nacimientos))\n",
        "\n",
        "        case 2:\n",
        "            print(\"Cantidad de nacimientos simples\")\n",
        "            # Inicializamos la variable 'sumaSimple' en 0\n",
        "            sumaSimple = 0\n",
        "            # Iteramos sobre las filas del DataFrame\n",
        "            for index, row in registros.iterrows():\n",
        "              if row['tipo_de_parto_id'] == 1:\n",
        "                sumaSimple+= row['cantidad_nacimientos']\n",
        "            print(\"La cantidad de nacimientos SIMPLES en \"+provincia_ingresada+\" es: \"+str(sumaSimple))\n",
        "        case 3:\n",
        "            print(\"Cantidad de nacimientos dobles\")\n",
        "            # Inicializamos la variable 'sumaDobles' en 0\n",
        "            sumaDobles = 0\n",
        "            # Iteramos sobre las filas del DataFrame\n",
        "            for index, row in registros.iterrows():\n",
        "              if row['tipo_de_parto_id'] == 23:\n",
        "                sumaDobles+= row['cantidad_nacimientos']\n",
        "            print(\"La cantidad de nacimientos DOBLES en \"+provincia_ingresada+\" es: \"+str(sumaDobles))\n",
        "        case _:print(\"Error: La opcion ingresada no es correcta\")\n",
        "\n",
        "\n",
        "else:\n",
        "      print(\"El provincia ingresada no se encuentra en el dataset.\")"
      ],
      "metadata": {
        "colab": {
          "base_uri": "https://localhost:8080/"
        },
        "id": "c7M0zZfSWYkn",
        "outputId": "1c21e2e6-a42f-4bf3-f6b3-c1ae44514f22"
      },
      "execution_count": 77,
      "outputs": [
        {
          "output_type": "stream",
          "name": "stdout",
          "text": [
            "Solicitar datos de una provincia\n",
            "Nombres de las provincias presentes en el dataset:\n",
            "Formosa\n",
            "Ciudad Aut. de Buenos Aires\n",
            "Buenos Aires\n",
            "Santa Fe\n",
            "San Luis\n",
            "Lugar no especificado\n",
            "Salta\n",
            "Neuquén\n",
            "Río Negro\n",
            "Misiones\n",
            "Tucumán\n",
            "Santa Cruz\n",
            "Catamarca\n",
            "Santiago del Estero\n",
            "Chaco\n",
            "La Rioja\n",
            "La Pampa\n",
            "Jujuy\n",
            "Entre Ríos\n",
            "Mendoza\n",
            "Chubut\n",
            "Corrientes\n",
            "Córdoba\n",
            "San Juan\n",
            "Tierra del Fuego\n",
            "Ingrese el nombre de una provincia tal cual el listado anterior: Santiago del Estero\n",
            "Menu:\n",
            "1- Cantidad de nacimientos\n",
            "2-Cantidad de nacimientos simples\n",
            "3-Cantidad de nacimientos dobles\n",
            "Ingrese una opcion del menu: 2\n",
            "Cantidad de nacimientos simples\n",
            "La cantidad de nacimientos SIMPLES en Santiago del Estero es: 17911\n"
          ]
        }
      ]
    },
    {
      "cell_type": "code",
      "source": [],
      "metadata": {
        "id": "8me84U9mjFVG"
      },
      "execution_count": null,
      "outputs": []
    }
  ]
}