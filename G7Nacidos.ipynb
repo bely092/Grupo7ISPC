{
 "cells": [
  {
   "cell_type": "markdown",
   "metadata": {
    "colab_type": "text",
    "id": "view-in-github"
   },
   "source": [
    "<a href=\"https://colab.research.google.com/github/gagabriela2787/Grupo7ISPC/blob/SilviaCarinaMonzon/G7Nacidos.ipynb\" target=\"_parent\"><img src=\"https://colab.research.google.com/assets/colab-badge.svg\" alt=\"Open In Colab\"/></a>"
   ]
  },
  {
   "cell_type": "markdown",
   "metadata": {
    "id": "uj7hb3MljNnY"
   },
   "source": [
    "Análisis Nacidos Vivos Registrados 2018\n"
   ]
  },
  {
   "cell_type": "markdown",
   "metadata": {
    "id": "s5HpIvVUjNnb"
   },
   "source": [
    "# **RECOLECCIÓN Y PREPARACIÓN DE DATOS**"
   ]
  },
  {
   "cell_type": "code",
   "execution_count": 1,
   "metadata": {
    "id": "FIOYLViqjNnc"
   },
   "outputs": [],
   "source": [
    "import pandas as pd\n",
    "import matplotlib.pyplot as plt\n",
    "import seaborn as sns\n",
    "import numpy as np\n"
   ]
  },
  {
   "cell_type": "code",
   "execution_count": 2,
   "metadata": {
    "id": "wPIWN-wfjNnd"
   },
   "outputs": [],
   "source": [
    "\n",
    "# URL del archivo CSV\n",
    "url = 'https://raw.githubusercontent.com/gagabriela2787/Grupo7ISPC/main/nacidos-vivos-registrados-2018_deis.csv'\n",
    "\n",
    "# Leer el archivo CSV desde la URL\n",
    "df = pd.read_csv(url)"
   ]
  },
  {
   "cell_type": "markdown",
   "metadata": {
    "id": "97TImRCEjNne"
   },
   "source": [
    "# **ANÁLISIS EXPLORATORIO**\n"
   ]
  },
  {
   "cell_type": "code",
   "execution_count": 3,
   "metadata": {
    "colab": {
     "base_uri": "https://localhost:8080/"
    },
    "id": "jA9NxNiLnQGe",
    "outputId": "8bbb9ff3-6d50-4636-e118-246eef066cda"
   },
   "outputs": [
    {
     "data": {
      "text/plain": [
       "(30099, 15)"
      ]
     },
     "execution_count": 3,
     "metadata": {},
     "output_type": "execute_result"
    }
   ],
   "source": [
    "# Tamaño de la matriz de datos (filas, columnas)\n",
    "df.shape"
   ]
  },
  {
   "cell_type": "code",
   "execution_count": 4,
   "metadata": {
    "colab": {
     "base_uri": "https://localhost:8080/"
    },
    "id": "nhdNJ6aPneg2",
    "outputId": "4a10168f-b026-4d88-bb6f-50d370a1e48a"
   },
   "outputs": [
    {
     "name": "stdout",
     "output_type": "stream",
     "text": [
      "Index(['jurisdiccion_de_residencia_id', 'jurisdiccion_de_residencia_nombre',\n",
      "       'tipo_de_parto_id', 'tipo_de_parto_nombre', 'sexo', 'sexo_nombre',\n",
      "       'edad_de_la_madre_grupos_id', 'edad_de_la_madre_grupos_nombre',\n",
      "       'semanas_de_gestacion_id', 'semanas_de_gestacion_nombre',\n",
      "       'instruccion_de_la_madre_id', 'instruccion_de_la_madre_nombre',\n",
      "       'Intervalos_de_peso_al_nacer_id', 'intervalos_de_peso_al_nacer_nombre',\n",
      "       'cantidad_nacimientos'],\n",
      "      dtype='object')\n"
     ]
    }
   ],
   "source": [
    "# Mostrar todas las columnas\n",
    "print(df.columns)"
   ]
  },
  {
   "cell_type": "code",
   "execution_count": 5,
   "metadata": {
    "colab": {
     "base_uri": "https://localhost:8080/",
     "height": 364
    },
    "id": "sfwLD_k-njHt",
    "outputId": "3e64db22-66b4-482e-ccc0-b709d086233d"
   },
   "outputs": [
    {
     "data": {
      "text/html": [
       "<div>\n",
       "<style scoped>\n",
       "    .dataframe tbody tr th:only-of-type {\n",
       "        vertical-align: middle;\n",
       "    }\n",
       "\n",
       "    .dataframe tbody tr th {\n",
       "        vertical-align: top;\n",
       "    }\n",
       "\n",
       "    .dataframe thead th {\n",
       "        text-align: right;\n",
       "    }\n",
       "</style>\n",
       "<table border=\"1\" class=\"dataframe\">\n",
       "  <thead>\n",
       "    <tr style=\"text-align: right;\">\n",
       "      <th></th>\n",
       "      <th>jurisdiccion_de_residencia_id</th>\n",
       "      <th>tipo_de_parto_id</th>\n",
       "      <th>sexo</th>\n",
       "      <th>edad_de_la_madre_grupos_id</th>\n",
       "      <th>semanas_de_gestacion_id</th>\n",
       "      <th>instruccion_de_la_madre_id</th>\n",
       "      <th>Intervalos_de_peso_al_nacer_id</th>\n",
       "      <th>cantidad_nacimientos</th>\n",
       "    </tr>\n",
       "  </thead>\n",
       "  <tbody>\n",
       "    <tr>\n",
       "      <th>count</th>\n",
       "      <td>30099.000000</td>\n",
       "      <td>30099.000000</td>\n",
       "      <td>30099.000000</td>\n",
       "      <td>30099.000000</td>\n",
       "      <td>30099.000000</td>\n",
       "      <td>30099.000000</td>\n",
       "      <td>30099.000000</td>\n",
       "      <td>30099.000000</td>\n",
       "    </tr>\n",
       "    <tr>\n",
       "      <th>mean</th>\n",
       "      <td>42.405528</td>\n",
       "      <td>1.226120</td>\n",
       "      <td>1.663610</td>\n",
       "      <td>4.524968</td>\n",
       "      <td>5.487093</td>\n",
       "      <td>4.772351</td>\n",
       "      <td>5.763015</td>\n",
       "      <td>22.771321</td>\n",
       "    </tr>\n",
       "    <tr>\n",
       "      <th>std</th>\n",
       "      <td>30.808996</td>\n",
       "      <td>0.739671</td>\n",
       "      <td>1.204007</td>\n",
       "      <td>1.831169</td>\n",
       "      <td>1.155895</td>\n",
       "      <td>1.844638</td>\n",
       "      <td>1.850774</td>\n",
       "      <td>122.235335</td>\n",
       "    </tr>\n",
       "    <tr>\n",
       "      <th>min</th>\n",
       "      <td>2.000000</td>\n",
       "      <td>1.000000</td>\n",
       "      <td>1.000000</td>\n",
       "      <td>1.000000</td>\n",
       "      <td>1.000000</td>\n",
       "      <td>1.000000</td>\n",
       "      <td>1.000000</td>\n",
       "      <td>1.000000</td>\n",
       "    </tr>\n",
       "    <tr>\n",
       "      <th>25%</th>\n",
       "      <td>14.000000</td>\n",
       "      <td>1.000000</td>\n",
       "      <td>1.000000</td>\n",
       "      <td>3.000000</td>\n",
       "      <td>5.000000</td>\n",
       "      <td>3.000000</td>\n",
       "      <td>5.000000</td>\n",
       "      <td>1.000000</td>\n",
       "    </tr>\n",
       "    <tr>\n",
       "      <th>50%</th>\n",
       "      <td>38.000000</td>\n",
       "      <td>1.000000</td>\n",
       "      <td>2.000000</td>\n",
       "      <td>4.000000</td>\n",
       "      <td>6.000000</td>\n",
       "      <td>5.000000</td>\n",
       "      <td>6.000000</td>\n",
       "      <td>2.000000</td>\n",
       "    </tr>\n",
       "    <tr>\n",
       "      <th>75%</th>\n",
       "      <td>70.000000</td>\n",
       "      <td>1.000000</td>\n",
       "      <td>2.000000</td>\n",
       "      <td>6.000000</td>\n",
       "      <td>6.000000</td>\n",
       "      <td>6.000000</td>\n",
       "      <td>7.000000</td>\n",
       "      <td>7.000000</td>\n",
       "    </tr>\n",
       "    <tr>\n",
       "      <th>max</th>\n",
       "      <td>99.000000</td>\n",
       "      <td>9.000000</td>\n",
       "      <td>9.000000</td>\n",
       "      <td>9.000000</td>\n",
       "      <td>8.000000</td>\n",
       "      <td>8.000000</td>\n",
       "      <td>9.000000</td>\n",
       "      <td>4512.000000</td>\n",
       "    </tr>\n",
       "  </tbody>\n",
       "</table>\n",
       "</div>"
      ],
      "text/plain": [
       "       jurisdiccion_de_residencia_id  tipo_de_parto_id          sexo  \\\n",
       "count                   30099.000000      30099.000000  30099.000000   \n",
       "mean                       42.405528          1.226120      1.663610   \n",
       "std                        30.808996          0.739671      1.204007   \n",
       "min                         2.000000          1.000000      1.000000   \n",
       "25%                        14.000000          1.000000      1.000000   \n",
       "50%                        38.000000          1.000000      2.000000   \n",
       "75%                        70.000000          1.000000      2.000000   \n",
       "max                        99.000000          9.000000      9.000000   \n",
       "\n",
       "       edad_de_la_madre_grupos_id  semanas_de_gestacion_id  \\\n",
       "count                30099.000000             30099.000000   \n",
       "mean                     4.524968                 5.487093   \n",
       "std                      1.831169                 1.155895   \n",
       "min                      1.000000                 1.000000   \n",
       "25%                      3.000000                 5.000000   \n",
       "50%                      4.000000                 6.000000   \n",
       "75%                      6.000000                 6.000000   \n",
       "max                      9.000000                 8.000000   \n",
       "\n",
       "       instruccion_de_la_madre_id  Intervalos_de_peso_al_nacer_id  \\\n",
       "count                30099.000000                    30099.000000   \n",
       "mean                     4.772351                        5.763015   \n",
       "std                      1.844638                        1.850774   \n",
       "min                      1.000000                        1.000000   \n",
       "25%                      3.000000                        5.000000   \n",
       "50%                      5.000000                        6.000000   \n",
       "75%                      6.000000                        7.000000   \n",
       "max                      8.000000                        9.000000   \n",
       "\n",
       "       cantidad_nacimientos  \n",
       "count          30099.000000  \n",
       "mean              22.771321  \n",
       "std              122.235335  \n",
       "min                1.000000  \n",
       "25%                1.000000  \n",
       "50%                2.000000  \n",
       "75%                7.000000  \n",
       "max             4512.000000  "
      ]
     },
     "execution_count": 5,
     "metadata": {},
     "output_type": "execute_result"
    }
   ],
   "source": [
    "#Primera descripción general de los datos\n",
    "df.describe()"
   ]
  },
  {
   "cell_type": "markdown",
   "metadata": {
    "id": "PfQM7UAVjNne"
   },
   "source": [
    "# **PROCESAMIENTO Y ANÁLISIS DE DATOS**\n"
   ]
  },
  {
   "cell_type": "code",
   "execution_count": 6,
   "metadata": {
    "id": "-GQ-9JCQRf65"
   },
   "outputs": [],
   "source": [
    "# Consulta: Obtener los nombres únicos de las provincias en el DataFrame\n",
    "provincias = df['jurisdiccion_de_residencia_nombre'].unique()"
   ]
  },
  {
   "cell_type": "code",
   "execution_count": 7,
   "metadata": {
    "id": "c7M0zZfSWYkn"
   },
   "outputs": [
    {
     "ename": "SyntaxError",
     "evalue": "invalid syntax (2717835891.py, line 27)",
     "output_type": "error",
     "traceback": [
      "\u001b[1;36m  Input \u001b[1;32mIn [7]\u001b[1;36m\u001b[0m\n\u001b[1;33m    match opcion:\u001b[0m\n\u001b[1;37m          ^\u001b[0m\n\u001b[1;31mSyntaxError\u001b[0m\u001b[1;31m:\u001b[0m invalid syntax\n"
     ]
    }
   ],
   "source": [
    "#mostrar al usuario el nombre de las provincias del dataFrame, para que seleccione una y obtenga la informacion que\n",
    "#requiere de dicha provincia\n",
    "print(\"Solicitar datos de una provincia\")\n",
    "\n",
    "# Consulta: Obtener los nombres únicos de las provincias en el DataFrame\n",
    "provincias = df['jurisdiccion_de_residencia_nombre'].unique()\n",
    "\n",
    "# Mostrar los nombres únicos de las provincias\n",
    "print(\"Nombres de las provincias presentes en el dataset:\")\n",
    "for pro in provincias:\n",
    "    print(pro)\n",
    "\n",
    "# Solicitar al usuario el ingreso de un provincia\n",
    "provincia_ingresada = input(\"Ingrese el nombre de una provincia tal cual el listado anterior: \")\n",
    "\n",
    "# Verificar si la provincia existe en el DataFrame\n",
    "if provincia_ingresada in df['jurisdiccion_de_residencia_nombre'].unique():\n",
    "    #creo el dataFrame con los registros de la provincia correspondiente\n",
    "    registros = df[df['jurisdiccion_de_residencia_nombre'] == provincia_ingresada]\n",
    "    # Solicitar al usuario el ingreso de una opcion\n",
    "    print(\"Menu:\")\n",
    "    print(\"1- Cantidad de nacimientos\")\n",
    "    print(\"2-Cantidad de nacimientos simples\")\n",
    "    print(\"3-Cantidad de nacimientos dobles\")\n",
    "    opcion_ingresada = input(\"Ingrese una opcion del menu: \")\n",
    "    opcion=int (opcion_ingresada)\n",
    "    match opcion:\n",
    "        case 1:\n",
    "             print(\"Cantidad de nacimientos\")\n",
    "             suma_nacimientos=registros['cantidad_nacimientos'].sum()\n",
    "             print(\"La cantidad de nacimientos en \"+provincia_ingresada+\" es: \"+str(suma_nacimientos))\n",
    "\n",
    "        case 2:\n",
    "            print(\"Cantidad de nacimientos simples\")\n",
    "            # Inicializamos la variable 'sumaSimple' en 0\n",
    "            sumaSimple = 0\n",
    "            # Iteramos sobre las filas del DataFrame\n",
    "            for index, row in registros.iterrows():\n",
    "              if row['tipo_de_parto_id'] == 1:\n",
    "                sumaSimple+= row['cantidad_nacimientos']\n",
    "            print(\"La cantidad de nacimientos SIMPLES en \"+provincia_ingresada+\" es: \"+str(sumaSimple))\n",
    "        case 3:\n",
    "            print(\"Cantidad de nacimientos dobles\")\n",
    "            # Inicializamos la variable 'sumaDobles' en 0\n",
    "            sumaDobles = 0\n",
    "            # Iteramos sobre las filas del DataFrame\n",
    "            for index, row in registros.iterrows():\n",
    "              if row['tipo_de_parto_id'] == 23:\n",
    "                sumaDobles+= row['cantidad_nacimientos']\n",
    "            print(\"La cantidad de nacimientos DOBLES en \"+provincia_ingresada+\" es: \"+str(sumaDobles))\n",
    "        case _:print(\"Error: La opcion ingresada no es correcta\")\n",
    "\n",
    "\n",
    "else:\n",
    "      print(\"La provincia ingresada no se encuentra en el dataset.\")"
   ]
  },
  {
   "cell_type": "code",
   "execution_count": 8,
   "metadata": {
    "colab": {
     "base_uri": "https://localhost:8080/"
    },
    "id": "tKwff1vCJ1J1",
    "outputId": "5ad47403-f427-490e-d5f5-c2432bb89202"
   },
   "outputs": [
    {
     "name": "stdout",
     "output_type": "stream",
     "text": [
      "   Letra                       Nombre\n",
      "0      B                 Buenos Aires\n",
      "1      C  Ciudad Aut. de Buenos Aires\n",
      "2      K                    Catamarca\n",
      "3      H                        Chaco\n",
      "4      U                       Chubut\n",
      "5      X                      Córdoba\n",
      "6      W                   Corrientes\n",
      "7      E                   Entre Ríos\n",
      "8      P                      Formosa\n",
      "9      Y                        Jujuy\n",
      "10     L                     La Pampa\n",
      "11     F                     La Rioja\n",
      "12     M                      Mendoza\n",
      "13     N                     Misiones\n",
      "14     Q                      Neuquén\n",
      "15     R                    Río Negro\n",
      "16     A                        Salta\n",
      "17     J                     San Juan\n",
      "18     D                     San Luis\n",
      "19     Z                   Santa Cruz\n",
      "20     S                     Santa Fe\n",
      "21     G          Santiago del Estero\n",
      "22     V             Tierra del Fuego\n",
      "23     T                      Tucumán\n"
     ]
    }
   ],
   "source": [
    "# Ejecutar éste codigo para crear un dataframe con letra y nombre de cada provincia\n",
    "Letra=[\"B\",\"C\",\"K\",\"H\",\"U\",\"X\",\"W\",\"E\",\"P\",\"Y\",\"L\",\"F\",\"M\",\"N\",\"Q\",\"R\",\"A\",\"J\",\"D\",\"Z\",\"S\",\"G\",\"V\",\"T\"]\n",
    "Nombre=[\"Buenos Aires\",\"Ciudad Aut. de Buenos Aires\",\"Catamarca\",\"Chaco\",\"Chubut\",\n",
    "        \"Córdoba\",\"Corrientes\",\"Entre Ríos\",\"Formosa\",\"Jujuy\",\n",
    "        \"La Pampa\",\"La Rioja\",\"Mendoza\",\"Misiones\",\"Neuquén\",\n",
    "        \"Río Negro\",\"Salta\",\"San Juan\",\"San Luis\",\"Santa Cruz\",\n",
    "        \"Santa Fe\",\"Santiago del Estero\",\"Tierra del Fuego\",\"Tucumán\"]\n",
    "df_Letra=pd.DataFrame(\n",
    "    {\"Letra\": Letra,\n",
    "     \"Nombre\": Nombre})\n",
    "print(df_Letra)"
   ]
  },
  {
   "cell_type": "code",
   "execution_count": 9,
   "metadata": {
    "colab": {
     "base_uri": "https://localhost:8080/",
     "height": 357
    },
    "id": "WeANdDV2KIr7",
    "outputId": "9069145d-9d36-4166-c746-340b5efa1951"
   },
   "outputs": [
    {
     "data": {
      "text/html": [
       "<div>\n",
       "<style scoped>\n",
       "    .dataframe tbody tr th:only-of-type {\n",
       "        vertical-align: middle;\n",
       "    }\n",
       "\n",
       "    .dataframe tbody tr th {\n",
       "        vertical-align: top;\n",
       "    }\n",
       "\n",
       "    .dataframe thead th {\n",
       "        text-align: right;\n",
       "    }\n",
       "</style>\n",
       "<table border=\"1\" class=\"dataframe\">\n",
       "  <thead>\n",
       "    <tr style=\"text-align: right;\">\n",
       "      <th></th>\n",
       "      <th>Letra</th>\n",
       "      <th>Nombre</th>\n",
       "      <th>jurisdiccion_de_residencia_id</th>\n",
       "      <th>jurisdiccion_de_residencia_nombre</th>\n",
       "      <th>tipo_de_parto_id</th>\n",
       "      <th>tipo_de_parto_nombre</th>\n",
       "      <th>sexo</th>\n",
       "      <th>sexo_nombre</th>\n",
       "      <th>edad_de_la_madre_grupos_id</th>\n",
       "      <th>edad_de_la_madre_grupos_nombre</th>\n",
       "      <th>semanas_de_gestacion_id</th>\n",
       "      <th>semanas_de_gestacion_nombre</th>\n",
       "      <th>instruccion_de_la_madre_id</th>\n",
       "      <th>instruccion_de_la_madre_nombre</th>\n",
       "      <th>Intervalos_de_peso_al_nacer_id</th>\n",
       "      <th>intervalos_de_peso_al_nacer_nombre</th>\n",
       "      <th>cantidad_nacimientos</th>\n",
       "    </tr>\n",
       "  </thead>\n",
       "  <tbody>\n",
       "    <tr>\n",
       "      <th>0</th>\n",
       "      <td>B</td>\n",
       "      <td>Buenos Aires</td>\n",
       "      <td>6</td>\n",
       "      <td>Buenos Aires</td>\n",
       "      <td>1</td>\n",
       "      <td>Simple</td>\n",
       "      <td>1</td>\n",
       "      <td>Varón</td>\n",
       "      <td>5</td>\n",
       "      <td>30 a 34</td>\n",
       "      <td>8</td>\n",
       "      <td>Sin especificar</td>\n",
       "      <td>7</td>\n",
       "      <td>Terciaria/Universitaria Comple</td>\n",
       "      <td>4</td>\n",
       "      <td>1500 a 1999</td>\n",
       "      <td>1</td>\n",
       "    </tr>\n",
       "    <tr>\n",
       "      <th>1</th>\n",
       "      <td>B</td>\n",
       "      <td>Buenos Aires</td>\n",
       "      <td>6</td>\n",
       "      <td>Buenos Aires</td>\n",
       "      <td>2</td>\n",
       "      <td>Múltiple</td>\n",
       "      <td>1</td>\n",
       "      <td>Varón</td>\n",
       "      <td>2</td>\n",
       "      <td>15 a 19</td>\n",
       "      <td>5</td>\n",
       "      <td>32 a 36</td>\n",
       "      <td>5</td>\n",
       "      <td>Secundaria/Polimodal Completa</td>\n",
       "      <td>3</td>\n",
       "      <td>1000 a 1499</td>\n",
       "      <td>1</td>\n",
       "    </tr>\n",
       "    <tr>\n",
       "      <th>2</th>\n",
       "      <td>B</td>\n",
       "      <td>Buenos Aires</td>\n",
       "      <td>6</td>\n",
       "      <td>Buenos Aires</td>\n",
       "      <td>2</td>\n",
       "      <td>Múltiple</td>\n",
       "      <td>2</td>\n",
       "      <td>Mujer</td>\n",
       "      <td>5</td>\n",
       "      <td>30 a 34</td>\n",
       "      <td>6</td>\n",
       "      <td>37 a 41</td>\n",
       "      <td>3</td>\n",
       "      <td>Primaria/C. EGB Completa</td>\n",
       "      <td>7</td>\n",
       "      <td>3000 a 3499</td>\n",
       "      <td>3</td>\n",
       "    </tr>\n",
       "    <tr>\n",
       "      <th>3</th>\n",
       "      <td>B</td>\n",
       "      <td>Buenos Aires</td>\n",
       "      <td>6</td>\n",
       "      <td>Buenos Aires</td>\n",
       "      <td>1</td>\n",
       "      <td>Simple</td>\n",
       "      <td>9</td>\n",
       "      <td>Sin espeficar</td>\n",
       "      <td>4</td>\n",
       "      <td>25 a 29</td>\n",
       "      <td>5</td>\n",
       "      <td>32 a 36</td>\n",
       "      <td>3</td>\n",
       "      <td>Primaria/C. EGB Completa</td>\n",
       "      <td>7</td>\n",
       "      <td>3000 a 3499</td>\n",
       "      <td>2</td>\n",
       "    </tr>\n",
       "    <tr>\n",
       "      <th>4</th>\n",
       "      <td>B</td>\n",
       "      <td>Buenos Aires</td>\n",
       "      <td>6</td>\n",
       "      <td>Buenos Aires</td>\n",
       "      <td>2</td>\n",
       "      <td>Múltiple</td>\n",
       "      <td>2</td>\n",
       "      <td>Mujer</td>\n",
       "      <td>8</td>\n",
       "      <td>De 45 y más</td>\n",
       "      <td>3</td>\n",
       "      <td>24 a 27</td>\n",
       "      <td>8</td>\n",
       "      <td>Sin especificar</td>\n",
       "      <td>4</td>\n",
       "      <td>1500 a 1999</td>\n",
       "      <td>1</td>\n",
       "    </tr>\n",
       "  </tbody>\n",
       "</table>\n",
       "</div>"
      ],
      "text/plain": [
       "  Letra        Nombre  jurisdiccion_de_residencia_id  \\\n",
       "0     B  Buenos Aires                              6   \n",
       "1     B  Buenos Aires                              6   \n",
       "2     B  Buenos Aires                              6   \n",
       "3     B  Buenos Aires                              6   \n",
       "4     B  Buenos Aires                              6   \n",
       "\n",
       "  jurisdiccion_de_residencia_nombre  tipo_de_parto_id tipo_de_parto_nombre  \\\n",
       "0                      Buenos Aires                 1               Simple   \n",
       "1                      Buenos Aires                 2             Múltiple   \n",
       "2                      Buenos Aires                 2             Múltiple   \n",
       "3                      Buenos Aires                 1               Simple   \n",
       "4                      Buenos Aires                 2             Múltiple   \n",
       "\n",
       "   sexo    sexo_nombre  edad_de_la_madre_grupos_id  \\\n",
       "0     1          Varón                           5   \n",
       "1     1          Varón                           2   \n",
       "2     2          Mujer                           5   \n",
       "3     9  Sin espeficar                           4   \n",
       "4     2          Mujer                           8   \n",
       "\n",
       "  edad_de_la_madre_grupos_nombre  semanas_de_gestacion_id  \\\n",
       "0                        30 a 34                        8   \n",
       "1                        15 a 19                        5   \n",
       "2                        30 a 34                        6   \n",
       "3                        25 a 29                        5   \n",
       "4                    De 45 y más                        3   \n",
       "\n",
       "  semanas_de_gestacion_nombre  instruccion_de_la_madre_id  \\\n",
       "0             Sin especificar                           7   \n",
       "1                     32 a 36                           5   \n",
       "2                     37 a 41                           3   \n",
       "3                     32 a 36                           3   \n",
       "4                     24 a 27                           8   \n",
       "\n",
       "   instruccion_de_la_madre_nombre  Intervalos_de_peso_al_nacer_id  \\\n",
       "0  Terciaria/Universitaria Comple                               4   \n",
       "1   Secundaria/Polimodal Completa                               3   \n",
       "2        Primaria/C. EGB Completa                               7   \n",
       "3        Primaria/C. EGB Completa                               7   \n",
       "4                 Sin especificar                               4   \n",
       "\n",
       "  intervalos_de_peso_al_nacer_nombre  cantidad_nacimientos  \n",
       "0                        1500 a 1999                     1  \n",
       "1                        1000 a 1499                     1  \n",
       "2                        3000 a 3499                     3  \n",
       "3                        3000 a 3499                     2  \n",
       "4                        1500 a 1999                     1  "
      ]
     },
     "execution_count": 9,
     "metadata": {},
     "output_type": "execute_result"
    }
   ],
   "source": [
    "# Unir dataframe df_letra con el df original con datos\n",
    "df_Union = pd.merge(left=df_Letra, right=df, how=\"inner\", left_on=\"Nombre\", right_on=\"jurisdiccion_de_residencia_nombre\")\n",
    "df_Union.head()"
   ]
  },
  {
   "cell_type": "code",
   "execution_count": 10,
   "metadata": {
    "colab": {
     "base_uri": "https://localhost:8080/"
    },
    "id": "sf7AZhNSKeEQ",
    "outputId": "58799638-bd35-4e76-a032-9593d514f73f"
   },
   "outputs": [
    {
     "name": "stdout",
     "output_type": "stream",
     "text": [
      "Letra\n",
      "A     12819\n",
      "B    126505\n",
      "C     18362\n",
      "D      3524\n",
      "E     10857\n",
      "F      2909\n",
      "G      9309\n",
      "H     12586\n",
      "J      6902\n",
      "K      3384\n",
      "L      2450\n",
      "M     15306\n",
      "N     12592\n",
      "P      6077\n",
      "Q      5157\n",
      "R      5510\n",
      "S     26249\n",
      "T     14279\n",
      "U      4331\n",
      "V      1398\n",
      "W     10100\n",
      "X     27554\n",
      "Y      5955\n",
      "Z      2629\n",
      "Name: cantidad_nacimientos, dtype: int64\n",
      "Letra\n",
      "A     12384\n",
      "B    118782\n",
      "C     17096\n",
      "D      3526\n",
      "E     10424\n",
      "F      2754\n",
      "G      8759\n",
      "H     12196\n",
      "J      6596\n",
      "K      3312\n",
      "L      2323\n",
      "M     14779\n",
      "N     12265\n",
      "P      5732\n",
      "Q      4965\n",
      "R      5161\n",
      "S     25161\n",
      "T     13636\n",
      "U      4208\n",
      "V      1290\n",
      "W      9748\n",
      "X     26015\n",
      "Y      5852\n",
      "Z      2482\n",
      "Name: cantidad_nacimientos, dtype: int64\n"
     ]
    }
   ],
   "source": [
    "# Explorar la distribución de nacimientos en 2018 por provincias discriminado por sexo\n",
    "\n",
    "# Seleccionar los nacimientos de Varón por provincia\n",
    "varon_count = df_Union[df_Union['sexo_nombre'] == 'Varón'].groupby('Letra')['cantidad_nacimientos'].sum()\n",
    "print(varon_count)\n",
    "\n",
    "# Seleccionar los nacimientos de Mujer por provincia\n",
    "mujer_count = df_Union[df_Union['sexo_nombre'] == 'Mujer'].groupby('Letra')['cantidad_nacimientos'].sum()\n",
    "print(mujer_count)"
   ]
  },
  {
   "cell_type": "code",
   "execution_count": 11,
   "metadata": {
    "id": "Znvv5qYeK5M5"
   },
   "outputs": [],
   "source": [
    "# Ejecutar éste Codigo para crear un Array con Tipo de Nacimiento y Descripción\n",
    "Tipo = [\"1\", \"2\", \"3\"]\n",
    "Descripcion = [\"Prematuros\", \"A término\", \"Sin especificar\"]\n",
    "Total_M = [0,0,0]\n",
    "Total_V = [0,0,0]\n",
    "Total = [0,0,0]"
   ]
  },
  {
   "cell_type": "markdown",
   "metadata": {
    "id": "20rFh5-iLTQu"
   },
   "source": [
    "\n",
    "\n",
    "*   **Nacimientos Prematuros**: Hasta menos de 37 semana de gestación inclusive.\n",
    "*   **Nacimientos a Término**: Después de semana 38 inclusive.\n",
    "\n",
    "Los códigos de semanas_de_gestacion_id son: **. 1** 'Menos de 22' **. 2** '22 a 23' **. 3** '24 a 27' **. 4** '28 a 31' **. 5** '32 a 36' **. 6** '37 a 41' **. 7** '42 y más' **. 8** 'Sin especificar'"
   ]
  },
  {
   "cell_type": "code",
   "execution_count": 12,
   "metadata": {
    "id": "HTc8KCQuMrDP"
   },
   "outputs": [],
   "source": [
    "# Agrupar según semanas_de_gestacion_id y sumar los nacimientos correspondientes a \"prematuro\", \"a término\" y \"sin especificar\" por sexo:\n",
    "# MUJER\n",
    "# Sumar total de nacimientos PREMATUROS MUJER\n",
    "Total_M[0] = df_Union[(df_Union['semanas_de_gestacion_id'] <= 5) & (df_Union['sexo_nombre'] == 'Mujer')]['cantidad_nacimientos'].sum()\n",
    "# Sumar total de nacimientos A TERMINO MUJER\n",
    "Total_M[1] = df_Union[(df_Union['semanas_de_gestacion_id'] >= 6)  &  (df_Union[\"semanas_de_gestacion_id\"]<= 7) & (df_Union['sexo_nombre'] == 'Mujer')]['cantidad_nacimientos'].sum()\n",
    "# Sumar total de nacimientos SIN ESPECIFICAR MUJER\n",
    "Total_M[2] = df_Union[(df_Union['semanas_de_gestacion_id'] == 8) & (df_Union['sexo_nombre'] == 'Mujer')]['cantidad_nacimientos'].sum()\n",
    "\n",
    "# VARON\n",
    "# Sumar total de nacimientos PREMATUROS VARÓN\n",
    "Total_V[0] = df_Union[(df_Union['semanas_de_gestacion_id'] <= 5) & (df_Union['sexo_nombre'] == 'Varón')]['cantidad_nacimientos'].sum()\n",
    "# Sumar total de nacimientos A TERMINO VARÓN\n",
    "Total_V[1] = df_Union[(df_Union['semanas_de_gestacion_id'] >= 6)  &  (df_Union[\"semanas_de_gestacion_id\"]<= 7) & (df_Union['sexo_nombre'] == 'Varón')]['cantidad_nacimientos'].sum()\n",
    "# Sumar total de nacimientos SIN ESPECIFICAR VARÓN\n",
    "Total_V[2] = df_Union[(df_Union['semanas_de_gestacion_id'] == 8) & (df_Union['sexo_nombre'] == 'Varón')]['cantidad_nacimientos'].sum()\n",
    "\n",
    "# TOTAL\n",
    "# Sumar total de nacimientos PREMATUROS\n",
    "Total[0]  = df_Union[df_Union['semanas_de_gestacion_id'] <= 5]['cantidad_nacimientos'].sum()\n",
    "# Sumar total de nacimientos A TERMINO\n",
    "Total[1] = df_Union[(df_Union['semanas_de_gestacion_id'] >= 6)  &  (df_Union[\"semanas_de_gestacion_id\"]<= 7)]['cantidad_nacimientos'].sum()\n",
    "# Sumar total de nacimientos SIN ESPECIFICAR\n",
    "Total[2] = df_Union[df_Union['semanas_de_gestacion_id'] == 8]['cantidad_nacimientos'].sum()"
   ]
  },
  {
   "cell_type": "code",
   "execution_count": 13,
   "metadata": {
    "colab": {
     "base_uri": "https://localhost:8080/"
    },
    "id": "anRXG1ncNVFM",
    "outputId": "0e6d920c-8f1b-42b0-8fb9-287ac59a80a4"
   },
   "outputs": [
    {
     "name": "stdout",
     "output_type": "stream",
     "text": [
      "La diferencia numérica de Nacimientos Prematuros en 2018 entre mujeres y varones es de  3061\n"
     ]
    }
   ],
   "source": [
    "# Diferencia de cantidad de nacimientos en 2018 entre Mujeres y Varones\n",
    "Diferencia_Prematuros = Total_V[0] - Total_M[0]\n",
    "print('La diferencia numérica de Nacimientos Prematuros en 2018 entre mujeres y varones es de ', Diferencia_Prematuros)"
   ]
  },
  {
   "cell_type": "markdown",
   "metadata": {},
   "source": [
    "#### FUNCIÓN 'id_a_nombre_ordenado()'\n",
    "\n",
    "Definimos una función que enlaza los ***id*** con los ***nombres*** de las variables y devuelve una lista ordenada con las mismas. Debe recibir como parámetros los nombres de las **columnas** que contienen los id y los nombres, en ese orden."
   ]
  },
  {
   "cell_type": "code",
   "execution_count": 14,
   "metadata": {},
   "outputs": [],
   "source": [
    "def id_a_nombre_ordenado(columna_id, columna_nombre):\n",
    "    #Extraigo las variables en orden de aparición:\n",
    "    var_id = df[columna_id].unique()\n",
    "    var_nombre = df[columna_nombre].unique()\n",
    "    \n",
    "    #Las enlazo en un diccionario:\n",
    "    var_id_nombre = {}\n",
    "    for i in range(len(var_id)):\n",
    "        var_id_nombre[var_id[i]] = var_nombre[i]\n",
    "        \n",
    "    #Las reorganizo según id y extraigo los valores:\n",
    "    lista_organizada = []\n",
    "    for i in range(len(var_id_nombre)):\n",
    "        lista_organizada.append(var_id_nombre[i+1])\n",
    "    \n",
    "    return lista_organizada"
   ]
  },
  {
   "cell_type": "markdown",
   "metadata": {},
   "source": [
    "Creamos algunas listas necesarias para las consultas:"
   ]
  },
  {
   "cell_type": "code",
   "execution_count": 15,
   "metadata": {},
   "outputs": [
    {
     "name": "stdout",
     "output_type": "stream",
     "text": [
      "['Sin instrucción', 'Primaria/C. EGB Incompleta', 'Primaria/C. EGB Completa', 'Secundaria/Polimodal Incomplet', 'Secundaria/Polimodal Completa', 'Terciaria/Universitaria Incomp', 'Terciaria/Universitaria Comple', 'Sin especificar']\n",
      "['Menor de 15', '15 a 19', '20 a 24', '25 a 29', '30 a 34', '35 a 39', '40 a 44', 'De 45 y más', 'Sin especificar']\n"
     ]
    }
   ],
   "source": [
    "#Lista ordenada con los niveles educativos:\n",
    "niveles_instruccion = id_a_nombre_ordenado('instruccion_de_la_madre_id', 'instruccion_de_la_madre_nombre')\n",
    "print(niveles_instruccion)\n",
    "\n",
    "#Lista ordenada con los grupos etarios:\n",
    "grupos_etarios = id_a_nombre_ordenado('edad_de_la_madre_grupos_id', 'edad_de_la_madre_grupos_nombre')\n",
    "print(grupos_etarios)"
   ]
  },
  {
   "cell_type": "markdown",
   "metadata": {},
   "source": [
    "#### FUNCIÓN 'calcula_promedio_edad()'\n",
    "\n",
    "Creamos una función que reciba una lista de nacimientos discriminados según edad y calcula el promedio de edad de la madre. Para ello utilizamos los puntos medios correspondientes a cada franja de rango etario. No se tienen en cuenta las edades *'Sin especificar'*. Devuelve una lista con 2 elementos. El primero será el promedio expresado en años, y el segundo su valor correspondiente en relación a los grupos etarios discretizados."
   ]
  },
  {
   "cell_type": "code",
   "execution_count": 16,
   "metadata": {},
   "outputs": [],
   "source": [
    "def calcula_promedio_edad(lista_nxe):\n",
    "    puntos_medios_grupos = [1, 2, 3, 4, 5, 6, 7, 8, 0]\n",
    "    puntos_medios_rangos_etarios = [12.5, 17.5, 22.5, 27.5, 32.5, 37.5, 42.5, 47.5, 0]\n",
    "    grupos = [puntos_medios_rangos_etarios, puntos_medios_grupos]\n",
    "    \n",
    "    promedios = []\n",
    "    for lista in grupos:\n",
    "        sumatoria = 0\n",
    "        total_nacimientos = 0\n",
    "        for i in range(len(lista_nxe)):\n",
    "            sumatoria += lista_nxe[i] * lista[i]\n",
    "            total_nacimientos += lista_nxe[i]\n",
    "        #Restamos los nacimientos para edades 'Sin especificar' para que no afecten al promedio\n",
    "        if len(lista_nxe) == 9:\n",
    "            total_nacimientos -= lista_nxe[-1]\n",
    "        promedio = sumatoria/total_nacimientos\n",
    "        promedios.append(promedio.round(2))\n",
    "    return promedios"
   ]
  },
  {
   "cell_type": "markdown",
   "metadata": {
    "id": "-MzvHtETjNnf"
   },
   "source": [
    "# **CONSULTAS Y GRÁFICOS**\n"
   ]
  },
  {
   "cell_type": "code",
   "execution_count": 17,
   "metadata": {
    "colab": {
     "base_uri": "https://localhost:8080/",
     "height": 472
    },
    "id": "_anqABuMKkXV",
    "outputId": "47982965-56bf-43b3-f2f6-bdf0d710c990"
   },
   "outputs": [
    {
     "data": {
      "image/png": "[encoded data removed]",
      "text/plain": [
       "<Figure size 432x288 with 1 Axes>"
      ]
     },
     "metadata": {
      "needs_background": "light"
     },
     "output_type": "display_data"
    }
   ],
   "source": [
    "# GRAFICAR DISTRIBUCION DE NACIMIENTOS EN 2018 POR PROVINCIA DISCRIMINADO POR SEXO.\n",
    "co = np.arange(len(df_Letra))\n",
    "an = 0.40\n",
    "# Definir lugar donde se realiza la gráfica y asignar parámetros\n",
    "fig, ax = plt.subplots()\n",
    "ax.bar(co - an/2, varon_count, an, label= 'Varón')\n",
    "ax.bar(co + an/2, mujer_count, an, label= 'Mujer')\n",
    "\n",
    "ax.set_title('Distribución de Nacimientos en 2018 por provincia y por sexo')\n",
    "ax.set_xlabel('Provincia')\n",
    "ax.set_ylabel('Cantidad')\n",
    "ax.set_xticks(co)\n",
    "ax.set_xticklabels(df_Letra[\"Letra\"])\n",
    "\n",
    "plt.legend()\n",
    "plt.show()"
   ]
  },
  {
   "cell_type": "code",
   "execution_count": 18,
   "metadata": {
    "colab": {
     "base_uri": "https://localhost:8080/",
     "height": 415
    },
    "id": "4wNhfkEuNnfS",
    "outputId": "757406ef-9c6f-4901-ef91-5dd82644128a"
   },
   "outputs": [
    {
     "data": {
      "image/png": "[encoded data removed]",
      "text/plain": [
       "<Figure size 720x720 with 2 Axes>"
      ]
     },
     "metadata": {},
     "output_type": "display_data"
    }
   ],
   "source": [
    "# GRAFICAR COMPARATIVOS DE NACIMIENTOS EN 2018 DE PREMATUROS Y A TERMINO POR SEXO.\n",
    "# Crear la figura y los subgráficos\n",
    "fig, (ax1, ax2) = plt.subplots(1, 2, figsize=(10, 10))\n",
    "explode = (0.1, 0, 0)  # Expande la primera rebanada\n",
    "# Grafico de torta para Mujer\n",
    "ax1.pie(Total_M, explode=explode, labels=Descripcion, autopct='%1.1f%%')\n",
    "ax1.set_title('Nacimientos 2018 por semanas gestación: Mujer')\n",
    "\n",
    "# Grafico de torta para Varón\n",
    "ax2.pie(Total_V, explode=explode, labels=Descripcion, autopct='%1.1f%%')\n",
    "ax2.set_title('Nacimientos 2018 por semanas gestación: Varón')\n",
    "# Crear las leyendas para cada gráfico de torta\n",
    "legend1 = ax1.legend(loc='upper left')\n",
    "legend2 = ax2.legend(loc='upper right')\n",
    "\n",
    "# Ajustar la disposición de los subgráficos y mostrar la figura\n",
    "plt.tight_layout()\n",
    "plt.show()"
   ]
  },
  {
   "cell_type": "markdown",
   "metadata": {},
   "source": [
    "### Consulta: Nacimientos discriminados por edad de la madre"
   ]
  },
  {
   "cell_type": "code",
   "execution_count": 26,
   "metadata": {},
   "outputs": [],
   "source": [
    "# Agrupamos y sumamos los nacimientos..."
   ]
  },
  {
   "cell_type": "code",
   "execution_count": 27,
   "metadata": {},
   "outputs": [],
   "source": [
    "# Gráfico..."
   ]
  },
  {
   "cell_type": "markdown",
   "metadata": {},
   "source": [
    "### Consulta: Cantidad de Nacimientos por nivel de instrucción"
   ]
  },
  {
   "cell_type": "code",
   "execution_count": 19,
   "metadata": {},
   "outputs": [
    {
     "name": "stdout",
     "output_type": "stream",
     "text": [
      "instruccion_de_la_madre_id\n",
      "1      1726\n",
      "2     22305\n",
      "3    102035\n",
      "4    161474\n",
      "5    205616\n",
      "6     44745\n",
      "7     95637\n",
      "8     51856\n",
      "Name: cantidad_nacimientos, dtype: int64\n"
     ]
    }
   ],
   "source": [
    "# Agrupar según nivel de instrucción y sumar los nacimientos correspondientes a cada nivel:\n",
    "nacimientos_x_instruccion = df.groupby('instruccion_de_la_madre_id')['cantidad_nacimientos'].sum()\n",
    "\n",
    "print(nacimientos_x_instruccion)"
   ]
  },
  {
   "cell_type": "code",
   "execution_count": 20,
   "metadata": {},
   "outputs": [
    {
     "name": "stdout",
     "output_type": "stream",
     "text": [
      "[0.25, 3.25, 14.89, 23.56, 30.0, 6.53, 13.95, 7.57]\n"
     ]
    }
   ],
   "source": [
    "#Calculo los porcentajes de nacimientos según orden de instrucción:\n",
    "total_nacimientos = nacimientos_x_instruccion.sum()\n",
    "\n",
    "porcentajes_nacimientos_instruccion = []\n",
    "for i in range(len(nacimientos_x_instruccion)):\n",
    "    porcentaje = nacimientos_x_instruccion[i+1]*100/total_nacimientos\n",
    "    porcentaje = round(porcentaje, 2)\n",
    "    porcentajes_nacimientos_instruccion.append(porcentaje)\n",
    "\n",
    "print(porcentajes_nacimientos_instruccion)"
   ]
  },
  {
   "cell_type": "code",
   "execution_count": 21,
   "metadata": {},
   "outputs": [
    {
     "data": {
      "image/png": "[encoded data removed]",
      "text/plain": [
       "<Figure size 576x432 with 1 Axes>"
      ]
     },
     "metadata": {
      "needs_background": "light"
     },
     "output_type": "display_data"
    }
   ],
   "source": [
    "#Gráfico cantidad de nacimientos según nivel de instrucción:\n",
    "plt.figure(figsize=(8, 6))\n",
    "grafico = plt.bar(range(len(niveles_instruccion)), list(nacimientos_x_instruccion))\n",
    "plt.xticks(range(len(niveles_instruccion)), niveles_instruccion, rotation='vertical')\n",
    "plt.title('Cantidad de Nacimientos por Nivel de Instrucción')\n",
    "plt.xlabel('Nivel de Instrucción')\n",
    "plt.ylabel('Nacimientos')\n",
    "\n",
    "#Coloco los porcentajes sobre las barras:\n",
    "i = 0\n",
    "for barra in grafico:\n",
    "    ancho = barra.get_width()\n",
    "    alto = barra.get_height()\n",
    "    x, y = barra.get_xy()\n",
    "    \n",
    "    plt.text(x+ancho/2, y+alto*1.01, str(porcentajes_nacimientos_instruccion[i])+\"%\", ha='center')\n",
    "    i += 1\n",
    "\n",
    "plt.show()"
   ]
  },
  {
   "cell_type": "markdown",
   "metadata": {},
   "source": [
    "### Consulta: Comparativa de nacimientos según edad de la madre para máximos y mínimos niveles educativos"
   ]
  },
  {
   "cell_type": "code",
   "execution_count": 22,
   "metadata": {},
   "outputs": [
    {
     "name": "stdout",
     "output_type": "stream",
     "text": [
      "instruccion_de_la_madre_id  edad_de_la_madre_grupos_id\n",
      "1                           1                               17\n",
      "                            2                              232\n",
      "                            3                              391\n",
      "                            4                              375\n",
      "                            5                              350\n",
      "                                                          ... \n",
      "8                           5                             8896\n",
      "                            6                             5658\n",
      "                            7                             1558\n",
      "                            8                              114\n",
      "                            9                             5398\n",
      "Name: cantidad_nacimientos, Length: 69, dtype: int64\n"
     ]
    }
   ],
   "source": [
    "#Agrupar según nivel de instrucción y edad y sumar los nacimientos correspondientes a cada combinación\n",
    "nacimientos_instruccion_edad = df.groupby(['instruccion_de_la_madre_id', 'edad_de_la_madre_grupos_id'])['cantidad_nacimientos'].sum()\n",
    "\n",
    "print(nacimientos_instruccion_edad)"
   ]
  },
  {
   "cell_type": "markdown",
   "metadata": {},
   "source": [
    "Creamos una función que sume los nacimientos discriminados segun edad para un nivel o rango de instrucción determinado y los devuelva en una lista ordenada. Debe recibir como parámetros los ***id*** correspondientes al mínimo y máximo niveles de instrucción que definen el rango deseado."
   ]
  },
  {
   "cell_type": "code",
   "execution_count": 23,
   "metadata": {},
   "outputs": [],
   "source": [
    "def suma_nacimientos_xedad_xinstruccion(min_instruccion, max_instruccion):\n",
    "    suma_nxexi = []\n",
    "    for i in range(len(grupos_etarios)):\n",
    "        nacimientos = 0\n",
    "        for nivel_instruccion in range(min_instruccion, max_instruccion):\n",
    "            # Es necesaria la cláusula try-except ya que es posible que no existan datos para alguna\n",
    "            # franja etaria determinada,correspondiente al nivel de instrucción solicitado\n",
    "            try:\n",
    "                nacimientos += nacimientos_instruccion_edad[nivel_instruccion][i+1]\n",
    "            except KeyError:\n",
    "                nacimientos += 0\n",
    "        suma_nxexi.append(nacimientos)\n",
    "    return suma_nxexi"
   ]
  },
  {
   "cell_type": "markdown",
   "metadata": {},
   "source": [
    "Utilizando la función anterior, calculamos la sumatoria de nacimientos para rangos de *'baja'* y *'alta'* instrucción. Estos rangos los definimos de la siguiente manera:\n",
    "\n",
    "- *Baja instrucción*: ~50% de la población con menor instrucción.\n",
    "- *Alta instrucción*: ~50% de la población con mayor instrucción.\n",
    "\n",
    "Puede observarse en la consulta de nacimientos discriminados por nivel de instrucción, cómo esta división se encuentra entre los niveles educativos *Sin Instrucción a Secundario Incompleto* como porción inferior y *Secundario Completo a Terciario Completo* como porción superior.\n",
    "\n",
    "De todas formas, pueden consultarse los rangos deseados, manipulando los ***id*** según han sido determinados en el dataset: Sin Instrucción (1), Primaria Incompleta (2), Primaria Completa (3), Secundaria Incompleta (4), Secundaria Completa (5), Terciario Incompleto (6), Terciario Completo (7) y Sin especificar (8).\n",
    "\n",
    "Para visualizar el *'Caso Extremo'*, ingrese los valores sugeridos y genere el posterior gráfico."
   ]
  },
  {
   "cell_type": "code",
   "execution_count": 24,
   "metadata": {},
   "outputs": [
    {
     "name": "stdout",
     "output_type": "stream",
     "text": [
      "[2147, 62616, 81347, 62569, 41422, 26118, 7979, 526, 2816] [25.86, 3.67]\n",
      "[0, 15732, 70978, 89133, 90361, 59733, 15329, 1287, 3445] [29.81, 4.46]\n"
     ]
    }
   ],
   "source": [
    "#Calculo la sumatoria de nacimientos y promedios de edad para rangos de baja y alta instrucción:\n",
    "\n",
    "#Baja instrucción: Sin instrucción (1) a Secundario Incompleto (4)\n",
    "suma_nxe_instruccion_baja = suma_nacimientos_xedad_xinstruccion(1, 5)  #Valores sugeridos 'Caso extremo': (4, 5)\n",
    "promedio_baja = calcula_promedio_edad(suma_nxe_instruccion_baja)\n",
    "\n",
    "#Alta instrucción: Secundario Completo (5) a Terciario Completo (7)\n",
    "suma_nxe_instruccion_alta = suma_nacimientos_xedad_xinstruccion(5, 8) #Valores sugeridos 'Caso extremo': (7, 8)\n",
    "promedio_alta = calcula_promedio_edad(suma_nxe_instruccion_alta)\n",
    "\n",
    "print(suma_nxe_instruccion_baja, promedio_baja)\n",
    "print(suma_nxe_instruccion_alta, promedio_alta)"
   ]
  },
  {
   "cell_type": "code",
   "execution_count": 25,
   "metadata": {},
   "outputs": [
    {
     "data": {
      "image/png": "[encoded data removed]",
      "text/plain": [
       "<Figure size 576x432 with 1 Axes>"
      ]
     },
     "metadata": {
      "needs_background": "light"
     },
     "output_type": "display_data"
    }
   ],
   "source": [
    "#Gráfico de cantidad de nacimientos según edades para baja y alta instrucción:\n",
    "plt.figure(figsize=(8, 6))\n",
    "\n",
    "#Línea Baja instrucción y promedio\n",
    "plt.plot(range(len(grupos_etarios)), suma_nxe_instruccion_baja, color='r', label='Baja instrucción')\n",
    "plt.axvline(promedio_baja[1]-1, color='r', linestyle='dashed')\n",
    "plt.text(promedio_baja[1]-1.2, 10000, promedio_baja[0], rotation='90')\n",
    "\n",
    "#Línea Alta instrucción y promedio\n",
    "plt.axvline(promedio_alta[1]-1, color='b', linestyle='dashed')\n",
    "plt.text(promedio_alta[1]-1.2, 20000, promedio_alta[0], rotation='90')\n",
    "plt.plot(suma_nxe_instruccion_alta, color='b', label='Alta instrucción')\n",
    "\n",
    "plt.xticks(range(len(grupos_etarios)), grupos_etarios, rotation='vertical')\n",
    "plt.title('Comparativa nacimientos y promedios por edades según instrucción')\n",
    "plt.xlabel('Edades')\n",
    "plt.ylabel('Nacimientos')\n",
    "plt.legend()\n",
    "plt.show()"
   ]
  },
  {
   "cell_type": "markdown",
   "metadata": {
    "id": "tehe8dv0jNnf"
   },
   "source": [
    "RESULTADOS:"
   ]
  },
  {
   "cell_type": "markdown",
   "metadata": {},
   "source": [
    "Puede observarse al discriminar los nacimientos según nivel educativo de la madre, que más del 50% de los mismos se hayan concentrados entre las categorías *'Secundario Incompleto'* y *'Secundario Completo'*. Se observa también una pronunciada caída de los nacimientos para las categorías de educacion superior *'Terciaria'*. Las causas de esto podrían ser múltiples, entre las que encontraríamos la edad de la madre y las dificultades de encarar este tipo de estudios en conjunción a las exigencias familiares.\n",
    "\n",
    "Otra división notoria es la que se da entre lo que podemos denominar *'Alto'* y *'Bajo'* nivel educativo. Los niveles educativos inferiores (*'Sin Instrucción', 'Primaria Incompleta', 'Primaria Completa' y 'Secundaria Incompleta'*) comprenden aproximadamente el 50% de los datos mientras que la otra porción queda para los niveles educativos superiores (*'Secundaria Completa', 'Terciario Incompleto' y 'Terciario Completo'*)\n",
    "\n",
    "Al hacer la comparación de la distribución de las edades para los nacimientos entre alto y bajo nivel educativo, se observan picos más tempranos de maternidad a menor educación, con un promedio de edad de **25.9** años, en contraste a los picos más tardíos de maternidad para los niveles de instrucción altos, con un promedio de edad de la madre que ronda los **29.9** años.\n",
    "\n",
    "El caso más extremo se da entre los niveles educativos *'Secundario Incompleto'* y *'Terciario Completo'* con unos promedios de edad de **24.8** y **33.3** años respectivamente."
   ]
  },
  {
   "cell_type": "markdown",
   "metadata": {
    "id": "4sWLxJFBjNnf"
   },
   "source": [
    "# **CONCLUSIONES:**\n"
   ]
  },
  {
   "cell_type": "markdown",
   "metadata": {
    "id": "Ge1Sn9q8PK6r"
   },
   "source": [
    "En el gráfico de barras se observa que los nacimientos de varones es un poco mas elevado en cada provincia que el nacimiento de mujeres."
   ]
  },
  {
   "cell_type": "markdown",
   "metadata": {
    "id": "S-GBT05tN_Uj"
   },
   "source": [
    "En los gráficos comparativos de acuerdo a los datos de nacimientos durante el año 2018 se observa en los gráficos de torta que los nacimientos prematuros de varones es 0,5% superior al de nacimientos prematuros de mujeres.\n",
    "\n"
   ]
  }
 ],
 "metadata": {
  "colab": {
   "include_colab_link": true,
   "provenance": []
  },
  "kernelspec": {
   "display_name": "Python 3 (ipykernel)",
   "language": "python",
   "name": "python3"
  },
  "language_info": {
   "codemirror_mode": {
    "name": "ipython",
    "version": 3
   },
   "file_extension": ".py",
   "mimetype": "text/x-python",
   "name": "python",
   "nbconvert_exporter": "python",
   "pygments_lexer": "ipython3",
   "version": "3.9.12"
  }
 },
 "nbformat": 4,
 "nbformat_minor": 1
}
