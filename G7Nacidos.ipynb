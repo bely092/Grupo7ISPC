{
  "cells": [
    {
      "cell_type": "markdown",
      "metadata": {
        "id": "view-in-github",
        "colab_type": "text"
      },
      "source": [
        "<a href=\"https://colab.research.google.com/github/gagabriela2787/Grupo7ISPC/blob/SilviaCarinaMonzon/G7Nacidos.ipynb\" target=\"_parent\"><img src=\"https://colab.research.google.com/assets/colab-badge.svg\" alt=\"Open In Colab\"/></a>"
      ]
    },
    {
      "cell_type": "markdown",
      "metadata": {
        "id": "uj7hb3MljNnY"
      },
      "source": [
        "Análisis Nacidos Vivos Registrados 2018\n"
      ]
    },
    {
      "cell_type": "markdown",
      "metadata": {
        "id": "s5HpIvVUjNnb"
      },
      "source": [
        "# **RECOLECCIÓN Y PREPARACIÓN DE DATOS**"
      ]
    },
    {
      "cell_type": "code",
      "execution_count": 1,
      "metadata": {
        "id": "FIOYLViqjNnc"
      },
      "outputs": [],
      "source": [
        "import pandas as pd\n",
        "import matplotlib.pyplot as plt\n",
        "import seaborn as sns\n",
        "import numpy as np\n"
      ]
    },
    {
      "cell_type": "code",
      "execution_count": 2,
      "metadata": {
        "id": "wPIWN-wfjNnd"
      },
      "outputs": [],
      "source": [
        "\n",
        "# URL del archivo CSV\n",
        "url = 'https://raw.githubusercontent.com/gagabriela2787/Grupo7ISPC/main/nacidos-vivos-registrados-2018_deis.csv'\n",
        "\n",
        "# Leer el archivo CSV desde la URL\n",
        "df = pd.read_csv(url)"
      ]
    },
    {
      "cell_type": "markdown",
      "metadata": {
        "id": "97TImRCEjNne"
      },
      "source": [
        "# **ANÁLISIS EXPLORATORIO**\n"
      ]
    },
    {
      "cell_type": "code",
      "execution_count": null,
      "metadata": {
        "colab": {
          "base_uri": "https://localhost:8080/"
        },
        "id": "jA9NxNiLnQGe",
        "outputId": "8bbb9ff3-6d50-4636-e118-246eef066cda"
      },
      "outputs": [
        {
          "data": {
            "text/plain": [
              "(30099, 15)"
            ]
          },
          "execution_count": 3,
          "metadata": {},
          "output_type": "execute_result"
        }
      ],
      "source": [
        "# Tamaño de la matriz de datos (filas, columnas)\n",
        "df.shape"
      ]
    },
    {
      "cell_type": "code",
      "execution_count": null,
      "metadata": {
        "colab": {
          "base_uri": "https://localhost:8080/"
        },
        "id": "nhdNJ6aPneg2",
        "outputId": "4a10168f-b026-4d88-bb6f-50d370a1e48a"
      },
      "outputs": [
        {
          "name": "stdout",
          "output_type": "stream",
          "text": [
            "Index(['jurisdiccion_de_residencia_id', 'jurisdiccion_de_residencia_nombre',\n",
            "       'tipo_de_parto_id', 'tipo_de_parto_nombre', 'sexo', 'sexo_nombre',\n",
            "       'edad_de_la_madre_grupos_id', 'edad_de_la_madre_grupos_nombre',\n",
            "       'semanas_de_gestacion_id', 'semanas_de_gestacion_nombre',\n",
            "       'instruccion_de_la_madre_id', 'instruccion_de_la_madre_nombre',\n",
            "       'Intervalos_de_peso_al_nacer_id', 'intervalos_de_peso_al_nacer_nombre',\n",
            "       'cantidad_nacimientos'],\n",
            "      dtype='object')\n"
          ]
        }
      ],
      "source": [
        "# Mostrar todas las columnas\n",
        "print(df.columns)"
      ]
    },
    {
      "cell_type": "code",
      "execution_count": null,
      "metadata": {
        "colab": {
          "base_uri": "https://localhost:8080/",
          "height": 364
        },
        "id": "sfwLD_k-njHt",
        "outputId": "3e64db22-66b4-482e-ccc0-b709d086233d"
      },
      "outputs": [
        {
          "data": {
            "text/html": [
              "\n",
              "  <div id=\"df-fd538d76-12da-4fe6-8406-9e64937bef40\">\n",
              "    <div class=\"colab-df-container\">\n",
              "      <div>\n",
              "<style scoped>\n",
              "    .dataframe tbody tr th:only-of-type {\n",
              "        vertical-align: middle;\n",
              "    }\n",
              "\n",
              "    .dataframe tbody tr th {\n",
              "        vertical-align: top;\n",
              "    }\n",
              "\n",
              "    .dataframe thead th {\n",
              "        text-align: right;\n",
              "    }\n",
              "</style>\n",
              "<table border=\"1\" class=\"dataframe\">\n",
              "  <thead>\n",
              "    <tr style=\"text-align: right;\">\n",
              "      <th></th>\n",
              "      <th>jurisdiccion_de_residencia_id</th>\n",
              "      <th>tipo_de_parto_id</th>\n",
              "      <th>sexo</th>\n",
              "      <th>edad_de_la_madre_grupos_id</th>\n",
              "      <th>semanas_de_gestacion_id</th>\n",
              "      <th>instruccion_de_la_madre_id</th>\n",
              "      <th>Intervalos_de_peso_al_nacer_id</th>\n",
              "      <th>cantidad_nacimientos</th>\n",
              "    </tr>\n",
              "  </thead>\n",
              "  <tbody>\n",
              "    <tr>\n",
              "      <th>count</th>\n",
              "      <td>30099.000000</td>\n",
              "      <td>30099.000000</td>\n",
              "      <td>30099.000000</td>\n",
              "      <td>30099.000000</td>\n",
              "      <td>30099.000000</td>\n",
              "      <td>30099.000000</td>\n",
              "      <td>30099.000000</td>\n",
              "      <td>30099.000000</td>\n",
              "    </tr>\n",
              "    <tr>\n",
              "      <th>mean</th>\n",
              "      <td>42.405528</td>\n",
              "      <td>1.226120</td>\n",
              "      <td>1.663610</td>\n",
              "      <td>4.524968</td>\n",
              "      <td>5.487093</td>\n",
              "      <td>4.772351</td>\n",
              "      <td>5.763015</td>\n",
              "      <td>22.771321</td>\n",
              "    </tr>\n",
              "    <tr>\n",
              "      <th>std</th>\n",
              "      <td>30.808996</td>\n",
              "      <td>0.739671</td>\n",
              "      <td>1.204007</td>\n",
              "      <td>1.831169</td>\n",
              "      <td>1.155895</td>\n",
              "      <td>1.844638</td>\n",
              "      <td>1.850774</td>\n",
              "      <td>122.235335</td>\n",
              "    </tr>\n",
              "    <tr>\n",
              "      <th>min</th>\n",
              "      <td>2.000000</td>\n",
              "      <td>1.000000</td>\n",
              "      <td>1.000000</td>\n",
              "      <td>1.000000</td>\n",
              "      <td>1.000000</td>\n",
              "      <td>1.000000</td>\n",
              "      <td>1.000000</td>\n",
              "      <td>1.000000</td>\n",
              "    </tr>\n",
              "    <tr>\n",
              "      <th>25%</th>\n",
              "      <td>14.000000</td>\n",
              "      <td>1.000000</td>\n",
              "      <td>1.000000</td>\n",
              "      <td>3.000000</td>\n",
              "      <td>5.000000</td>\n",
              "      <td>3.000000</td>\n",
              "      <td>5.000000</td>\n",
              "      <td>1.000000</td>\n",
              "    </tr>\n",
              "    <tr>\n",
              "      <th>50%</th>\n",
              "      <td>38.000000</td>\n",
              "      <td>1.000000</td>\n",
              "      <td>2.000000</td>\n",
              "      <td>4.000000</td>\n",
              "      <td>6.000000</td>\n",
              "      <td>5.000000</td>\n",
              "      <td>6.000000</td>\n",
              "      <td>2.000000</td>\n",
              "    </tr>\n",
              "    <tr>\n",
              "      <th>75%</th>\n",
              "      <td>70.000000</td>\n",
              "      <td>1.000000</td>\n",
              "      <td>2.000000</td>\n",
              "      <td>6.000000</td>\n",
              "      <td>6.000000</td>\n",
              "      <td>6.000000</td>\n",
              "      <td>7.000000</td>\n",
              "      <td>7.000000</td>\n",
              "    </tr>\n",
              "    <tr>\n",
              "      <th>max</th>\n",
              "      <td>99.000000</td>\n",
              "      <td>9.000000</td>\n",
              "      <td>9.000000</td>\n",
              "      <td>9.000000</td>\n",
              "      <td>8.000000</td>\n",
              "      <td>8.000000</td>\n",
              "      <td>9.000000</td>\n",
              "      <td>4512.000000</td>\n",
              "    </tr>\n",
              "  </tbody>\n",
              "</table>\n",
              "</div>\n",
              "      <button class=\"colab-df-convert\" onclick=\"convertToInteractive('df-fd538d76-12da-4fe6-8406-9e64937bef40')\"\n",
              "              title=\"Convert this dataframe to an interactive table.\"\n",
              "              style=\"display:none;\">\n",
              "        \n",
              "  <svg xmlns=\"http://www.w3.org/2000/svg\" height=\"24px\"viewBox=\"0 0 24 24\"\n",
              "       width=\"24px\">\n",
              "    <path d=\"M0 0h24v24H0V0z\" fill=\"none\"/>\n",
              "    <path d=\"M18.56 5.44l.94 2.06.94-2.06 2.06-.94-2.06-.94-.94-2.06-.94 2.06-2.06.94zm-11 1L8.5 8.5l.94-2.06 2.06-.94-2.06-.94L8.5 2.5l-.94 2.06-2.06.94zm10 10l.94 2.06.94-2.06 2.06-.94-2.06-.94-.94-2.06-.94 2.06-2.06.94z\"/><path d=\"M17.41 7.96l-1.37-1.37c-.4-.4-.92-.59-1.43-.59-.52 0-1.04.2-1.43.59L10.3 9.45l-7.72 7.72c-.78.78-.78 2.05 0 2.83L4 21.41c.39.39.9.59 1.41.59.51 0 1.02-.2 1.41-.59l7.78-7.78 2.81-2.81c.8-.78.8-2.07 0-2.86zM5.41 20L4 18.59l7.72-7.72 1.47 1.35L5.41 20z\"/>\n",
              "  </svg>\n",
              "      </button>\n",
              "      \n",
              "  <style>\n",
              "    .colab-df-container {\n",
              "      display:flex;\n",
              "      flex-wrap:wrap;\n",
              "      gap: 12px;\n",
              "    }\n",
              "\n",
              "    .colab-df-convert {\n",
              "      background-color: #E8F0FE;\n",
              "      border: none;\n",
              "      border-radius: 50%;\n",
              "      cursor: pointer;\n",
              "      display: none;\n",
              "      fill: #1967D2;\n",
              "      height: 32px;\n",
              "      padding: 0 0 0 0;\n",
              "      width: 32px;\n",
              "    }\n",
              "\n",
              "    .colab-df-convert:hover {\n",
              "      background-color: #E2EBFA;\n",
              "      box-shadow: 0px 1px 2px rgba(60, 64, 67, 0.3), 0px 1px 3px 1px rgba(60, 64, 67, 0.15);\n",
              "      fill: #174EA6;\n",
              "    }\n",
              "\n",
              "    [theme=dark] .colab-df-convert {\n",
              "      background-color: #3B4455;\n",
              "      fill: #D2E3FC;\n",
              "    }\n",
              "\n",
              "    [theme=dark] .colab-df-convert:hover {\n",
              "      background-color: #434B5C;\n",
              "      box-shadow: 0px 1px 3px 1px rgba(0, 0, 0, 0.15);\n",
              "      filter: drop-shadow(0px 1px 2px rgba(0, 0, 0, 0.3));\n",
              "      fill: #FFFFFF;\n",
              "    }\n",
              "  </style>\n",
              "\n",
              "      <script>\n",
              "        const buttonEl =\n",
              "          document.querySelector('#df-fd538d76-12da-4fe6-8406-9e64937bef40 button.colab-df-convert');\n",
              "        buttonEl.style.display =\n",
              "          google.colab.kernel.accessAllowed ? 'block' : 'none';\n",
              "\n",
              "        async function convertToInteractive(key) {\n",
              "          const element = document.querySelector('#df-fd538d76-12da-4fe6-8406-9e64937bef40');\n",
              "          const dataTable =\n",
              "            await google.colab.kernel.invokeFunction('convertToInteractive',\n",
              "                                                     [key], {});\n",
              "          if (!dataTable) return;\n",
              "\n",
              "          const docLinkHtml = 'Like what you see? Visit the ' +\n",
              "            '<a target=\"_blank\" href=https://colab.research.google.com/notebooks/data_table.ipynb>data table notebook</a>'\n",
              "            + ' to learn more about interactive tables.';\n",
              "          element.innerHTML = '';\n",
              "          dataTable['output_type'] = 'display_data';\n",
              "          await google.colab.output.renderOutput(dataTable, element);\n",
              "          const docLink = document.createElement('div');\n",
              "          docLink.innerHTML = docLinkHtml;\n",
              "          element.appendChild(docLink);\n",
              "        }\n",
              "      </script>\n",
              "    </div>\n",
              "  </div>\n",
              "  "
            ],
            "text/plain": [
              "       jurisdiccion_de_residencia_id  tipo_de_parto_id          sexo  \\\n",
              "count                   30099.000000      30099.000000  30099.000000   \n",
              "mean                       42.405528          1.226120      1.663610   \n",
              "std                        30.808996          0.739671      1.204007   \n",
              "min                         2.000000          1.000000      1.000000   \n",
              "25%                        14.000000          1.000000      1.000000   \n",
              "50%                        38.000000          1.000000      2.000000   \n",
              "75%                        70.000000          1.000000      2.000000   \n",
              "max                        99.000000          9.000000      9.000000   \n",
              "\n",
              "       edad_de_la_madre_grupos_id  semanas_de_gestacion_id  \\\n",
              "count                30099.000000             30099.000000   \n",
              "mean                     4.524968                 5.487093   \n",
              "std                      1.831169                 1.155895   \n",
              "min                      1.000000                 1.000000   \n",
              "25%                      3.000000                 5.000000   \n",
              "50%                      4.000000                 6.000000   \n",
              "75%                      6.000000                 6.000000   \n",
              "max                      9.000000                 8.000000   \n",
              "\n",
              "       instruccion_de_la_madre_id  Intervalos_de_peso_al_nacer_id  \\\n",
              "count                30099.000000                    30099.000000   \n",
              "mean                     4.772351                        5.763015   \n",
              "std                      1.844638                        1.850774   \n",
              "min                      1.000000                        1.000000   \n",
              "25%                      3.000000                        5.000000   \n",
              "50%                      5.000000                        6.000000   \n",
              "75%                      6.000000                        7.000000   \n",
              "max                      8.000000                        9.000000   \n",
              "\n",
              "       cantidad_nacimientos  \n",
              "count          30099.000000  \n",
              "mean              22.771321  \n",
              "std              122.235335  \n",
              "min                1.000000  \n",
              "25%                1.000000  \n",
              "50%                2.000000  \n",
              "75%                7.000000  \n",
              "max             4512.000000  "
            ]
          },
          "execution_count": 5,
          "metadata": {},
          "output_type": "execute_result"
        }
      ],
      "source": [
        "#Primera descripción general de los datos\n",
        "df.describe()"
      ]
    },
    {
      "cell_type": "markdown",
      "metadata": {
        "id": "PfQM7UAVjNne"
      },
      "source": [
        "# **PROCESAMIENTO Y ANÁLISIS DE DATOS**\n"
      ]
    },
    {
      "cell_type": "code",
      "source": [
        "# Consulta: Obtener los nombres únicos de las provincias en el DataFrame\n",
        "provincias = df['jurisdiccion_de_residencia_nombre'].unique()"
      ],
      "metadata": {
        "id": "-GQ-9JCQRf65"
      },
      "execution_count": null,
      "outputs": []
    },
    {
      "cell_type": "code",
      "source": [
        "#mostrar al usuario el nombre de las provincias del dataFrame, para que seleccione una y obtenga la informacion que\n",
        "#requiere de dicha provincia\n",
        "print(\"Solicitar datos de una provincia\")\n",
        "\n",
        "# Consulta: Obtener los nombres únicos de las provincias en el DataFrame\n",
        "provincias = df['jurisdiccion_de_residencia_nombre'].unique()\n",
        "\n",
        "# Mostrar los nombres únicos de las provincias\n",
        "print(\"Nombres de las provincias presentes en el dataset:\")\n",
        "for pro in provincias:\n",
        "    print(pro)\n",
        "\n",
        "# Solicitar al usuario el ingreso de un provincia\n",
        "provincia_ingresada = input(\"Ingrese el nombre de una provincia tal cual el listado anterior: \")\n",
        "\n",
        "# Verificar si la provincia existe en el DataFrame\n",
        "if provincia_ingresada in df['jurisdiccion_de_residencia_nombre'].unique():\n",
        "    #creo el dataFrame con los registros de la provincia correspondiente\n",
        "    registros = df[df['jurisdiccion_de_residencia_nombre'] == provincia_ingresada]\n",
        "    # Solicitar al usuario el ingreso de una opcion\n",
        "    print(\"Menu:\")\n",
        "    print(\"1- Cantidad de nacimientos\")\n",
        "    print(\"2-Cantidad de nacimientos simples\")\n",
        "    print(\"3-Cantidad de nacimientos dobles\")\n",
        "    opcion_ingresada = input(\"Ingrese una opcion del menu: \")\n",
        "    opcion=int (opcion_ingresada)\n",
        "    match opcion:\n",
        "        case 1:\n",
        "             print(\"Cantidad de nacimientos\")\n",
        "             suma_nacimientos=registros['cantidad_nacimientos'].sum()\n",
        "             print(\"La cantidad de nacimientos en \"+provincia_ingresada+\" es: \"+str(suma_nacimientos))\n",
        "\n",
        "        case 2:\n",
        "            print(\"Cantidad de nacimientos simples\")\n",
        "            # Inicializamos la variable 'sumaSimple' en 0\n",
        "            sumaSimple = 0\n",
        "            # Iteramos sobre las filas del DataFrame\n",
        "            for index, row in registros.iterrows():\n",
        "              if row['tipo_de_parto_id'] == 1:\n",
        "                sumaSimple+= row['cantidad_nacimientos']\n",
        "            print(\"La cantidad de nacimientos SIMPLES en \"+provincia_ingresada+\" es: \"+str(sumaSimple))\n",
        "        case 3:\n",
        "            print(\"Cantidad de nacimientos dobles\")\n",
        "            # Inicializamos la variable 'sumaDobles' en 0\n",
        "            sumaDobles = 0\n",
        "            # Iteramos sobre las filas del DataFrame\n",
        "            for index, row in registros.iterrows():\n",
        "              if row['tipo_de_parto_id'] == 23:\n",
        "                sumaDobles+= row['cantidad_nacimientos']\n",
        "            print(\"La cantidad de nacimientos DOBLES en \"+provincia_ingresada+\" es: \"+str(sumaDobles))\n",
        "        case _:print(\"Error: La opcion ingresada no es correcta\")\n",
        "\n",
        "\n",
        "else:\n",
        "      print(\"La provincia ingresada no se encuentra en el dataset.\")"
      ],
      "metadata": {
        "id": "c7M0zZfSWYkn"
      },
      "execution_count": null,
      "outputs": []
    },
    {
      "cell_type": "code",
      "source": [
        "# Ejecutar éste codigo para crear un dataframe con letra y nombre de cada provincia\n",
        "Letra=[\"B\",\"C\",\"K\",\"H\",\"U\",\"X\",\"W\",\"E\",\"P\",\"Y\",\"L\",\"F\",\"M\",\"N\",\"Q\",\"R\",\"A\",\"J\",\"D\",\"Z\",\"S\",\"G\",\"V\",\"T\"]\n",
        "Nombre=[\"Buenos Aires\",\"Ciudad Aut. de Buenos Aires\",\"Catamarca\",\"Chaco\",\"Chubut\",\n",
        "        \"Córdoba\",\"Corrientes\",\"Entre Ríos\",\"Formosa\",\"Jujuy\",\n",
        "        \"La Pampa\",\"La Rioja\",\"Mendoza\",\"Misiones\",\"Neuquén\",\n",
        "        \"Río Negro\",\"Salta\",\"San Juan\",\"San Luis\",\"Santa Cruz\",\n",
        "        \"Santa Fe\",\"Santiago del Estero\",\"Tierra del Fuego\",\"Tucumán\"]\n",
        "df_Letra=pd.DataFrame(\n",
        "    {\"Letra\": Letra,\n",
        "     \"Nombre\": Nombre})\n",
        "print(df_Letra)"
      ],
      "metadata": {
        "colab": {
          "base_uri": "https://localhost:8080/"
        },
        "id": "tKwff1vCJ1J1",
        "outputId": "5ad47403-f427-490e-d5f5-c2432bb89202"
      },
      "execution_count": 3,
      "outputs": [
        {
          "output_type": "stream",
          "name": "stdout",
          "text": [
            "   Letra                       Nombre\n",
            "0      B                 Buenos Aires\n",
            "1      C  Ciudad Aut. de Buenos Aires\n",
            "2      K                    Catamarca\n",
            "3      H                        Chaco\n",
            "4      U                       Chubut\n",
            "5      X                      Córdoba\n",
            "6      W                   Corrientes\n",
            "7      E                   Entre Ríos\n",
            "8      P                      Formosa\n",
            "9      Y                        Jujuy\n",
            "10     L                     La Pampa\n",
            "11     F                     La Rioja\n",
            "12     M                      Mendoza\n",
            "13     N                     Misiones\n",
            "14     Q                      Neuquén\n",
            "15     R                    Río Negro\n",
            "16     A                        Salta\n",
            "17     J                     San Juan\n",
            "18     D                     San Luis\n",
            "19     Z                   Santa Cruz\n",
            "20     S                     Santa Fe\n",
            "21     G          Santiago del Estero\n",
            "22     V             Tierra del Fuego\n",
            "23     T                      Tucumán\n"
          ]
        }
      ]
    },
    {
      "cell_type": "code",
      "source": [
        "# Unir dataframe df_letra con el df original con datos\n",
        "df_Union = pd.merge(left=df_Letra, right=df, how=\"inner\", left_on=\"Nombre\", right_on=\"jurisdiccion_de_residencia_nombre\")\n",
        "df_Union.head()"
      ],
      "metadata": {
        "colab": {
          "base_uri": "https://localhost:8080/",
          "height": 357
        },
        "id": "WeANdDV2KIr7",
        "outputId": "9069145d-9d36-4166-c746-340b5efa1951"
      },
      "execution_count": 4,
      "outputs": [
        {
          "output_type": "execute_result",
          "data": {
            "text/plain": [
              "  Letra        Nombre  jurisdiccion_de_residencia_id  \\\n",
              "0     B  Buenos Aires                              6   \n",
              "1     B  Buenos Aires                              6   \n",
              "2     B  Buenos Aires                              6   \n",
              "3     B  Buenos Aires                              6   \n",
              "4     B  Buenos Aires                              6   \n",
              "\n",
              "  jurisdiccion_de_residencia_nombre  tipo_de_parto_id tipo_de_parto_nombre  \\\n",
              "0                      Buenos Aires                 1               Simple   \n",
              "1                      Buenos Aires                 2             Múltiple   \n",
              "2                      Buenos Aires                 2             Múltiple   \n",
              "3                      Buenos Aires                 1               Simple   \n",
              "4                      Buenos Aires                 2             Múltiple   \n",
              "\n",
              "   sexo    sexo_nombre  edad_de_la_madre_grupos_id  \\\n",
              "0     1          Varón                           5   \n",
              "1     1          Varón                           2   \n",
              "2     2          Mujer                           5   \n",
              "3     9  Sin espeficar                           4   \n",
              "4     2          Mujer                           8   \n",
              "\n",
              "  edad_de_la_madre_grupos_nombre  semanas_de_gestacion_id  \\\n",
              "0                        30 a 34                        8   \n",
              "1                        15 a 19                        5   \n",
              "2                        30 a 34                        6   \n",
              "3                        25 a 29                        5   \n",
              "4                    De 45 y más                        3   \n",
              "\n",
              "  semanas_de_gestacion_nombre  instruccion_de_la_madre_id  \\\n",
              "0             Sin especificar                           7   \n",
              "1                     32 a 36                           5   \n",
              "2                     37 a 41                           3   \n",
              "3                     32 a 36                           3   \n",
              "4                     24 a 27                           8   \n",
              "\n",
              "   instruccion_de_la_madre_nombre  Intervalos_de_peso_al_nacer_id  \\\n",
              "0  Terciaria/Universitaria Comple                               4   \n",
              "1   Secundaria/Polimodal Completa                               3   \n",
              "2        Primaria/C. EGB Completa                               7   \n",
              "3        Primaria/C. EGB Completa                               7   \n",
              "4                 Sin especificar                               4   \n",
              "\n",
              "  intervalos_de_peso_al_nacer_nombre  cantidad_nacimientos  \n",
              "0                        1500 a 1999                     1  \n",
              "1                        1000 a 1499                     1  \n",
              "2                        3000 a 3499                     3  \n",
              "3                        3000 a 3499                     2  \n",
              "4                        1500 a 1999                     1  "
            ],
            "text/html": [
              "\n",
              "  <div id=\"df-677d0e9f-eea7-4ded-b98f-6b01694c0f94\">\n",
              "    <div class=\"colab-df-container\">\n",
              "      <div>\n",
              "<style scoped>\n",
              "    .dataframe tbody tr th:only-of-type {\n",
              "        vertical-align: middle;\n",
              "    }\n",
              "\n",
              "    .dataframe tbody tr th {\n",
              "        vertical-align: top;\n",
              "    }\n",
              "\n",
              "    .dataframe thead th {\n",
              "        text-align: right;\n",
              "    }\n",
              "</style>\n",
              "<table border=\"1\" class=\"dataframe\">\n",
              "  <thead>\n",
              "    <tr style=\"text-align: right;\">\n",
              "      <th></th>\n",
              "      <th>Letra</th>\n",
              "      <th>Nombre</th>\n",
              "      <th>jurisdiccion_de_residencia_id</th>\n",
              "      <th>jurisdiccion_de_residencia_nombre</th>\n",
              "      <th>tipo_de_parto_id</th>\n",
              "      <th>tipo_de_parto_nombre</th>\n",
              "      <th>sexo</th>\n",
              "      <th>sexo_nombre</th>\n",
              "      <th>edad_de_la_madre_grupos_id</th>\n",
              "      <th>edad_de_la_madre_grupos_nombre</th>\n",
              "      <th>semanas_de_gestacion_id</th>\n",
              "      <th>semanas_de_gestacion_nombre</th>\n",
              "      <th>instruccion_de_la_madre_id</th>\n",
              "      <th>instruccion_de_la_madre_nombre</th>\n",
              "      <th>Intervalos_de_peso_al_nacer_id</th>\n",
              "      <th>intervalos_de_peso_al_nacer_nombre</th>\n",
              "      <th>cantidad_nacimientos</th>\n",
              "    </tr>\n",
              "  </thead>\n",
              "  <tbody>\n",
              "    <tr>\n",
              "      <th>0</th>\n",
              "      <td>B</td>\n",
              "      <td>Buenos Aires</td>\n",
              "      <td>6</td>\n",
              "      <td>Buenos Aires</td>\n",
              "      <td>1</td>\n",
              "      <td>Simple</td>\n",
              "      <td>1</td>\n",
              "      <td>Varón</td>\n",
              "      <td>5</td>\n",
              "      <td>30 a 34</td>\n",
              "      <td>8</td>\n",
              "      <td>Sin especificar</td>\n",
              "      <td>7</td>\n",
              "      <td>Terciaria/Universitaria Comple</td>\n",
              "      <td>4</td>\n",
              "      <td>1500 a 1999</td>\n",
              "      <td>1</td>\n",
              "    </tr>\n",
              "    <tr>\n",
              "      <th>1</th>\n",
              "      <td>B</td>\n",
              "      <td>Buenos Aires</td>\n",
              "      <td>6</td>\n",
              "      <td>Buenos Aires</td>\n",
              "      <td>2</td>\n",
              "      <td>Múltiple</td>\n",
              "      <td>1</td>\n",
              "      <td>Varón</td>\n",
              "      <td>2</td>\n",
              "      <td>15 a 19</td>\n",
              "      <td>5</td>\n",
              "      <td>32 a 36</td>\n",
              "      <td>5</td>\n",
              "      <td>Secundaria/Polimodal Completa</td>\n",
              "      <td>3</td>\n",
              "      <td>1000 a 1499</td>\n",
              "      <td>1</td>\n",
              "    </tr>\n",
              "    <tr>\n",
              "      <th>2</th>\n",
              "      <td>B</td>\n",
              "      <td>Buenos Aires</td>\n",
              "      <td>6</td>\n",
              "      <td>Buenos Aires</td>\n",
              "      <td>2</td>\n",
              "      <td>Múltiple</td>\n",
              "      <td>2</td>\n",
              "      <td>Mujer</td>\n",
              "      <td>5</td>\n",
              "      <td>30 a 34</td>\n",
              "      <td>6</td>\n",
              "      <td>37 a 41</td>\n",
              "      <td>3</td>\n",
              "      <td>Primaria/C. EGB Completa</td>\n",
              "      <td>7</td>\n",
              "      <td>3000 a 3499</td>\n",
              "      <td>3</td>\n",
              "    </tr>\n",
              "    <tr>\n",
              "      <th>3</th>\n",
              "      <td>B</td>\n",
              "      <td>Buenos Aires</td>\n",
              "      <td>6</td>\n",
              "      <td>Buenos Aires</td>\n",
              "      <td>1</td>\n",
              "      <td>Simple</td>\n",
              "      <td>9</td>\n",
              "      <td>Sin espeficar</td>\n",
              "      <td>4</td>\n",
              "      <td>25 a 29</td>\n",
              "      <td>5</td>\n",
              "      <td>32 a 36</td>\n",
              "      <td>3</td>\n",
              "      <td>Primaria/C. EGB Completa</td>\n",
              "      <td>7</td>\n",
              "      <td>3000 a 3499</td>\n",
              "      <td>2</td>\n",
              "    </tr>\n",
              "    <tr>\n",
              "      <th>4</th>\n",
              "      <td>B</td>\n",
              "      <td>Buenos Aires</td>\n",
              "      <td>6</td>\n",
              "      <td>Buenos Aires</td>\n",
              "      <td>2</td>\n",
              "      <td>Múltiple</td>\n",
              "      <td>2</td>\n",
              "      <td>Mujer</td>\n",
              "      <td>8</td>\n",
              "      <td>De 45 y más</td>\n",
              "      <td>3</td>\n",
              "      <td>24 a 27</td>\n",
              "      <td>8</td>\n",
              "      <td>Sin especificar</td>\n",
              "      <td>4</td>\n",
              "      <td>1500 a 1999</td>\n",
              "      <td>1</td>\n",
              "    </tr>\n",
              "  </tbody>\n",
              "</table>\n",
              "</div>\n",
              "      <button class=\"colab-df-convert\" onclick=\"convertToInteractive('df-677d0e9f-eea7-4ded-b98f-6b01694c0f94')\"\n",
              "              title=\"Convert this dataframe to an interactive table.\"\n",
              "              style=\"display:none;\">\n",
              "        \n",
              "  <svg xmlns=\"http://www.w3.org/2000/svg\" height=\"24px\"viewBox=\"0 0 24 24\"\n",
              "       width=\"24px\">\n",
              "    <path d=\"M0 0h24v24H0V0z\" fill=\"none\"/>\n",
              "    <path d=\"M18.56 5.44l.94 2.06.94-2.06 2.06-.94-2.06-.94-.94-2.06-.94 2.06-2.06.94zm-11 1L8.5 8.5l.94-2.06 2.06-.94-2.06-.94L8.5 2.5l-.94 2.06-2.06.94zm10 10l.94 2.06.94-2.06 2.06-.94-2.06-.94-.94-2.06-.94 2.06-2.06.94z\"/><path d=\"M17.41 7.96l-1.37-1.37c-.4-.4-.92-.59-1.43-.59-.52 0-1.04.2-1.43.59L10.3 9.45l-7.72 7.72c-.78.78-.78 2.05 0 2.83L4 21.41c.39.39.9.59 1.41.59.51 0 1.02-.2 1.41-.59l7.78-7.78 2.81-2.81c.8-.78.8-2.07 0-2.86zM5.41 20L4 18.59l7.72-7.72 1.47 1.35L5.41 20z\"/>\n",
              "  </svg>\n",
              "      </button>\n",
              "      \n",
              "  <style>\n",
              "    .colab-df-container {\n",
              "      display:flex;\n",
              "      flex-wrap:wrap;\n",
              "      gap: 12px;\n",
              "    }\n",
              "\n",
              "    .colab-df-convert {\n",
              "      background-color: #E8F0FE;\n",
              "      border: none;\n",
              "      border-radius: 50%;\n",
              "      cursor: pointer;\n",
              "      display: none;\n",
              "      fill: #1967D2;\n",
              "      height: 32px;\n",
              "      padding: 0 0 0 0;\n",
              "      width: 32px;\n",
              "    }\n",
              "\n",
              "    .colab-df-convert:hover {\n",
              "      background-color: #E2EBFA;\n",
              "      box-shadow: 0px 1px 2px rgba(60, 64, 67, 0.3), 0px 1px 3px 1px rgba(60, 64, 67, 0.15);\n",
              "      fill: #174EA6;\n",
              "    }\n",
              "\n",
              "    [theme=dark] .colab-df-convert {\n",
              "      background-color: #3B4455;\n",
              "      fill: #D2E3FC;\n",
              "    }\n",
              "\n",
              "    [theme=dark] .colab-df-convert:hover {\n",
              "      background-color: #434B5C;\n",
              "      box-shadow: 0px 1px 3px 1px rgba(0, 0, 0, 0.15);\n",
              "      filter: drop-shadow(0px 1px 2px rgba(0, 0, 0, 0.3));\n",
              "      fill: #FFFFFF;\n",
              "    }\n",
              "  </style>\n",
              "\n",
              "      <script>\n",
              "        const buttonEl =\n",
              "          document.querySelector('#df-677d0e9f-eea7-4ded-b98f-6b01694c0f94 button.colab-df-convert');\n",
              "        buttonEl.style.display =\n",
              "          google.colab.kernel.accessAllowed ? 'block' : 'none';\n",
              "\n",
              "        async function convertToInteractive(key) {\n",
              "          const element = document.querySelector('#df-677d0e9f-eea7-4ded-b98f-6b01694c0f94');\n",
              "          const dataTable =\n",
              "            await google.colab.kernel.invokeFunction('convertToInteractive',\n",
              "                                                     [key], {});\n",
              "          if (!dataTable) return;\n",
              "\n",
              "          const docLinkHtml = 'Like what you see? Visit the ' +\n",
              "            '<a target=\"_blank\" href=https://colab.research.google.com/notebooks/data_table.ipynb>data table notebook</a>'\n",
              "            + ' to learn more about interactive tables.';\n",
              "          element.innerHTML = '';\n",
              "          dataTable['output_type'] = 'display_data';\n",
              "          await google.colab.output.renderOutput(dataTable, element);\n",
              "          const docLink = document.createElement('div');\n",
              "          docLink.innerHTML = docLinkHtml;\n",
              "          element.appendChild(docLink);\n",
              "        }\n",
              "      </script>\n",
              "    </div>\n",
              "  </div>\n",
              "  "
            ]
          },
          "metadata": {},
          "execution_count": 4
        }
      ]
    },
    {
      "cell_type": "code",
      "source": [
        "# Explorar la distribución de nacimientos en 2018 por provincias discriminado por sexo\n",
        "\n",
        "# Seleccionar los nacimientos de Varón por provincia\n",
        "varon_count = df_Union[df_Union['sexo_nombre'] == 'Varón'].groupby('Letra')['cantidad_nacimientos'].sum()\n",
        "print(varon_count)\n",
        "\n",
        "# Seleccionar los nacimientos de Mujer por provincia\n",
        "mujer_count = df_Union[df_Union['sexo_nombre'] == 'Mujer'].groupby('Letra')['cantidad_nacimientos'].sum()\n",
        "print(mujer_count)"
      ],
      "metadata": {
        "colab": {
          "base_uri": "https://localhost:8080/"
        },
        "id": "sf7AZhNSKeEQ",
        "outputId": "58799638-bd35-4e76-a032-9593d514f73f"
      },
      "execution_count": 5,
      "outputs": [
        {
          "output_type": "stream",
          "name": "stdout",
          "text": [
            "Letra\n",
            "A     12819\n",
            "B    126505\n",
            "C     18362\n",
            "D      3524\n",
            "E     10857\n",
            "F      2909\n",
            "G      9309\n",
            "H     12586\n",
            "J      6902\n",
            "K      3384\n",
            "L      2450\n",
            "M     15306\n",
            "N     12592\n",
            "P      6077\n",
            "Q      5157\n",
            "R      5510\n",
            "S     26249\n",
            "T     14279\n",
            "U      4331\n",
            "V      1398\n",
            "W     10100\n",
            "X     27554\n",
            "Y      5955\n",
            "Z      2629\n",
            "Name: cantidad_nacimientos, dtype: int64\n",
            "Letra\n",
            "A     12384\n",
            "B    118782\n",
            "C     17096\n",
            "D      3526\n",
            "E     10424\n",
            "F      2754\n",
            "G      8759\n",
            "H     12196\n",
            "J      6596\n",
            "K      3312\n",
            "L      2323\n",
            "M     14779\n",
            "N     12265\n",
            "P      5732\n",
            "Q      4965\n",
            "R      5161\n",
            "S     25161\n",
            "T     13636\n",
            "U      4208\n",
            "V      1290\n",
            "W      9748\n",
            "X     26015\n",
            "Y      5852\n",
            "Z      2482\n",
            "Name: cantidad_nacimientos, dtype: int64\n"
          ]
        }
      ]
    },
    {
      "cell_type": "code",
      "source": [
        "# Ejecutar éste Codigo para crear un Array con Tipo de Nacimiento y Descripción\n",
        "Tipo = [\"1\", \"2\", \"3\"]\n",
        "Descripcion = [\"Prematuros\", \"A término\", \"Sin especificar\"]\n",
        "Total_M = [0,0,0]\n",
        "Total_V = [0,0,0]\n",
        "Total = [0,0,0]"
      ],
      "metadata": {
        "id": "Znvv5qYeK5M5"
      },
      "execution_count": 6,
      "outputs": []
    },
    {
      "cell_type": "markdown",
      "source": [
        "\n",
        "\n",
        "*   **Nacimientos Prematuros**: Hasta menos de 37 semana de gestación inclusive.\n",
        "*   **Nacimientos a Término**: Después de semana 38 inclusive.\n",
        "\n",
        "Los códigos de semanas_de_gestacion_id son: **. 1** 'Menos de 22' **. 2** '22 a 23' **. 3** '24 a 27' **. 4** '28 a 31' **. 5** '32 a 36' **. 6** '37 a 41' **. 7** '42 y más' **. 8** 'Sin especificar'"
      ],
      "metadata": {
        "id": "20rFh5-iLTQu"
      }
    },
    {
      "cell_type": "code",
      "source": [
        "# Agrupar según semanas_de_gestacion_id y sumar los nacimientos correspondientes a \"prematuro\", \"a término\" y \"sin especificar\" por sexo:\n",
        "# MUJER\n",
        "# Sumar total de nacimientos PREMATUROS MUJER\n",
        "Total_M[0] = df_Union[(df_Union['semanas_de_gestacion_id'] <= 5) & (df_Union['sexo_nombre'] == 'Mujer')]['cantidad_nacimientos'].sum()\n",
        "# Sumar total de nacimientos A TERMINO MUJER\n",
        "Total_M[1] = df_Union[(df_Union['semanas_de_gestacion_id'] >= 6)  &  (df_Union[\"semanas_de_gestacion_id\"]<= 7) & (df_Union['sexo_nombre'] == 'Mujer')]['cantidad_nacimientos'].sum()\n",
        "# Sumar total de nacimientos SIN ESPECIFICAR MUJER\n",
        "Total_M[2] = df_Union[(df_Union['semanas_de_gestacion_id'] == 8) & (df_Union['sexo_nombre'] == 'Mujer')]['cantidad_nacimientos'].sum()\n",
        "\n",
        "# VARON\n",
        "# Sumar total de nacimientos PREMATUROS VARÓN\n",
        "Total_V[0] = df_Union[(df_Union['semanas_de_gestacion_id'] <= 5) & (df_Union['sexo_nombre'] == 'Varón')]['cantidad_nacimientos'].sum()\n",
        "# Sumar total de nacimientos A TERMINO VARÓN\n",
        "Total_V[1] = df_Union[(df_Union['semanas_de_gestacion_id'] >= 6)  &  (df_Union[\"semanas_de_gestacion_id\"]<= 7) & (df_Union['sexo_nombre'] == 'Varón')]['cantidad_nacimientos'].sum()\n",
        "# Sumar total de nacimientos SIN ESPECIFICAR VARÓN\n",
        "Total_V[2] = df_Union[(df_Union['semanas_de_gestacion_id'] == 8) & (df_Union['sexo_nombre'] == 'Varón')]['cantidad_nacimientos'].sum()\n",
        "\n",
        "# TOTAL\n",
        "# Sumar total de nacimientos PREMATUROS\n",
        "Total[0]  = df_Union[df_Union['semanas_de_gestacion_id'] <= 5]['cantidad_nacimientos'].sum()\n",
        "# Sumar total de nacimientos A TERMINO\n",
        "Total[1] = df_Union[(df_Union['semanas_de_gestacion_id'] >= 6)  &  (df_Union[\"semanas_de_gestacion_id\"]<= 7)]['cantidad_nacimientos'].sum()\n",
        "# Sumar total de nacimientos SIN ESPECIFICAR\n",
        "Total[2] = df_Union[df_Union['semanas_de_gestacion_id'] == 8]['cantidad_nacimientos'].sum()"
      ],
      "metadata": {
        "id": "HTc8KCQuMrDP"
      },
      "execution_count": 7,
      "outputs": []
    },
    {
      "cell_type": "code",
      "source": [
        "# Diferencia de cantidad de nacimientos en 2018 entre Mujeres y Varones\n",
        "Diferencia_Prematuros = Total_V[0] - Total_M[0]\n",
        "print('La diferencia numérica de Nacimientos Prematuros en 2018 entre mujeres y varones es de ', Diferencia_Prematuros)"
      ],
      "metadata": {
        "colab": {
          "base_uri": "https://localhost:8080/"
        },
        "id": "anRXG1ncNVFM",
        "outputId": "0e6d920c-8f1b-42b0-8fb9-287ac59a80a4"
      },
      "execution_count": 8,
      "outputs": [
        {
          "output_type": "stream",
          "name": "stdout",
          "text": [
            "La diferencia numérica de Nacimientos Prematuros en 2018 entre mujeres y varones es de  3061\n"
          ]
        }
      ]
    },
    {
      "cell_type": "markdown",
      "metadata": {
        "id": "-MzvHtETjNnf"
      },
      "source": [
        "# **CONSULTAS Y GRÁFICOS**\n"
      ]
    },
    {
      "cell_type": "code",
      "source": [
        "# GRAFICAR DISTRIBUCION DE NACIMIENTOS EN 2018 POR PROVINCIA DISCRIMINADO POR SEXO.\n",
        "co = np.arange(len(df_Letra))\n",
        "an = 0.40\n",
        "# Definir lugar donde se realiza la gráfica y asignar parámetros\n",
        "fig, ax = plt.subplots()\n",
        "ax.bar(co - an/2, varon_count, an, label= 'Varón')\n",
        "ax.bar(co + an/2, mujer_count, an, label= 'Mujer')\n",
        "\n",
        "ax.set_title('Distribución de Nacimientos en 2018 por provincia y por sexo')\n",
        "ax.set_xlabel('Provincia')\n",
        "ax.set_ylabel('Cantidad')\n",
        "ax.set_xticks(co)\n",
        "ax.set_xticklabels(df_Letra[\"Letra\"])\n",
        "\n",
        "plt.legend()\n",
        "plt.show()"
      ],
      "metadata": {
        "colab": {
          "base_uri": "https://localhost:8080/",
          "height": 472
        },
        "id": "_anqABuMKkXV",
        "outputId": "47982965-56bf-43b3-f2f6-bdf0d710c990"
      },
      "execution_count": 9,
      "outputs": [
        {
          "output_type": "display_data",
          "data": {
            "text/plain": [
              "<Figure size 640x480 with 1 Axes>"
            ],
            "image/png": "[encoded data removed]"
          },
          "metadata": {}
        }
      ]
    },
    {
      "cell_type": "code",
      "source": [
        "# GRAFICAR COMPARATIVOS DE NACIMIENTOS EN 2018 DE PREMATUROS Y A TERMINO POR SEXO.\n",
        "# Crear la figura y los subgráficos\n",
        "fig, (ax1, ax2) = plt.subplots(1, 2, figsize=(10, 10))\n",
        "explode = (0.1, 0, 0)  # Expande la primera rebanada\n",
        "# Grafico de torta para Mujer\n",
        "ax1.pie(Total_M, explode=explode, labels=Descripcion, autopct='%1.1f%%')\n",
        "ax1.set_title('Nacimientos 2018 por semanas gestación: Mujer')\n",
        "\n",
        "# Grafico de torta para Varón\n",
        "ax2.pie(Total_V, explode=explode, labels=Descripcion, autopct='%1.1f%%')\n",
        "ax2.set_title('Nacimientos 2018 por semanas gestación: Varón')\n",
        "# Crear las leyendas para cada gráfico de torta\n",
        "legend1 = ax1.legend(loc='upper left')\n",
        "legend2 = ax2.legend(loc='upper right')\n",
        "\n",
        "# Ajustar la disposición de los subgráficos y mostrar la figura\n",
        "plt.tight_layout()\n",
        "plt.show()"
      ],
      "metadata": {
        "colab": {
          "base_uri": "https://localhost:8080/",
          "height": 415
        },
        "id": "4wNhfkEuNnfS",
        "outputId": "757406ef-9c6f-4901-ef91-5dd82644128a"
      },
      "execution_count": 10,
      "outputs": [
        {
          "output_type": "display_data",
          "data": {
            "text/plain": [
              "<Figure size 1000x1000 with 2 Axes>"
            ],
            "image/png": "[encoded data removed]"
          },
          "metadata": {}
        }
      ]
    },
    {
      "cell_type": "markdown",
      "metadata": {
        "id": "tehe8dv0jNnf"
      },
      "source": [
        "RESULTADOS:"
      ]
    },
    {
      "cell_type": "markdown",
      "metadata": {
        "id": "4sWLxJFBjNnf"
      },
      "source": [
        "# **CONCLUSIONES:**\n"
      ]
    },
    {
      "cell_type": "markdown",
      "source": [
        "En el gráfico de barras se observa que los nacimientos de varones es un poco mas elevado en cada provincia que el nacimiento de mujeres."
      ],
      "metadata": {
        "id": "Ge1Sn9q8PK6r"
      }
    },
    {
      "cell_type": "markdown",
      "source": [
        "En los gráficos comparativos de acuerdo a los datos de nacimientos durante el año 2018 se observa en los gráficos de torta que los nacimientos prematuros de varones es 0,5% superior al de nacimientos prematuros de mujeres.\n",
        "\n"
      ],
      "metadata": {
        "id": "S-GBT05tN_Uj"
      }
    }
  ],
  "metadata": {
    "colab": {
      "provenance": [],
      "include_colab_link": true
    },
    "kernelspec": {
      "display_name": "Python 3",
      "name": "python3"
    },
    "language_info": {
      "codemirror_mode": {
        "name": "ipython",
        "version": 3
      },
      "file_extension": ".py",
      "mimetype": "text/x-python",
      "name": "python",
      "nbconvert_exporter": "python",
      "pygments_lexer": "ipython3",
      "version": "3.10.11"
    }
  },
  "nbformat": 4,
  "nbformat_minor": 0
}